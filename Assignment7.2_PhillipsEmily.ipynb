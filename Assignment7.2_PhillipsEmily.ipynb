{
 "cells": [
  {
   "cell_type": "code",
   "execution_count": 1,
   "id": "9a3e5b82",
   "metadata": {},
   "outputs": [],
   "source": [
    "import pandas as pd\n",
    "pd.set_option('display.max_rows', 250)"
   ]
  },
  {
   "cell_type": "markdown",
   "id": "d807bb68",
   "metadata": {},
   "source": [
    "# Reading in Data"
   ]
  },
  {
   "cell_type": "markdown",
   "id": "ea55e27f",
   "metadata": {},
   "source": [
    "Since the training dataset is so large (about 37 million rows), I am going to handle this by reading the data in chunks of 500,000 records.\n",
    "\n",
    "Once these are read in, I will append them all to a list which I will then concatenate into the dataframe which will be used for the rest of the analysis."
   ]
  },
  {
   "cell_type": "code",
   "execution_count": 2,
   "id": "dc802129",
   "metadata": {},
   "outputs": [],
   "source": [
    "#train.csv\n",
    "#reading in training data by chunks od 500\n",
    "train_reader = pd.read_csv(\"C:/Users/phill/OneDrive/Desktop/Predictive-630/data/expedia-hotel-recommendations/train.csv\",chunksize=500000)\n",
    "\n",
    "#concatenating chunks\n",
    "dfList = []\n",
    "for df in train_reader:\n",
    "    dfList.append(df)\n",
    "    \n",
    "train_df = pd.concat(dfList,sort=False)"
   ]
  },
  {
   "cell_type": "code",
   "execution_count": 3,
   "id": "818a3284",
   "metadata": {
    "scrolled": true
   },
   "outputs": [
    {
     "data": {
      "text/html": [
       "<div>\n",
       "<style scoped>\n",
       "    .dataframe tbody tr th:only-of-type {\n",
       "        vertical-align: middle;\n",
       "    }\n",
       "\n",
       "    .dataframe tbody tr th {\n",
       "        vertical-align: top;\n",
       "    }\n",
       "\n",
       "    .dataframe thead th {\n",
       "        text-align: right;\n",
       "    }\n",
       "</style>\n",
       "<table border=\"1\" class=\"dataframe\">\n",
       "  <thead>\n",
       "    <tr style=\"text-align: right;\">\n",
       "      <th></th>\n",
       "      <th>date_time</th>\n",
       "      <th>site_name</th>\n",
       "      <th>posa_continent</th>\n",
       "      <th>user_location_country</th>\n",
       "      <th>user_location_region</th>\n",
       "      <th>user_location_city</th>\n",
       "      <th>orig_destination_distance</th>\n",
       "      <th>user_id</th>\n",
       "      <th>is_mobile</th>\n",
       "      <th>is_package</th>\n",
       "      <th>...</th>\n",
       "      <th>srch_children_cnt</th>\n",
       "      <th>srch_rm_cnt</th>\n",
       "      <th>srch_destination_id</th>\n",
       "      <th>srch_destination_type_id</th>\n",
       "      <th>is_booking</th>\n",
       "      <th>cnt</th>\n",
       "      <th>hotel_continent</th>\n",
       "      <th>hotel_country</th>\n",
       "      <th>hotel_market</th>\n",
       "      <th>hotel_cluster</th>\n",
       "    </tr>\n",
       "  </thead>\n",
       "  <tbody>\n",
       "    <tr>\n",
       "      <th>0</th>\n",
       "      <td>2014-08-11 07:46:59</td>\n",
       "      <td>2</td>\n",
       "      <td>3</td>\n",
       "      <td>66</td>\n",
       "      <td>348</td>\n",
       "      <td>48862</td>\n",
       "      <td>2234.2641</td>\n",
       "      <td>12</td>\n",
       "      <td>0</td>\n",
       "      <td>1</td>\n",
       "      <td>...</td>\n",
       "      <td>0</td>\n",
       "      <td>1</td>\n",
       "      <td>8250</td>\n",
       "      <td>1</td>\n",
       "      <td>0</td>\n",
       "      <td>3</td>\n",
       "      <td>2</td>\n",
       "      <td>50</td>\n",
       "      <td>628</td>\n",
       "      <td>1</td>\n",
       "    </tr>\n",
       "    <tr>\n",
       "      <th>1</th>\n",
       "      <td>2014-08-11 08:22:12</td>\n",
       "      <td>2</td>\n",
       "      <td>3</td>\n",
       "      <td>66</td>\n",
       "      <td>348</td>\n",
       "      <td>48862</td>\n",
       "      <td>2234.2641</td>\n",
       "      <td>12</td>\n",
       "      <td>0</td>\n",
       "      <td>1</td>\n",
       "      <td>...</td>\n",
       "      <td>0</td>\n",
       "      <td>1</td>\n",
       "      <td>8250</td>\n",
       "      <td>1</td>\n",
       "      <td>1</td>\n",
       "      <td>1</td>\n",
       "      <td>2</td>\n",
       "      <td>50</td>\n",
       "      <td>628</td>\n",
       "      <td>1</td>\n",
       "    </tr>\n",
       "    <tr>\n",
       "      <th>2</th>\n",
       "      <td>2014-08-11 08:24:33</td>\n",
       "      <td>2</td>\n",
       "      <td>3</td>\n",
       "      <td>66</td>\n",
       "      <td>348</td>\n",
       "      <td>48862</td>\n",
       "      <td>2234.2641</td>\n",
       "      <td>12</td>\n",
       "      <td>0</td>\n",
       "      <td>0</td>\n",
       "      <td>...</td>\n",
       "      <td>0</td>\n",
       "      <td>1</td>\n",
       "      <td>8250</td>\n",
       "      <td>1</td>\n",
       "      <td>0</td>\n",
       "      <td>1</td>\n",
       "      <td>2</td>\n",
       "      <td>50</td>\n",
       "      <td>628</td>\n",
       "      <td>1</td>\n",
       "    </tr>\n",
       "    <tr>\n",
       "      <th>3</th>\n",
       "      <td>2014-08-09 18:05:16</td>\n",
       "      <td>2</td>\n",
       "      <td>3</td>\n",
       "      <td>66</td>\n",
       "      <td>442</td>\n",
       "      <td>35390</td>\n",
       "      <td>913.1932</td>\n",
       "      <td>93</td>\n",
       "      <td>0</td>\n",
       "      <td>0</td>\n",
       "      <td>...</td>\n",
       "      <td>0</td>\n",
       "      <td>1</td>\n",
       "      <td>14984</td>\n",
       "      <td>1</td>\n",
       "      <td>0</td>\n",
       "      <td>1</td>\n",
       "      <td>2</td>\n",
       "      <td>50</td>\n",
       "      <td>1457</td>\n",
       "      <td>80</td>\n",
       "    </tr>\n",
       "    <tr>\n",
       "      <th>4</th>\n",
       "      <td>2014-08-09 18:08:18</td>\n",
       "      <td>2</td>\n",
       "      <td>3</td>\n",
       "      <td>66</td>\n",
       "      <td>442</td>\n",
       "      <td>35390</td>\n",
       "      <td>913.6259</td>\n",
       "      <td>93</td>\n",
       "      <td>0</td>\n",
       "      <td>0</td>\n",
       "      <td>...</td>\n",
       "      <td>0</td>\n",
       "      <td>1</td>\n",
       "      <td>14984</td>\n",
       "      <td>1</td>\n",
       "      <td>0</td>\n",
       "      <td>1</td>\n",
       "      <td>2</td>\n",
       "      <td>50</td>\n",
       "      <td>1457</td>\n",
       "      <td>21</td>\n",
       "    </tr>\n",
       "  </tbody>\n",
       "</table>\n",
       "<p>5 rows × 24 columns</p>\n",
       "</div>"
      ],
      "text/plain": [
       "             date_time  site_name  posa_continent  user_location_country  \\\n",
       "0  2014-08-11 07:46:59          2               3                     66   \n",
       "1  2014-08-11 08:22:12          2               3                     66   \n",
       "2  2014-08-11 08:24:33          2               3                     66   \n",
       "3  2014-08-09 18:05:16          2               3                     66   \n",
       "4  2014-08-09 18:08:18          2               3                     66   \n",
       "\n",
       "   user_location_region  user_location_city  orig_destination_distance  \\\n",
       "0                   348               48862                  2234.2641   \n",
       "1                   348               48862                  2234.2641   \n",
       "2                   348               48862                  2234.2641   \n",
       "3                   442               35390                   913.1932   \n",
       "4                   442               35390                   913.6259   \n",
       "\n",
       "   user_id  is_mobile  is_package  ...  srch_children_cnt srch_rm_cnt  \\\n",
       "0       12          0           1  ...                  0           1   \n",
       "1       12          0           1  ...                  0           1   \n",
       "2       12          0           0  ...                  0           1   \n",
       "3       93          0           0  ...                  0           1   \n",
       "4       93          0           0  ...                  0           1   \n",
       "\n",
       "  srch_destination_id  srch_destination_type_id  is_booking  cnt  \\\n",
       "0                8250                         1           0    3   \n",
       "1                8250                         1           1    1   \n",
       "2                8250                         1           0    1   \n",
       "3               14984                         1           0    1   \n",
       "4               14984                         1           0    1   \n",
       "\n",
       "   hotel_continent  hotel_country  hotel_market  hotel_cluster  \n",
       "0                2             50           628              1  \n",
       "1                2             50           628              1  \n",
       "2                2             50           628              1  \n",
       "3                2             50          1457             80  \n",
       "4                2             50          1457             21  \n",
       "\n",
       "[5 rows x 24 columns]"
      ]
     },
     "execution_count": 3,
     "metadata": {},
     "output_type": "execute_result"
    }
   ],
   "source": [
    "train_df.head()"
   ]
  },
  {
   "cell_type": "code",
   "execution_count": 4,
   "id": "7eae2fd9",
   "metadata": {},
   "outputs": [
    {
     "name": "stdout",
     "output_type": "stream",
     "text": [
      "(37670293, 24)\n",
      "train.csv: 37,670,293 rows and 24 columns\n"
     ]
    }
   ],
   "source": [
    "print(train_df.shape)\n",
    "print(\"train.csv: 37,670,293 rows and 24 columns\")"
   ]
  },
  {
   "cell_type": "code",
   "execution_count": 5,
   "id": "22f99dda",
   "metadata": {},
   "outputs": [],
   "source": [
    "#destination.csv\n",
    "destination_df = pd.read_csv(\"C:/Users/phill/OneDrive/Desktop/Predictive-630/data/expedia-hotel-recommendations/destinations.csv\")"
   ]
  },
  {
   "cell_type": "code",
   "execution_count": 6,
   "id": "bee2cfc5",
   "metadata": {},
   "outputs": [
    {
     "data": {
      "text/html": [
       "<div>\n",
       "<style scoped>\n",
       "    .dataframe tbody tr th:only-of-type {\n",
       "        vertical-align: middle;\n",
       "    }\n",
       "\n",
       "    .dataframe tbody tr th {\n",
       "        vertical-align: top;\n",
       "    }\n",
       "\n",
       "    .dataframe thead th {\n",
       "        text-align: right;\n",
       "    }\n",
       "</style>\n",
       "<table border=\"1\" class=\"dataframe\">\n",
       "  <thead>\n",
       "    <tr style=\"text-align: right;\">\n",
       "      <th></th>\n",
       "      <th>srch_destination_id</th>\n",
       "      <th>d1</th>\n",
       "      <th>d2</th>\n",
       "      <th>d3</th>\n",
       "      <th>d4</th>\n",
       "      <th>d5</th>\n",
       "      <th>d6</th>\n",
       "      <th>d7</th>\n",
       "      <th>d8</th>\n",
       "      <th>d9</th>\n",
       "      <th>...</th>\n",
       "      <th>d140</th>\n",
       "      <th>d141</th>\n",
       "      <th>d142</th>\n",
       "      <th>d143</th>\n",
       "      <th>d144</th>\n",
       "      <th>d145</th>\n",
       "      <th>d146</th>\n",
       "      <th>d147</th>\n",
       "      <th>d148</th>\n",
       "      <th>d149</th>\n",
       "    </tr>\n",
       "  </thead>\n",
       "  <tbody>\n",
       "    <tr>\n",
       "      <th>0</th>\n",
       "      <td>0</td>\n",
       "      <td>-2.198657</td>\n",
       "      <td>-2.198657</td>\n",
       "      <td>-2.198657</td>\n",
       "      <td>-2.198657</td>\n",
       "      <td>-2.198657</td>\n",
       "      <td>-1.897627</td>\n",
       "      <td>-2.198657</td>\n",
       "      <td>-2.198657</td>\n",
       "      <td>-1.897627</td>\n",
       "      <td>...</td>\n",
       "      <td>-2.198657</td>\n",
       "      <td>-2.198657</td>\n",
       "      <td>-2.198657</td>\n",
       "      <td>-2.198657</td>\n",
       "      <td>-2.198657</td>\n",
       "      <td>-2.198657</td>\n",
       "      <td>-2.198657</td>\n",
       "      <td>-2.198657</td>\n",
       "      <td>-2.198657</td>\n",
       "      <td>-2.198657</td>\n",
       "    </tr>\n",
       "    <tr>\n",
       "      <th>1</th>\n",
       "      <td>1</td>\n",
       "      <td>-2.181690</td>\n",
       "      <td>-2.181690</td>\n",
       "      <td>-2.181690</td>\n",
       "      <td>-2.082564</td>\n",
       "      <td>-2.181690</td>\n",
       "      <td>-2.165028</td>\n",
       "      <td>-2.181690</td>\n",
       "      <td>-2.181690</td>\n",
       "      <td>-2.031597</td>\n",
       "      <td>...</td>\n",
       "      <td>-2.165028</td>\n",
       "      <td>-2.181690</td>\n",
       "      <td>-2.165028</td>\n",
       "      <td>-2.181690</td>\n",
       "      <td>-2.181690</td>\n",
       "      <td>-2.165028</td>\n",
       "      <td>-2.181690</td>\n",
       "      <td>-2.181690</td>\n",
       "      <td>-2.181690</td>\n",
       "      <td>-2.181690</td>\n",
       "    </tr>\n",
       "    <tr>\n",
       "      <th>2</th>\n",
       "      <td>2</td>\n",
       "      <td>-2.183490</td>\n",
       "      <td>-2.224164</td>\n",
       "      <td>-2.224164</td>\n",
       "      <td>-2.189562</td>\n",
       "      <td>-2.105819</td>\n",
       "      <td>-2.075407</td>\n",
       "      <td>-2.224164</td>\n",
       "      <td>-2.118483</td>\n",
       "      <td>-2.140393</td>\n",
       "      <td>...</td>\n",
       "      <td>-2.224164</td>\n",
       "      <td>-2.224164</td>\n",
       "      <td>-2.196379</td>\n",
       "      <td>-2.224164</td>\n",
       "      <td>-2.192009</td>\n",
       "      <td>-2.224164</td>\n",
       "      <td>-2.224164</td>\n",
       "      <td>-2.224164</td>\n",
       "      <td>-2.224164</td>\n",
       "      <td>-2.057548</td>\n",
       "    </tr>\n",
       "    <tr>\n",
       "      <th>3</th>\n",
       "      <td>3</td>\n",
       "      <td>-2.177409</td>\n",
       "      <td>-2.177409</td>\n",
       "      <td>-2.177409</td>\n",
       "      <td>-2.177409</td>\n",
       "      <td>-2.177409</td>\n",
       "      <td>-2.115485</td>\n",
       "      <td>-2.177409</td>\n",
       "      <td>-2.177409</td>\n",
       "      <td>-2.177409</td>\n",
       "      <td>...</td>\n",
       "      <td>-2.161081</td>\n",
       "      <td>-2.177409</td>\n",
       "      <td>-2.177409</td>\n",
       "      <td>-2.177409</td>\n",
       "      <td>-2.177409</td>\n",
       "      <td>-2.177409</td>\n",
       "      <td>-2.177409</td>\n",
       "      <td>-2.177409</td>\n",
       "      <td>-2.177409</td>\n",
       "      <td>-2.177409</td>\n",
       "    </tr>\n",
       "    <tr>\n",
       "      <th>4</th>\n",
       "      <td>4</td>\n",
       "      <td>-2.189562</td>\n",
       "      <td>-2.187783</td>\n",
       "      <td>-2.194008</td>\n",
       "      <td>-2.171153</td>\n",
       "      <td>-2.152303</td>\n",
       "      <td>-2.056618</td>\n",
       "      <td>-2.194008</td>\n",
       "      <td>-2.194008</td>\n",
       "      <td>-2.145911</td>\n",
       "      <td>...</td>\n",
       "      <td>-2.187356</td>\n",
       "      <td>-2.194008</td>\n",
       "      <td>-2.191779</td>\n",
       "      <td>-2.194008</td>\n",
       "      <td>-2.194008</td>\n",
       "      <td>-2.185161</td>\n",
       "      <td>-2.194008</td>\n",
       "      <td>-2.194008</td>\n",
       "      <td>-2.194008</td>\n",
       "      <td>-2.188037</td>\n",
       "    </tr>\n",
       "  </tbody>\n",
       "</table>\n",
       "<p>5 rows × 150 columns</p>\n",
       "</div>"
      ],
      "text/plain": [
       "   srch_destination_id        d1        d2        d3        d4        d5  \\\n",
       "0                    0 -2.198657 -2.198657 -2.198657 -2.198657 -2.198657   \n",
       "1                    1 -2.181690 -2.181690 -2.181690 -2.082564 -2.181690   \n",
       "2                    2 -2.183490 -2.224164 -2.224164 -2.189562 -2.105819   \n",
       "3                    3 -2.177409 -2.177409 -2.177409 -2.177409 -2.177409   \n",
       "4                    4 -2.189562 -2.187783 -2.194008 -2.171153 -2.152303   \n",
       "\n",
       "         d6        d7        d8        d9  ...      d140      d141      d142  \\\n",
       "0 -1.897627 -2.198657 -2.198657 -1.897627  ... -2.198657 -2.198657 -2.198657   \n",
       "1 -2.165028 -2.181690 -2.181690 -2.031597  ... -2.165028 -2.181690 -2.165028   \n",
       "2 -2.075407 -2.224164 -2.118483 -2.140393  ... -2.224164 -2.224164 -2.196379   \n",
       "3 -2.115485 -2.177409 -2.177409 -2.177409  ... -2.161081 -2.177409 -2.177409   \n",
       "4 -2.056618 -2.194008 -2.194008 -2.145911  ... -2.187356 -2.194008 -2.191779   \n",
       "\n",
       "       d143      d144      d145      d146      d147      d148      d149  \n",
       "0 -2.198657 -2.198657 -2.198657 -2.198657 -2.198657 -2.198657 -2.198657  \n",
       "1 -2.181690 -2.181690 -2.165028 -2.181690 -2.181690 -2.181690 -2.181690  \n",
       "2 -2.224164 -2.192009 -2.224164 -2.224164 -2.224164 -2.224164 -2.057548  \n",
       "3 -2.177409 -2.177409 -2.177409 -2.177409 -2.177409 -2.177409 -2.177409  \n",
       "4 -2.194008 -2.194008 -2.185161 -2.194008 -2.194008 -2.194008 -2.188037  \n",
       "\n",
       "[5 rows x 150 columns]"
      ]
     },
     "execution_count": 6,
     "metadata": {},
     "output_type": "execute_result"
    }
   ],
   "source": [
    "destination_df.head()"
   ]
  },
  {
   "cell_type": "code",
   "execution_count": 7,
   "id": "49352f1c",
   "metadata": {},
   "outputs": [
    {
     "name": "stdout",
     "output_type": "stream",
     "text": [
      "(62106, 150)\n",
      "destinations.csv: 62,106 rows and 150 columns\n"
     ]
    }
   ],
   "source": [
    "print(destination_df.shape)\n",
    "print(\"destinations.csv: 62,106 rows and 150 columns\")"
   ]
  },
  {
   "cell_type": "markdown",
   "id": "7a73db66",
   "metadata": {},
   "source": [
    "# EDA on train.csv"
   ]
  },
  {
   "cell_type": "markdown",
   "id": "85bba7ee",
   "metadata": {},
   "source": [
    "### Missing Data?"
   ]
  },
  {
   "cell_type": "code",
   "execution_count": 8,
   "id": "5f67ff4c",
   "metadata": {},
   "outputs": [
    {
     "name": "stdout",
     "output_type": "stream",
     "text": [
      "date_time: False\n",
      "site_name: False\n",
      "posa_continent: False\n",
      "user_location_country: False\n",
      "user_location_region: False\n",
      "user_location_city: False\n",
      "orig_destination_distance: True\n",
      "user_id: False\n",
      "is_mobile: False\n",
      "is_package: False\n",
      "channel: False\n",
      "srch_ci: True\n",
      "srch_co: True\n",
      "srch_adults_cnt: False\n",
      "srch_children_cnt: False\n",
      "srch_rm_cnt: False\n",
      "srch_destination_id: False\n",
      "srch_destination_type_id: False\n",
      "is_booking: False\n",
      "cnt: False\n",
      "hotel_continent: False\n",
      "hotel_country: False\n",
      "hotel_market: False\n",
      "hotel_cluster: False\n"
     ]
    }
   ],
   "source": [
    "#loop through columns in dataframe\n",
    "#check for any NaN values\n",
    "for col in train_df.columns:\n",
    "    print(col + \": \" + str(train_df[col].isnull().values.any()))"
   ]
  },
  {
   "cell_type": "markdown",
   "id": "79a3b184",
   "metadata": {},
   "source": [
    "Missing values in the following columns: orig_destination_distance, srch_ci (check-in date) & srch_co (check-out date). \n",
    "\n",
    "A null in 'orig_destination_distance' means the distance could not be calculated."
   ]
  },
  {
   "cell_type": "code",
   "execution_count": 9,
   "id": "576a2665",
   "metadata": {},
   "outputs": [
    {
     "data": {
      "text/plain": [
       "date_time                           0\n",
       "site_name                           0\n",
       "posa_continent                      0\n",
       "user_location_country               0\n",
       "user_location_region                0\n",
       "user_location_city                  0\n",
       "orig_destination_distance    13525001\n",
       "user_id                             0\n",
       "is_mobile                           0\n",
       "is_package                          0\n",
       "channel                             0\n",
       "srch_ci                         47083\n",
       "srch_co                         47084\n",
       "srch_adults_cnt                     0\n",
       "srch_children_cnt                   0\n",
       "srch_rm_cnt                         0\n",
       "srch_destination_id                 0\n",
       "srch_destination_type_id            0\n",
       "is_booking                          0\n",
       "cnt                                 0\n",
       "hotel_continent                     0\n",
       "hotel_country                       0\n",
       "hotel_market                        0\n",
       "hotel_cluster                       0\n",
       "dtype: int64"
      ]
     },
     "execution_count": 9,
     "metadata": {},
     "output_type": "execute_result"
    }
   ],
   "source": [
    "#finding number of missing values in columns with missing data\n",
    "#getting counts of missing values in data frame\n",
    "train_df.isnull().sum()"
   ]
  },
  {
   "cell_type": "markdown",
   "id": "7b6f0b21",
   "metadata": {},
   "source": [
    "There are 13,525,001 missing values for orig_destination_distance. Given that there are over 37 million rows in the dataset, this is about 1/3 of the dataset that is missing, which is something that should be investigated. However, a null value means the distance could not be calculated so I am not sure they are records that need to be outright removed given that they could contain other telling values.\n",
    "\n",
    "For check-in date and check-out date columns, they contain about 47,000 records so we could look into performing imputation of some kind for those."
   ]
  },
  {
   "cell_type": "code",
   "execution_count": 10,
   "id": "1ae24f32",
   "metadata": {},
   "outputs": [],
   "source": [
    "#getting rows with missing data\n",
    "null_data = train_df[train_df.isnull().any(axis=1)]"
   ]
  },
  {
   "cell_type": "code",
   "execution_count": 11,
   "id": "b2338944",
   "metadata": {
    "scrolled": true
   },
   "outputs": [
    {
     "data": {
      "text/html": [
       "<div>\n",
       "<style scoped>\n",
       "    .dataframe tbody tr th:only-of-type {\n",
       "        vertical-align: middle;\n",
       "    }\n",
       "\n",
       "    .dataframe tbody tr th {\n",
       "        vertical-align: top;\n",
       "    }\n",
       "\n",
       "    .dataframe thead th {\n",
       "        text-align: right;\n",
       "    }\n",
       "</style>\n",
       "<table border=\"1\" class=\"dataframe\">\n",
       "  <thead>\n",
       "    <tr style=\"text-align: right;\">\n",
       "      <th></th>\n",
       "      <th>user_id</th>\n",
       "      <th>orig_destination_distance</th>\n",
       "      <th>channel</th>\n",
       "      <th>srch_ci</th>\n",
       "      <th>srch_co</th>\n",
       "      <th>srch_adults_cnt</th>\n",
       "      <th>srch_children_cnt</th>\n",
       "      <th>srch_rm_cnt</th>\n",
       "      <th>hotel_continent</th>\n",
       "      <th>hotel_country</th>\n",
       "      <th>hotel_market</th>\n",
       "      <th>hotel_cluster</th>\n",
       "    </tr>\n",
       "  </thead>\n",
       "  <tbody>\n",
       "    <tr>\n",
       "      <th>6</th>\n",
       "      <td>501</td>\n",
       "      <td>NaN</td>\n",
       "      <td>2</td>\n",
       "      <td>2014-08-01</td>\n",
       "      <td>2014-08-02</td>\n",
       "      <td>2</td>\n",
       "      <td>0</td>\n",
       "      <td>1</td>\n",
       "      <td>2</td>\n",
       "      <td>50</td>\n",
       "      <td>675</td>\n",
       "      <td>41</td>\n",
       "    </tr>\n",
       "    <tr>\n",
       "      <th>7</th>\n",
       "      <td>501</td>\n",
       "      <td>NaN</td>\n",
       "      <td>2</td>\n",
       "      <td>2014-08-01</td>\n",
       "      <td>2014-08-02</td>\n",
       "      <td>2</td>\n",
       "      <td>0</td>\n",
       "      <td>1</td>\n",
       "      <td>2</td>\n",
       "      <td>50</td>\n",
       "      <td>675</td>\n",
       "      <td>41</td>\n",
       "    </tr>\n",
       "    <tr>\n",
       "      <th>8</th>\n",
       "      <td>501</td>\n",
       "      <td>NaN</td>\n",
       "      <td>2</td>\n",
       "      <td>2014-08-01</td>\n",
       "      <td>2014-08-02</td>\n",
       "      <td>2</td>\n",
       "      <td>0</td>\n",
       "      <td>1</td>\n",
       "      <td>2</td>\n",
       "      <td>50</td>\n",
       "      <td>675</td>\n",
       "      <td>69</td>\n",
       "    </tr>\n",
       "    <tr>\n",
       "      <th>9</th>\n",
       "      <td>501</td>\n",
       "      <td>NaN</td>\n",
       "      <td>2</td>\n",
       "      <td>2014-08-01</td>\n",
       "      <td>2014-08-02</td>\n",
       "      <td>2</td>\n",
       "      <td>0</td>\n",
       "      <td>1</td>\n",
       "      <td>2</td>\n",
       "      <td>50</td>\n",
       "      <td>675</td>\n",
       "      <td>70</td>\n",
       "    </tr>\n",
       "    <tr>\n",
       "      <th>10</th>\n",
       "      <td>501</td>\n",
       "      <td>NaN</td>\n",
       "      <td>2</td>\n",
       "      <td>2014-08-01</td>\n",
       "      <td>2014-08-02</td>\n",
       "      <td>2</td>\n",
       "      <td>0</td>\n",
       "      <td>1</td>\n",
       "      <td>2</td>\n",
       "      <td>50</td>\n",
       "      <td>675</td>\n",
       "      <td>98</td>\n",
       "    </tr>\n",
       "    <tr>\n",
       "      <th>...</th>\n",
       "      <td>...</td>\n",
       "      <td>...</td>\n",
       "      <td>...</td>\n",
       "      <td>...</td>\n",
       "      <td>...</td>\n",
       "      <td>...</td>\n",
       "      <td>...</td>\n",
       "      <td>...</td>\n",
       "      <td>...</td>\n",
       "      <td>...</td>\n",
       "      <td>...</td>\n",
       "      <td>...</td>\n",
       "    </tr>\n",
       "    <tr>\n",
       "      <th>37670212</th>\n",
       "      <td>1197589</td>\n",
       "      <td>NaN</td>\n",
       "      <td>4</td>\n",
       "      <td>2013-05-18</td>\n",
       "      <td>2013-05-19</td>\n",
       "      <td>3</td>\n",
       "      <td>1</td>\n",
       "      <td>2</td>\n",
       "      <td>6</td>\n",
       "      <td>204</td>\n",
       "      <td>1614</td>\n",
       "      <td>50</td>\n",
       "    </tr>\n",
       "    <tr>\n",
       "      <th>37670215</th>\n",
       "      <td>1197641</td>\n",
       "      <td>NaN</td>\n",
       "      <td>9</td>\n",
       "      <td>2014-03-31</td>\n",
       "      <td>2014-04-01</td>\n",
       "      <td>2</td>\n",
       "      <td>0</td>\n",
       "      <td>1</td>\n",
       "      <td>2</td>\n",
       "      <td>50</td>\n",
       "      <td>661</td>\n",
       "      <td>50</td>\n",
       "    </tr>\n",
       "    <tr>\n",
       "      <th>37670216</th>\n",
       "      <td>1197641</td>\n",
       "      <td>NaN</td>\n",
       "      <td>9</td>\n",
       "      <td>2014-03-31</td>\n",
       "      <td>2014-04-01</td>\n",
       "      <td>2</td>\n",
       "      <td>0</td>\n",
       "      <td>1</td>\n",
       "      <td>2</td>\n",
       "      <td>50</td>\n",
       "      <td>661</td>\n",
       "      <td>50</td>\n",
       "    </tr>\n",
       "    <tr>\n",
       "      <th>37670217</th>\n",
       "      <td>1197641</td>\n",
       "      <td>NaN</td>\n",
       "      <td>9</td>\n",
       "      <td>2014-05-24</td>\n",
       "      <td>2014-05-26</td>\n",
       "      <td>2</td>\n",
       "      <td>0</td>\n",
       "      <td>1</td>\n",
       "      <td>2</td>\n",
       "      <td>50</td>\n",
       "      <td>576</td>\n",
       "      <td>48</td>\n",
       "    </tr>\n",
       "    <tr>\n",
       "      <th>37670218</th>\n",
       "      <td>1197641</td>\n",
       "      <td>NaN</td>\n",
       "      <td>9</td>\n",
       "      <td>2014-05-24</td>\n",
       "      <td>2014-05-26</td>\n",
       "      <td>2</td>\n",
       "      <td>0</td>\n",
       "      <td>1</td>\n",
       "      <td>2</td>\n",
       "      <td>50</td>\n",
       "      <td>576</td>\n",
       "      <td>48</td>\n",
       "    </tr>\n",
       "  </tbody>\n",
       "</table>\n",
       "<p>13552399 rows × 12 columns</p>\n",
       "</div>"
      ],
      "text/plain": [
       "          user_id  orig_destination_distance  channel     srch_ci     srch_co  \\\n",
       "6             501                        NaN        2  2014-08-01  2014-08-02   \n",
       "7             501                        NaN        2  2014-08-01  2014-08-02   \n",
       "8             501                        NaN        2  2014-08-01  2014-08-02   \n",
       "9             501                        NaN        2  2014-08-01  2014-08-02   \n",
       "10            501                        NaN        2  2014-08-01  2014-08-02   \n",
       "...           ...                        ...      ...         ...         ...   \n",
       "37670212  1197589                        NaN        4  2013-05-18  2013-05-19   \n",
       "37670215  1197641                        NaN        9  2014-03-31  2014-04-01   \n",
       "37670216  1197641                        NaN        9  2014-03-31  2014-04-01   \n",
       "37670217  1197641                        NaN        9  2014-05-24  2014-05-26   \n",
       "37670218  1197641                        NaN        9  2014-05-24  2014-05-26   \n",
       "\n",
       "          srch_adults_cnt  srch_children_cnt  srch_rm_cnt  hotel_continent  \\\n",
       "6                       2                  0            1                2   \n",
       "7                       2                  0            1                2   \n",
       "8                       2                  0            1                2   \n",
       "9                       2                  0            1                2   \n",
       "10                      2                  0            1                2   \n",
       "...                   ...                ...          ...              ...   \n",
       "37670212                3                  1            2                6   \n",
       "37670215                2                  0            1                2   \n",
       "37670216                2                  0            1                2   \n",
       "37670217                2                  0            1                2   \n",
       "37670218                2                  0            1                2   \n",
       "\n",
       "          hotel_country  hotel_market  hotel_cluster  \n",
       "6                    50           675             41  \n",
       "7                    50           675             41  \n",
       "8                    50           675             69  \n",
       "9                    50           675             70  \n",
       "10                   50           675             98  \n",
       "...                 ...           ...            ...  \n",
       "37670212            204          1614             50  \n",
       "37670215             50           661             50  \n",
       "37670216             50           661             50  \n",
       "37670217             50           576             48  \n",
       "37670218             50           576             48  \n",
       "\n",
       "[13552399 rows x 12 columns]"
      ]
     },
     "execution_count": 11,
     "metadata": {},
     "output_type": "execute_result"
    }
   ],
   "source": [
    "#looking at records with missing data\n",
    "null_data[['user_id','orig_destination_distance','channel','srch_ci','srch_co','srch_adults_cnt','srch_children_cnt','srch_rm_cnt','hotel_continent','hotel_country','hotel_market','hotel_cluster']]"
   ]
  },
  {
   "cell_type": "markdown",
   "id": "409d8b3f",
   "metadata": {},
   "source": [
    "There are about 47,080 rows which have missing values for check-in date and check-out date. With missing dates, I would prefer not to fill them with some other value since these dates could be important to determining the clusters for each hotel recommendation record. Therefore, I am just going to remove these from the dataset, especially since they are a small amount of the 37 million total records."
   ]
  },
  {
   "cell_type": "code",
   "execution_count": 12,
   "id": "31c9f8ca",
   "metadata": {},
   "outputs": [],
   "source": [
    "#dropping rows with missing values in orig_destination_distance, srch_ci & srch_co\n",
    "#want to investigate how it affects modeling\n",
    "train_df2 = train_df.dropna(subset=['orig_destination_distance','srch_ci','srch_co'])"
   ]
  },
  {
   "cell_type": "code",
   "execution_count": 13,
   "id": "662992a6",
   "metadata": {},
   "outputs": [
    {
     "data": {
      "text/plain": [
       "date_time                    0\n",
       "site_name                    0\n",
       "posa_continent               0\n",
       "user_location_country        0\n",
       "user_location_region         0\n",
       "user_location_city           0\n",
       "orig_destination_distance    0\n",
       "user_id                      0\n",
       "is_mobile                    0\n",
       "is_package                   0\n",
       "channel                      0\n",
       "srch_ci                      0\n",
       "srch_co                      0\n",
       "srch_adults_cnt              0\n",
       "srch_children_cnt            0\n",
       "srch_rm_cnt                  0\n",
       "srch_destination_id          0\n",
       "srch_destination_type_id     0\n",
       "is_booking                   0\n",
       "cnt                          0\n",
       "hotel_continent              0\n",
       "hotel_country                0\n",
       "hotel_market                 0\n",
       "hotel_cluster                0\n",
       "dtype: int64"
      ]
     },
     "execution_count": 13,
     "metadata": {},
     "output_type": "execute_result"
    }
   ],
   "source": [
    "#checking again for missing values\n",
    "#getting counts of missing values in data frame\n",
    "train_df2.isnull().sum()"
   ]
  },
  {
   "cell_type": "markdown",
   "id": "a1aa196a",
   "metadata": {},
   "source": [
    "## Column Dropping"
   ]
  },
  {
   "cell_type": "markdown",
   "id": "e9f6576d",
   "metadata": {},
   "source": [
    "When looking over the dataset, I initially want to drop the 'user_id' column as it does not really give any important information on the users looking for hotels to stay it. It is simply an identifier, and I don't think it will be useful in the problem of predicting the likelihood of whether an user will stay at 100 different hotel groups."
   ]
  },
  {
   "cell_type": "code",
   "execution_count": 14,
   "id": "640133d2",
   "metadata": {},
   "outputs": [],
   "source": [
    "train_df2 = train_df2.drop('user_id',1)"
   ]
  },
  {
   "cell_type": "markdown",
   "id": "03871026",
   "metadata": {},
   "source": [
    "## Checking for Duplicates"
   ]
  },
  {
   "cell_type": "code",
   "execution_count": 15,
   "id": "c85e0fdd",
   "metadata": {},
   "outputs": [
    {
     "name": "stdout",
     "output_type": "stream",
     "text": [
      "0           False\n",
      "1           False\n",
      "2           False\n",
      "3           False\n",
      "4           False\n",
      "            ...  \n",
      "37670288    False\n",
      "37670289    False\n",
      "37670290    False\n",
      "37670291    False\n",
      "37670292    False\n",
      "Length: 24117894, dtype: bool\n",
      "\n",
      "Sum of duplicate categories: \n",
      "13\n"
     ]
    }
   ],
   "source": [
    "#checking for row-level duplicates in entire dataframe\n",
    "\n",
    "print(train_df2.duplicated())\n",
    "\n",
    "print(\"\\nSum of duplicate categories: \")\n",
    "print(train_df2.duplicated().sum())"
   ]
  },
  {
   "cell_type": "code",
   "execution_count": 16,
   "id": "584fc7ae",
   "metadata": {},
   "outputs": [],
   "source": [
    "#removing row-level duplicates from dataset\n",
    "# dropping duplicate values\n",
    "train_df2.drop_duplicates(keep='first',inplace=True)"
   ]
  },
  {
   "cell_type": "code",
   "execution_count": 17,
   "id": "44bc0ce3",
   "metadata": {
    "scrolled": true
   },
   "outputs": [
    {
     "name": "stdout",
     "output_type": "stream",
     "text": [
      "(24117881, 23)\n",
      "13 duplicates removed\n"
     ]
    }
   ],
   "source": [
    "print(train_df2.shape)\n",
    "print(\"13 duplicates removed\")"
   ]
  },
  {
   "cell_type": "code",
   "execution_count": 18,
   "id": "98f79dfd",
   "metadata": {},
   "outputs": [
    {
     "data": {
      "text/plain": [
       "date_time                     object\n",
       "site_name                      int64\n",
       "posa_continent                 int64\n",
       "user_location_country          int64\n",
       "user_location_region           int64\n",
       "user_location_city             int64\n",
       "orig_destination_distance    float64\n",
       "is_mobile                      int64\n",
       "is_package                     int64\n",
       "channel                        int64\n",
       "srch_ci                       object\n",
       "srch_co                       object\n",
       "srch_adults_cnt                int64\n",
       "srch_children_cnt              int64\n",
       "srch_rm_cnt                    int64\n",
       "srch_destination_id            int64\n",
       "srch_destination_type_id       int64\n",
       "is_booking                     int64\n",
       "cnt                            int64\n",
       "hotel_continent                int64\n",
       "hotel_country                  int64\n",
       "hotel_market                   int64\n",
       "hotel_cluster                  int64\n",
       "dtype: object"
      ]
     },
     "execution_count": 18,
     "metadata": {},
     "output_type": "execute_result"
    }
   ],
   "source": [
    "train_df2.dtypes"
   ]
  },
  {
   "cell_type": "markdown",
   "id": "6357de7f",
   "metadata": {},
   "source": [
    "Most of the variables in the training set have a numeric type (int or float). This helps for modeling!\n",
    "\n",
    "There are three variables which are object types: date_time, srch_ci and srch_co. Given that these are dates, we will need to convert them to numbers for use in the predictive models later."
   ]
  },
  {
   "cell_type": "markdown",
   "id": "0c967fbe",
   "metadata": {},
   "source": [
    "In comparing the training data subset hotel_cluster histogram with the one for the entire training set, we can see the distributions are very similar (if not the same), which helps with providing faith in the sample of the data for maintaing the makeup of the data!"
   ]
  },
  {
   "cell_type": "markdown",
   "id": "12ecf9eb",
   "metadata": {},
   "source": [
    "## Examining Variable Relationships"
   ]
  },
  {
   "cell_type": "markdown",
   "id": "91d46e2a",
   "metadata": {},
   "source": [
    "### Correlation Plot"
   ]
  },
  {
   "cell_type": "code",
   "execution_count": 19,
   "id": "e4354cce",
   "metadata": {},
   "outputs": [
    {
     "data": {
      "image/png": "[encoded data removed]",
      "text/plain": [
       "<Figure size 1440x1224 with 2 Axes>"
      ]
     },
     "metadata": {
      "needs_background": "light"
     },
     "output_type": "display_data"
    }
   ],
   "source": [
    "import seaborn as sns\n",
    "import numpy as np\n",
    "import matplotlib.pyplot as plt\n",
    "\n",
    "plt.figure(figsize=(20, 17))\n",
    "matrix = np.triu(train_df2.corr())\n",
    "sns.heatmap(train_df2.corr(), annot=True, linewidth=.8, mask=matrix, cmap=\"rocket\");"
   ]
  },
  {
   "cell_type": "markdown",
   "id": "162f6d70",
   "metadata": {},
   "source": [
    "For correlation assessment:\n",
    "- There is a strong positive correlation (0.55) between user_location_country and site_name. user_location_country is the ID of the country for where the customer is located, and site_name is the ID of the expedia point of sale. It makes sense that these are correlated since the geographical user information is derived from the site_name. The ID numbers must have an inverse relationship, in that the ID of the site_name decreases as the ID of the country increases. However, ID numbers are not really reflected as numerical measures. \n",
    "- For positive correlations, the ones on the higher side are between srch_rm_cnt & srch_adults_cnt and srch_destination_type_id & srch_destination_id at 0.51 and 0.46 respectively. These are not super strong correlationships, and for the ID one, I don't see this one as being concerning given that they are ID values which are assigned based on different criteria. For the room count and adult count correlation, it makes sure that the number of rooms rented would increase as the number of adults staying increases. Therefore, through feature reduction techniques, we may find that both variables are not needed!"
   ]
  },
  {
   "cell_type": "markdown",
   "id": "e253a0fb",
   "metadata": {},
   "source": [
    "## Data Exploration - Visualizations"
   ]
  },
  {
   "cell_type": "markdown",
   "id": "4ca6244b",
   "metadata": {},
   "source": [
    "### Histogram of Cluster Distribution in Training Set"
   ]
  },
  {
   "cell_type": "code",
   "execution_count": 20,
   "id": "3ccf62ea",
   "metadata": {},
   "outputs": [
    {
     "data": {
      "text/plain": [
       "<AxesSubplot:xlabel='hotel_cluster', ylabel='Count'>"
      ]
     },
     "execution_count": 20,
     "metadata": {},
     "output_type": "execute_result"
    },
    {
     "data": {
      "image/png": "[encoded data removed]",
      "text/plain": [
       "<Figure size 432x288 with 1 Axes>"
      ]
     },
     "metadata": {
      "needs_background": "light"
     },
     "output_type": "display_data"
    }
   ],
   "source": [
    "#plotting the distribution of hotel_cluster variable\n",
    "\n",
    "sns.histplot(data=train_df2, x=\"hotel_cluster\")"
   ]
  },
  {
   "cell_type": "markdown",
   "id": "4c466b06",
   "metadata": {},
   "source": [
    "Looking at the count distribution for number of records in each hotel_cluster, they appear to be relatively well-distributed. There is not any significant skew which I think needs to be handled.\n",
    "\n",
    "However, when investigating the balance of the classes, there seems to be an imbalance among them which may need to be handled before modeling, because some classes seem better represented in the dataset over others."
   ]
  },
  {
   "cell_type": "code",
   "execution_count": 21,
   "id": "632ab105",
   "metadata": {},
   "outputs": [
    {
     "data": {
      "text/plain": [
       "<AxesSubplot:xlabel='orig_destination_distance', ylabel='Count'>"
      ]
     },
     "execution_count": 21,
     "metadata": {},
     "output_type": "execute_result"
    },
    {
     "data": {
      "image/png": "[encoded data removed]",
      "text/plain": [
       "<Figure size 432x288 with 1 Axes>"
      ]
     },
     "metadata": {
      "needs_background": "light"
     },
     "output_type": "display_data"
    }
   ],
   "source": [
    "#plotting the distribution of orig_destination_distance variable\n",
    "\n",
    "sns.histplot(data=train_df2, x=\"orig_destination_distance\")"
   ]
  },
  {
   "cell_type": "markdown",
   "id": "a43a1523",
   "metadata": {},
   "source": [
    "The other measures also show that majority of users book within ~3,000 miles of them and their destination. This can obviously encompass a large range of places ... for example, from Chicago to London it is about 4,000 miles so not too much of a difference from three-thousand. \n",
    "\n",
    "However, there are location bookings which were made up to 10,000 miles from an user's location, which descends continents!"
   ]
  },
  {
   "cell_type": "code",
   "execution_count": 22,
   "id": "bd133eb9",
   "metadata": {},
   "outputs": [
    {
     "data": {
      "text/plain": [
       "<AxesSubplot:>"
      ]
     },
     "execution_count": 22,
     "metadata": {},
     "output_type": "execute_result"
    },
    {
     "data": {
      "image/png": "[encoded data removed]",
      "text/plain": [
       "<Figure size 432x288 with 1 Axes>"
      ]
     },
     "metadata": {
      "needs_background": "light"
     },
     "output_type": "display_data"
    }
   ],
   "source": [
    "#bar chart of is_mobile --> 1 when connected from mobile device\n",
    "train_df2['is_mobile'].value_counts().plot(kind='barh')"
   ]
  },
  {
   "cell_type": "markdown",
   "id": "24ad4005",
   "metadata": {},
   "source": [
    "Many more people connected to Expedia from a device other than their mobile when compared against mobile users, over 20 million vs. 3 million respectively. About 1/6 difference for users!"
   ]
  },
  {
   "cell_type": "code",
   "execution_count": 23,
   "id": "b9395238",
   "metadata": {},
   "outputs": [
    {
     "data": {
      "text/plain": [
       "<AxesSubplot:>"
      ]
     },
     "execution_count": 23,
     "metadata": {},
     "output_type": "execute_result"
    },
    {
     "data": {
      "image/png": "[encoded data removed]",
      "text/plain": [
       "<Figure size 432x288 with 1 Axes>"
      ]
     },
     "metadata": {
      "needs_background": "light"
     },
     "output_type": "display_data"
    }
   ],
   "source": [
    "#bar chart of is_package --> 1 for booking generated as part of package\n",
    "train_df2['is_package'].value_counts().plot(kind='barh')"
   ]
  },
  {
   "cell_type": "markdown",
   "id": "b664d6f9",
   "metadata": {},
   "source": [
    "Similar to above, for the Expedia users, many more did not book as a part of a package when compared to package customers ... 17.5 million vs. about 600,000 users. These are quite big differences in groupings!"
   ]
  },
  {
   "cell_type": "code",
   "execution_count": 24,
   "id": "a8a1eb6a",
   "metadata": {},
   "outputs": [
    {
     "data": {
      "text/plain": [
       "<AxesSubplot:>"
      ]
     },
     "execution_count": 24,
     "metadata": {},
     "output_type": "execute_result"
    },
    {
     "data": {
      "image/png": "[encoded data removed]",
      "text/plain": [
       "<Figure size 432x288 with 1 Axes>"
      ]
     },
     "metadata": {
      "needs_background": "light"
     },
     "output_type": "display_data"
    }
   ],
   "source": [
    "#bar chart of is_booking --> 1 IF BOOKING, 0 IF CLICK\n",
    "train_df2['is_booking'].value_counts().plot(kind='barh')"
   ]
  },
  {
   "cell_type": "markdown",
   "id": "0d30983b",
   "metadata": {},
   "source": [
    "This is very interesting! Majority of the people on the Expedia website clicked than actually booked a hotel room experience. The clusters that contain these users would be great for targeting in terms of identifying customers which they can create more engagement and advertising for :)"
   ]
  },
  {
   "cell_type": "code",
   "execution_count": 25,
   "id": "6b451613",
   "metadata": {},
   "outputs": [
    {
     "data": {
      "text/plain": [
       "<AxesSubplot:xlabel='srch_adults_cnt', ylabel='Count'>"
      ]
     },
     "execution_count": 25,
     "metadata": {},
     "output_type": "execute_result"
    },
    {
     "data": {
      "image/png": "[encoded data removed]",
      "text/plain": [
       "<Figure size 432x288 with 1 Axes>"
      ]
     },
     "metadata": {
      "needs_background": "light"
     },
     "output_type": "display_data"
    }
   ],
   "source": [
    "#histograms for room count, adult count and children count\n",
    "sns.histplot(data=train_df2, x=\"srch_adults_cnt\")"
   ]
  },
  {
   "cell_type": "code",
   "execution_count": 26,
   "id": "ab564368",
   "metadata": {},
   "outputs": [
    {
     "data": {
      "text/plain": [
       "<AxesSubplot:xlabel='srch_children_cnt', ylabel='Count'>"
      ]
     },
     "execution_count": 26,
     "metadata": {},
     "output_type": "execute_result"
    },
    {
     "data": {
      "image/png": "[encoded data removed]",
      "text/plain": [
       "<Figure size 432x288 with 1 Axes>"
      ]
     },
     "metadata": {
      "needs_background": "light"
     },
     "output_type": "display_data"
    }
   ],
   "source": [
    "sns.histplot(data=train_df2, x=\"srch_children_cnt\")"
   ]
  },
  {
   "cell_type": "code",
   "execution_count": 27,
   "id": "101ade1f",
   "metadata": {},
   "outputs": [
    {
     "data": {
      "text/plain": [
       "<AxesSubplot:xlabel='srch_rm_cnt', ylabel='Count'>"
      ]
     },
     "execution_count": 27,
     "metadata": {},
     "output_type": "execute_result"
    },
    {
     "data": {
      "image/png": "[encoded data removed]",
      "text/plain": [
       "<Figure size 432x288 with 1 Axes>"
      ]
     },
     "metadata": {
      "needs_background": "light"
     },
     "output_type": "display_data"
    }
   ],
   "source": [
    "sns.histplot(data=train_df2, x=\"srch_rm_cnt\")"
   ]
  },
  {
   "cell_type": "markdown",
   "id": "1e337d8d",
   "metadata": {},
   "source": [
    "I think the counts shown in the histogram above are really great for clusters since there are different type of people who are going to do bookings with Expedia: single people, couples, families, etc. Therefore, these can be very telling of the groups of people making trips and also probably gives some indication as well of where they may be making their destination.\n",
    "\n",
    "It seems that for most users, they only book one room for their trips; the max room count is 4 and a very small amount of users make that.\n",
    "\n",
    "Almost people don't seem to be traveling with kids, as zero children count holds the majority of the values in the dataset.\n",
    "\n",
    "In terms of adults, the majority seems to be at two, which could again be indicative of couples making bookings or just form of close relationship sharing a room. \n",
    "\n",
    "Since there's not much variety in these counts, I am not sure how helpful they will be in deciding the hotel clusters for users, since they won't cause much split in the dataset for classification. We will have to see with feature reduction if these are kept in."
   ]
  },
  {
   "cell_type": "markdown",
   "id": "1e28e9fa",
   "metadata": {},
   "source": [
    "## EDA on destination_df"
   ]
  },
  {
   "cell_type": "markdown",
   "id": "6b4a4350",
   "metadata": {},
   "source": [
    "This destination dataset contains information on the IDs of the destinations where the hotel searches were performed and the latent description of those search regions. "
   ]
  },
  {
   "cell_type": "code",
   "execution_count": 28,
   "id": "fed6b898",
   "metadata": {},
   "outputs": [
    {
     "data": {
      "text/html": [
       "<div>\n",
       "<style scoped>\n",
       "    .dataframe tbody tr th:only-of-type {\n",
       "        vertical-align: middle;\n",
       "    }\n",
       "\n",
       "    .dataframe tbody tr th {\n",
       "        vertical-align: top;\n",
       "    }\n",
       "\n",
       "    .dataframe thead th {\n",
       "        text-align: right;\n",
       "    }\n",
       "</style>\n",
       "<table border=\"1\" class=\"dataframe\">\n",
       "  <thead>\n",
       "    <tr style=\"text-align: right;\">\n",
       "      <th></th>\n",
       "      <th>srch_destination_id</th>\n",
       "      <th>d1</th>\n",
       "      <th>d2</th>\n",
       "      <th>d3</th>\n",
       "      <th>d4</th>\n",
       "      <th>d5</th>\n",
       "      <th>d6</th>\n",
       "      <th>d7</th>\n",
       "      <th>d8</th>\n",
       "      <th>d9</th>\n",
       "      <th>...</th>\n",
       "      <th>d140</th>\n",
       "      <th>d141</th>\n",
       "      <th>d142</th>\n",
       "      <th>d143</th>\n",
       "      <th>d144</th>\n",
       "      <th>d145</th>\n",
       "      <th>d146</th>\n",
       "      <th>d147</th>\n",
       "      <th>d148</th>\n",
       "      <th>d149</th>\n",
       "    </tr>\n",
       "  </thead>\n",
       "  <tbody>\n",
       "    <tr>\n",
       "      <th>count</th>\n",
       "      <td>62106.000000</td>\n",
       "      <td>62106.000000</td>\n",
       "      <td>62106.000000</td>\n",
       "      <td>62106.000000</td>\n",
       "      <td>62106.000000</td>\n",
       "      <td>62106.000000</td>\n",
       "      <td>62106.000000</td>\n",
       "      <td>62106.000000</td>\n",
       "      <td>62106.000000</td>\n",
       "      <td>62106.000000</td>\n",
       "      <td>...</td>\n",
       "      <td>62106.000000</td>\n",
       "      <td>62106.000000</td>\n",
       "      <td>62106.000000</td>\n",
       "      <td>62106.000000</td>\n",
       "      <td>62106.000000</td>\n",
       "      <td>62106.000000</td>\n",
       "      <td>62106.000000</td>\n",
       "      <td>62106.000000</td>\n",
       "      <td>62106.000000</td>\n",
       "      <td>62106.000000</td>\n",
       "    </tr>\n",
       "    <tr>\n",
       "      <th>mean</th>\n",
       "      <td>32359.463884</td>\n",
       "      <td>-2.193903</td>\n",
       "      <td>-2.202854</td>\n",
       "      <td>-2.207391</td>\n",
       "      <td>-2.194040</td>\n",
       "      <td>-2.161497</td>\n",
       "      <td>-2.045110</td>\n",
       "      <td>-2.202433</td>\n",
       "      <td>-2.203207</td>\n",
       "      <td>-2.107808</td>\n",
       "      <td>...</td>\n",
       "      <td>-2.204092</td>\n",
       "      <td>-2.196919</td>\n",
       "      <td>-2.203262</td>\n",
       "      <td>-2.205128</td>\n",
       "      <td>-2.201925</td>\n",
       "      <td>-2.203332</td>\n",
       "      <td>-2.202989</td>\n",
       "      <td>-2.208359</td>\n",
       "      <td>-2.208269</td>\n",
       "      <td>-2.199470</td>\n",
       "    </tr>\n",
       "    <tr>\n",
       "      <th>std</th>\n",
       "      <td>18711.765765</td>\n",
       "      <td>0.038576</td>\n",
       "      <td>0.041065</td>\n",
       "      <td>0.040092</td>\n",
       "      <td>0.041406</td>\n",
       "      <td>0.066197</td>\n",
       "      <td>0.135803</td>\n",
       "      <td>0.038886</td>\n",
       "      <td>0.036578</td>\n",
       "      <td>0.197904</td>\n",
       "      <td>...</td>\n",
       "      <td>0.037164</td>\n",
       "      <td>0.059914</td>\n",
       "      <td>0.046520</td>\n",
       "      <td>0.039465</td>\n",
       "      <td>0.041603</td>\n",
       "      <td>0.038239</td>\n",
       "      <td>0.051552</td>\n",
       "      <td>0.038035</td>\n",
       "      <td>0.038569</td>\n",
       "      <td>0.042438</td>\n",
       "    </tr>\n",
       "    <tr>\n",
       "      <th>min</th>\n",
       "      <td>0.000000</td>\n",
       "      <td>-2.597617</td>\n",
       "      <td>-2.671613</td>\n",
       "      <td>-2.671613</td>\n",
       "      <td>-2.671613</td>\n",
       "      <td>-2.671613</td>\n",
       "      <td>-2.344165</td>\n",
       "      <td>-2.671613</td>\n",
       "      <td>-2.671613</td>\n",
       "      <td>-2.495544</td>\n",
       "      <td>...</td>\n",
       "      <td>-2.620769</td>\n",
       "      <td>-2.671613</td>\n",
       "      <td>-2.671613</td>\n",
       "      <td>-2.671613</td>\n",
       "      <td>-2.671613</td>\n",
       "      <td>-2.671613</td>\n",
       "      <td>-2.671613</td>\n",
       "      <td>-2.671613</td>\n",
       "      <td>-2.671613</td>\n",
       "      <td>-2.671613</td>\n",
       "    </tr>\n",
       "    <tr>\n",
       "      <th>25%</th>\n",
       "      <td>16320.250000</td>\n",
       "      <td>-2.209336</td>\n",
       "      <td>-2.220192</td>\n",
       "      <td>-2.223679</td>\n",
       "      <td>-2.211437</td>\n",
       "      <td>-2.192158</td>\n",
       "      <td>-2.154267</td>\n",
       "      <td>-2.218745</td>\n",
       "      <td>-2.219086</td>\n",
       "      <td>-2.197704</td>\n",
       "      <td>...</td>\n",
       "      <td>-2.219630</td>\n",
       "      <td>-2.216147</td>\n",
       "      <td>-2.220347</td>\n",
       "      <td>-2.221893</td>\n",
       "      <td>-2.218394</td>\n",
       "      <td>-2.220500</td>\n",
       "      <td>-2.221748</td>\n",
       "      <td>-2.224618</td>\n",
       "      <td>-2.224290</td>\n",
       "      <td>-2.216428</td>\n",
       "    </tr>\n",
       "    <tr>\n",
       "      <th>50%</th>\n",
       "      <td>32277.500000</td>\n",
       "      <td>-2.185969</td>\n",
       "      <td>-2.193247</td>\n",
       "      <td>-2.195208</td>\n",
       "      <td>-2.188057</td>\n",
       "      <td>-2.178255</td>\n",
       "      <td>-2.088598</td>\n",
       "      <td>-2.192513</td>\n",
       "      <td>-2.192915</td>\n",
       "      <td>-2.177229</td>\n",
       "      <td>...</td>\n",
       "      <td>-2.192232</td>\n",
       "      <td>-2.190525</td>\n",
       "      <td>-2.192814</td>\n",
       "      <td>-2.194127</td>\n",
       "      <td>-2.191564</td>\n",
       "      <td>-2.192200</td>\n",
       "      <td>-2.193352</td>\n",
       "      <td>-2.196185</td>\n",
       "      <td>-2.195900</td>\n",
       "      <td>-2.190953</td>\n",
       "    </tr>\n",
       "    <tr>\n",
       "      <th>75%</th>\n",
       "      <td>48467.750000</td>\n",
       "      <td>-2.175309</td>\n",
       "      <td>-2.179261</td>\n",
       "      <td>-2.179990</td>\n",
       "      <td>-2.176763</td>\n",
       "      <td>-2.153317</td>\n",
       "      <td>-1.975940</td>\n",
       "      <td>-2.178976</td>\n",
       "      <td>-2.179164</td>\n",
       "      <td>-2.123598</td>\n",
       "      <td>...</td>\n",
       "      <td>-2.178093</td>\n",
       "      <td>-2.177777</td>\n",
       "      <td>-2.178996</td>\n",
       "      <td>-2.179475</td>\n",
       "      <td>-2.178335</td>\n",
       "      <td>-2.177590</td>\n",
       "      <td>-2.178927</td>\n",
       "      <td>-2.180602</td>\n",
       "      <td>-2.180380</td>\n",
       "      <td>-2.178088</td>\n",
       "    </tr>\n",
       "    <tr>\n",
       "      <th>max</th>\n",
       "      <td>64993.000000</td>\n",
       "      <td>-1.596004</td>\n",
       "      <td>-1.341325</td>\n",
       "      <td>-1.917826</td>\n",
       "      <td>-1.814585</td>\n",
       "      <td>-1.607558</td>\n",
       "      <td>-1.209058</td>\n",
       "      <td>-1.474441</td>\n",
       "      <td>-1.879678</td>\n",
       "      <td>-0.977219</td>\n",
       "      <td>...</td>\n",
       "      <td>-1.855317</td>\n",
       "      <td>-0.960356</td>\n",
       "      <td>-1.357408</td>\n",
       "      <td>-1.775218</td>\n",
       "      <td>-1.790435</td>\n",
       "      <td>-1.799341</td>\n",
       "      <td>-1.335962</td>\n",
       "      <td>-1.816892</td>\n",
       "      <td>-1.718778</td>\n",
       "      <td>-1.500309</td>\n",
       "    </tr>\n",
       "  </tbody>\n",
       "</table>\n",
       "<p>8 rows × 150 columns</p>\n",
       "</div>"
      ],
      "text/plain": [
       "       srch_destination_id            d1            d2            d3  \\\n",
       "count         62106.000000  62106.000000  62106.000000  62106.000000   \n",
       "mean          32359.463884     -2.193903     -2.202854     -2.207391   \n",
       "std           18711.765765      0.038576      0.041065      0.040092   \n",
       "min               0.000000     -2.597617     -2.671613     -2.671613   \n",
       "25%           16320.250000     -2.209336     -2.220192     -2.223679   \n",
       "50%           32277.500000     -2.185969     -2.193247     -2.195208   \n",
       "75%           48467.750000     -2.175309     -2.179261     -2.179990   \n",
       "max           64993.000000     -1.596004     -1.341325     -1.917826   \n",
       "\n",
       "                 d4            d5            d6            d7            d8  \\\n",
       "count  62106.000000  62106.000000  62106.000000  62106.000000  62106.000000   \n",
       "mean      -2.194040     -2.161497     -2.045110     -2.202433     -2.203207   \n",
       "std        0.041406      0.066197      0.135803      0.038886      0.036578   \n",
       "min       -2.671613     -2.671613     -2.344165     -2.671613     -2.671613   \n",
       "25%       -2.211437     -2.192158     -2.154267     -2.218745     -2.219086   \n",
       "50%       -2.188057     -2.178255     -2.088598     -2.192513     -2.192915   \n",
       "75%       -2.176763     -2.153317     -1.975940     -2.178976     -2.179164   \n",
       "max       -1.814585     -1.607558     -1.209058     -1.474441     -1.879678   \n",
       "\n",
       "                 d9  ...          d140          d141          d142  \\\n",
       "count  62106.000000  ...  62106.000000  62106.000000  62106.000000   \n",
       "mean      -2.107808  ...     -2.204092     -2.196919     -2.203262   \n",
       "std        0.197904  ...      0.037164      0.059914      0.046520   \n",
       "min       -2.495544  ...     -2.620769     -2.671613     -2.671613   \n",
       "25%       -2.197704  ...     -2.219630     -2.216147     -2.220347   \n",
       "50%       -2.177229  ...     -2.192232     -2.190525     -2.192814   \n",
       "75%       -2.123598  ...     -2.178093     -2.177777     -2.178996   \n",
       "max       -0.977219  ...     -1.855317     -0.960356     -1.357408   \n",
       "\n",
       "               d143          d144          d145          d146          d147  \\\n",
       "count  62106.000000  62106.000000  62106.000000  62106.000000  62106.000000   \n",
       "mean      -2.205128     -2.201925     -2.203332     -2.202989     -2.208359   \n",
       "std        0.039465      0.041603      0.038239      0.051552      0.038035   \n",
       "min       -2.671613     -2.671613     -2.671613     -2.671613     -2.671613   \n",
       "25%       -2.221893     -2.218394     -2.220500     -2.221748     -2.224618   \n",
       "50%       -2.194127     -2.191564     -2.192200     -2.193352     -2.196185   \n",
       "75%       -2.179475     -2.178335     -2.177590     -2.178927     -2.180602   \n",
       "max       -1.775218     -1.790435     -1.799341     -1.335962     -1.816892   \n",
       "\n",
       "               d148          d149  \n",
       "count  62106.000000  62106.000000  \n",
       "mean      -2.208269     -2.199470  \n",
       "std        0.038569      0.042438  \n",
       "min       -2.671613     -2.671613  \n",
       "25%       -2.224290     -2.216428  \n",
       "50%       -2.195900     -2.190953  \n",
       "75%       -2.180380     -2.178088  \n",
       "max       -1.718778     -1.500309  \n",
       "\n",
       "[8 rows x 150 columns]"
      ]
     },
     "execution_count": 28,
     "metadata": {},
     "output_type": "execute_result"
    }
   ],
   "source": [
    "#describing the destination dataset\n",
    "destination_df.describe()"
   ]
  },
  {
   "cell_type": "markdown",
   "id": "84f679cd",
   "metadata": {},
   "source": [
    "### Overlapping Histograms of few \"d\" variables"
   ]
  },
  {
   "cell_type": "code",
   "execution_count": 29,
   "id": "9aa7a60d",
   "metadata": {},
   "outputs": [
    {
     "data": {
      "text/plain": [
       "<AxesSubplot:xlabel='d1', ylabel='Count'>"
      ]
     },
     "execution_count": 29,
     "metadata": {},
     "output_type": "execute_result"
    },
    {
     "data": {
      "image/png": "[encoded data removed]",
      "text/plain": [
       "<Figure size 432x288 with 1 Axes>"
      ]
     },
     "metadata": {
      "needs_background": "light"
     },
     "output_type": "display_data"
    }
   ],
   "source": [
    "#histogram of d1\n",
    "sns.histplot(data=destination_df, x=\"d1\")\n",
    "#histogram of d20\n",
    "sns.histplot(data=destination_df, x=\"d20\")\n",
    "#histogram of d45\n",
    "sns.histplot(data=destination_df, x=\"d45\")\n",
    "#histogram of d79\n",
    "sns.histplot(data=destination_df, x=\"d79\")\n",
    "#histogram of d149\n",
    "sns.histplot(data=destination_df, x=\"d149\")"
   ]
  },
  {
   "cell_type": "markdown",
   "id": "331bcc06",
   "metadata": {},
   "source": [
    "From the plot of overlapping histograms for few search regions' latent descriptions, we can see that these five, at least, follow very similar distributions. The data is clustered rather closely around a single peak, which seems to be ~-2.20. The sharp and narrow peak suggests that the latencies are generally consistent between search regions.\n",
    "\n",
    "The latencies also seem to be relatively normally distributed as they are centered around the single 'peak' in the curve. "
   ]
  },
  {
   "cell_type": "markdown",
   "id": "ef9a5551",
   "metadata": {},
   "source": [
    "### Correlation Plot"
   ]
  },
  {
   "cell_type": "code",
   "execution_count": 30,
   "id": "4aa43025",
   "metadata": {},
   "outputs": [],
   "source": [
    "#getting highest correlation pairs\n",
    "#correlation matrix is quite hard to understand with 150 columns\n",
    "c = destination_df.corr().abs()\n",
    "\n",
    "s = c.unstack()\n",
    "so = s.sort_values(kind=\"quicksort\")"
   ]
  },
  {
   "cell_type": "code",
   "execution_count": 31,
   "id": "655dc255",
   "metadata": {},
   "outputs": [
    {
     "name": "stdout",
     "output_type": "stream",
     "text": [
      "\n",
      "Sum of duplicates in correlations: \n",
      "11324\n"
     ]
    }
   ],
   "source": [
    "print(\"\\nSum of duplicates in correlations: \")\n",
    "print(so.duplicated().sum())"
   ]
  },
  {
   "cell_type": "code",
   "execution_count": 32,
   "id": "074af155",
   "metadata": {},
   "outputs": [],
   "source": [
    "#removing row-level duplicates from dataset\n",
    "# dropping duplicate values\n",
    "so.drop_duplicates(keep='first',inplace=True)"
   ]
  },
  {
   "cell_type": "code",
   "execution_count": 33,
   "id": "d4ecdd0f",
   "metadata": {},
   "outputs": [
    {
     "data": {
      "text/plain": [
       "(11176,)"
      ]
     },
     "execution_count": 33,
     "metadata": {},
     "output_type": "execute_result"
    }
   ],
   "source": [
    "so.shape"
   ]
  },
  {
   "cell_type": "code",
   "execution_count": 34,
   "id": "89e59dd1",
   "metadata": {},
   "outputs": [
    {
     "name": "stdout",
     "output_type": "stream",
     "text": [
      "d15   d135    0.991132\n",
      "d72   d116    0.992245\n",
      "d65   d116    0.993666\n",
      "d116  d135    0.993674\n",
      "d72   d123    0.995725\n",
      "d65   d123    0.996930\n",
      "d123  d135    0.996965\n",
      "d65   d72     0.998353\n",
      "d135  d72     0.998382\n",
      "d65   d135    0.999520\n",
      "dtype: float64\n"
     ]
    }
   ],
   "source": [
    "print(so[11165:11175])"
   ]
  },
  {
   "cell_type": "markdown",
   "id": "d5c3cf3e",
   "metadata": {},
   "source": [
    "There are some very high correlations between the search region latencies in the destinations dataset. This could be due to search regions being close in proximity to eachother, which then I would assume would affect latency since they are somewhat overlapping in connections.\n",
    "\n",
    "When performing feature reduction, we will have to determine which of these search regions are vital to the clusters, especially since there are many of them ... 149 \"d\" columns.\n",
    "\n",
    "Also, in terms of the realm of user predictions, I am unsure how search region latencies would contribute to the hotel that someone may decide to book. Therefore, I have decided to not use it for model since I do not have great clarity on the data and I don't think it is useful to our business problem."
   ]
  },
  {
   "cell_type": "markdown",
   "id": "d048fdbe",
   "metadata": {},
   "source": [
    "## Taking Subset of train_df for processing purposes"
   ]
  },
  {
   "cell_type": "code",
   "execution_count": 35,
   "id": "2f1e0fb0",
   "metadata": {},
   "outputs": [],
   "source": [
    "#taking a sample of 100,000 records from the training dataset --> currently has over 24 million rows --> about 1/24\n",
    "#using random_state to ensure the diversity of the data is maintained\n",
    "train_dfSub = train_df2.sample(n=100000,random_state=42)"
   ]
  },
  {
   "cell_type": "code",
   "execution_count": 36,
   "id": "d7059729",
   "metadata": {
    "scrolled": true
   },
   "outputs": [
    {
     "data": {
      "text/html": [
       "<div>\n",
       "<style scoped>\n",
       "    .dataframe tbody tr th:only-of-type {\n",
       "        vertical-align: middle;\n",
       "    }\n",
       "\n",
       "    .dataframe tbody tr th {\n",
       "        vertical-align: top;\n",
       "    }\n",
       "\n",
       "    .dataframe thead th {\n",
       "        text-align: right;\n",
       "    }\n",
       "</style>\n",
       "<table border=\"1\" class=\"dataframe\">\n",
       "  <thead>\n",
       "    <tr style=\"text-align: right;\">\n",
       "      <th></th>\n",
       "      <th>date_time</th>\n",
       "      <th>site_name</th>\n",
       "      <th>posa_continent</th>\n",
       "      <th>user_location_country</th>\n",
       "      <th>user_location_region</th>\n",
       "      <th>user_location_city</th>\n",
       "      <th>orig_destination_distance</th>\n",
       "      <th>is_mobile</th>\n",
       "      <th>is_package</th>\n",
       "      <th>channel</th>\n",
       "      <th>...</th>\n",
       "      <th>srch_children_cnt</th>\n",
       "      <th>srch_rm_cnt</th>\n",
       "      <th>srch_destination_id</th>\n",
       "      <th>srch_destination_type_id</th>\n",
       "      <th>is_booking</th>\n",
       "      <th>cnt</th>\n",
       "      <th>hotel_continent</th>\n",
       "      <th>hotel_country</th>\n",
       "      <th>hotel_market</th>\n",
       "      <th>hotel_cluster</th>\n",
       "    </tr>\n",
       "  </thead>\n",
       "  <tbody>\n",
       "    <tr>\n",
       "      <th>27432483</th>\n",
       "      <td>2014-10-04 13:49:19</td>\n",
       "      <td>8</td>\n",
       "      <td>4</td>\n",
       "      <td>77</td>\n",
       "      <td>824</td>\n",
       "      <td>53280</td>\n",
       "      <td>4556.3400</td>\n",
       "      <td>0</td>\n",
       "      <td>0</td>\n",
       "      <td>5</td>\n",
       "      <td>...</td>\n",
       "      <td>0</td>\n",
       "      <td>1</td>\n",
       "      <td>20762</td>\n",
       "      <td>6</td>\n",
       "      <td>0</td>\n",
       "      <td>1</td>\n",
       "      <td>3</td>\n",
       "      <td>182</td>\n",
       "      <td>81</td>\n",
       "      <td>57</td>\n",
       "    </tr>\n",
       "    <tr>\n",
       "      <th>25552549</th>\n",
       "      <td>2014-06-06 17:03:04</td>\n",
       "      <td>2</td>\n",
       "      <td>3</td>\n",
       "      <td>66</td>\n",
       "      <td>321</td>\n",
       "      <td>33705</td>\n",
       "      <td>1693.4533</td>\n",
       "      <td>1</td>\n",
       "      <td>1</td>\n",
       "      <td>9</td>\n",
       "      <td>...</td>\n",
       "      <td>1</td>\n",
       "      <td>1</td>\n",
       "      <td>8791</td>\n",
       "      <td>1</td>\n",
       "      <td>0</td>\n",
       "      <td>2</td>\n",
       "      <td>4</td>\n",
       "      <td>8</td>\n",
       "      <td>110</td>\n",
       "      <td>40</td>\n",
       "    </tr>\n",
       "    <tr>\n",
       "      <th>2603791</th>\n",
       "      <td>2013-02-16 15:41:10</td>\n",
       "      <td>23</td>\n",
       "      <td>1</td>\n",
       "      <td>1</td>\n",
       "      <td>441</td>\n",
       "      <td>568</td>\n",
       "      <td>695.7907</td>\n",
       "      <td>0</td>\n",
       "      <td>1</td>\n",
       "      <td>9</td>\n",
       "      <td>...</td>\n",
       "      <td>0</td>\n",
       "      <td>1</td>\n",
       "      <td>8253</td>\n",
       "      <td>1</td>\n",
       "      <td>0</td>\n",
       "      <td>1</td>\n",
       "      <td>6</td>\n",
       "      <td>70</td>\n",
       "      <td>19</td>\n",
       "      <td>76</td>\n",
       "    </tr>\n",
       "    <tr>\n",
       "      <th>26414512</th>\n",
       "      <td>2014-07-12 01:15:13</td>\n",
       "      <td>2</td>\n",
       "      <td>3</td>\n",
       "      <td>66</td>\n",
       "      <td>322</td>\n",
       "      <td>45317</td>\n",
       "      <td>1095.7759</td>\n",
       "      <td>1</td>\n",
       "      <td>0</td>\n",
       "      <td>9</td>\n",
       "      <td>...</td>\n",
       "      <td>1</td>\n",
       "      <td>1</td>\n",
       "      <td>12233</td>\n",
       "      <td>6</td>\n",
       "      <td>0</td>\n",
       "      <td>1</td>\n",
       "      <td>2</td>\n",
       "      <td>50</td>\n",
       "      <td>675</td>\n",
       "      <td>98</td>\n",
       "    </tr>\n",
       "    <tr>\n",
       "      <th>35530739</th>\n",
       "      <td>2013-05-02 09:13:09</td>\n",
       "      <td>11</td>\n",
       "      <td>3</td>\n",
       "      <td>205</td>\n",
       "      <td>312</td>\n",
       "      <td>53607</td>\n",
       "      <td>4578.6075</td>\n",
       "      <td>0</td>\n",
       "      <td>0</td>\n",
       "      <td>9</td>\n",
       "      <td>...</td>\n",
       "      <td>0</td>\n",
       "      <td>1</td>\n",
       "      <td>8289</td>\n",
       "      <td>1</td>\n",
       "      <td>0</td>\n",
       "      <td>5</td>\n",
       "      <td>6</td>\n",
       "      <td>107</td>\n",
       "      <td>36</td>\n",
       "      <td>30</td>\n",
       "    </tr>\n",
       "  </tbody>\n",
       "</table>\n",
       "<p>5 rows × 23 columns</p>\n",
       "</div>"
      ],
      "text/plain": [
       "                    date_time  site_name  posa_continent  \\\n",
       "27432483  2014-10-04 13:49:19          8               4   \n",
       "25552549  2014-06-06 17:03:04          2               3   \n",
       "2603791   2013-02-16 15:41:10         23               1   \n",
       "26414512  2014-07-12 01:15:13          2               3   \n",
       "35530739  2013-05-02 09:13:09         11               3   \n",
       "\n",
       "          user_location_country  user_location_region  user_location_city  \\\n",
       "27432483                     77                   824               53280   \n",
       "25552549                     66                   321               33705   \n",
       "2603791                       1                   441                 568   \n",
       "26414512                     66                   322               45317   \n",
       "35530739                    205                   312               53607   \n",
       "\n",
       "          orig_destination_distance  is_mobile  is_package  channel  ...  \\\n",
       "27432483                  4556.3400          0           0        5  ...   \n",
       "25552549                  1693.4533          1           1        9  ...   \n",
       "2603791                    695.7907          0           1        9  ...   \n",
       "26414512                  1095.7759          1           0        9  ...   \n",
       "35530739                  4578.6075          0           0        9  ...   \n",
       "\n",
       "         srch_children_cnt srch_rm_cnt  srch_destination_id  \\\n",
       "27432483                 0           1                20762   \n",
       "25552549                 1           1                 8791   \n",
       "2603791                  0           1                 8253   \n",
       "26414512                 1           1                12233   \n",
       "35530739                 0           1                 8289   \n",
       "\n",
       "          srch_destination_type_id  is_booking  cnt  hotel_continent  \\\n",
       "27432483                         6           0    1                3   \n",
       "25552549                         1           0    2                4   \n",
       "2603791                          1           0    1                6   \n",
       "26414512                         6           0    1                2   \n",
       "35530739                         1           0    5                6   \n",
       "\n",
       "          hotel_country  hotel_market  hotel_cluster  \n",
       "27432483            182            81             57  \n",
       "25552549              8           110             40  \n",
       "2603791              70            19             76  \n",
       "26414512             50           675             98  \n",
       "35530739            107            36             30  \n",
       "\n",
       "[5 rows x 23 columns]"
      ]
     },
     "execution_count": 36,
     "metadata": {},
     "output_type": "execute_result"
    }
   ],
   "source": [
    "train_dfSub.head()"
   ]
  },
  {
   "cell_type": "code",
   "execution_count": 37,
   "id": "da93faaa",
   "metadata": {
    "scrolled": true
   },
   "outputs": [
    {
     "data": {
      "text/plain": [
       "<AxesSubplot:xlabel='hotel_cluster', ylabel='Count'>"
      ]
     },
     "execution_count": 37,
     "metadata": {},
     "output_type": "execute_result"
    },
    {
     "data": {
      "image/png": "[encoded data removed]",
      "text/plain": [
       "<Figure size 432x288 with 1 Axes>"
      ]
     },
     "metadata": {
      "needs_background": "light"
     },
     "output_type": "display_data"
    }
   ],
   "source": [
    "#histogram of hotel_cluster variable to compare with whole dataset\n",
    "\n",
    "sns.histplot(data=train_dfSub, x=\"hotel_cluster\")"
   ]
  },
  {
   "cell_type": "markdown",
   "id": "7b23713a",
   "metadata": {},
   "source": [
    "## Encoding for Non-Numeric Columns"
   ]
  },
  {
   "cell_type": "markdown",
   "id": "c4063ceb",
   "metadata": {},
   "source": [
    "The non-numeric columns in our dataset are date_time, srch_ci (check-in date) and srch_co (check-out date). They are currently defined as objects, so I will be converting them to datetime format and then to numeric for modeling purposes."
   ]
  },
  {
   "cell_type": "markdown",
   "id": "43b72e34",
   "metadata": {},
   "source": [
    "### Object to DateTime"
   ]
  },
  {
   "cell_type": "code",
   "execution_count": 38,
   "id": "7fc56c60",
   "metadata": {},
   "outputs": [],
   "source": [
    "train_dfSub['date_time'] = pd.to_datetime(train_dfSub['date_time'])"
   ]
  },
  {
   "cell_type": "code",
   "execution_count": 39,
   "id": "ec9d31d3",
   "metadata": {},
   "outputs": [],
   "source": [
    "train_dfSub['srch_ci'] = pd.to_datetime(train_dfSub['srch_ci'])"
   ]
  },
  {
   "cell_type": "code",
   "execution_count": 40,
   "id": "41db4b6e",
   "metadata": {},
   "outputs": [],
   "source": [
    "train_dfSub['srch_co'] = pd.to_datetime(train_dfSub['srch_co'])"
   ]
  },
  {
   "cell_type": "markdown",
   "id": "5215fc1d",
   "metadata": {},
   "source": [
    "### DateTime to Numeric"
   ]
  },
  {
   "cell_type": "code",
   "execution_count": 41,
   "id": "e87f5325",
   "metadata": {},
   "outputs": [
    {
     "name": "stdout",
     "output_type": "stream",
     "text": [
      "27432483    735510\n",
      "25552549    735390\n",
      "2603791     734915\n",
      "26414512    735426\n",
      "35530739    734990\n",
      "             ...  \n",
      "5078866     735446\n",
      "6648130     735490\n",
      "32182492    735340\n",
      "4410348     735332\n",
      "17174432    735053\n",
      "Name: date_time, Length: 100000, dtype: int64\n"
     ]
    }
   ],
   "source": [
    "# toordinal() function returns the proleptic Gregorian ordinal of a date.\n",
    "#day count from the date 01/01/01\n",
    "train_dfSub['date_time'] = train_dfSub['date_time'].apply(lambda x:x.toordinal())\n",
    "print(train_dfSub['date_time'])"
   ]
  },
  {
   "cell_type": "code",
   "execution_count": 42,
   "id": "ecc4f8e9",
   "metadata": {},
   "outputs": [],
   "source": [
    "train_dfSub['srch_ci'] = train_dfSub['srch_ci'].apply(lambda x:x.toordinal())"
   ]
  },
  {
   "cell_type": "code",
   "execution_count": 43,
   "id": "1d79624b",
   "metadata": {},
   "outputs": [],
   "source": [
    "train_dfSub['srch_co'] = train_dfSub['srch_co'].apply(lambda x:x.toordinal())"
   ]
  },
  {
   "cell_type": "markdown",
   "id": "ca8cba6e",
   "metadata": {},
   "source": [
    "## Feature Selection"
   ]
  },
  {
   "cell_type": "code",
   "execution_count": 44,
   "id": "c8f11643",
   "metadata": {},
   "outputs": [],
   "source": [
    "from statsmodels.stats.outliers_influence import variance_inflation_factor\n",
    "#features --> all variables except for day_promocat\n",
    "x=train_dfSub.drop(['hotel_cluster'],axis=1)\n",
    "#target variable --> day_promocat\n",
    "y= train_dfSub['hotel_cluster']"
   ]
  },
  {
   "cell_type": "code",
   "execution_count": 45,
   "id": "e68d64c8",
   "metadata": {},
   "outputs": [
    {
     "name": "stdout",
     "output_type": "stream",
     "text": [
      "(100000, 22)\n",
      "(100000,)\n"
     ]
    }
   ],
   "source": [
    "print(x.shape)\n",
    "print(y.shape)"
   ]
  },
  {
   "cell_type": "code",
   "execution_count": 46,
   "id": "1fa48d66",
   "metadata": {},
   "outputs": [],
   "source": [
    "#function for calculating the VIF score for each feature to determine if collinearity exists among variable\n",
    "#finding values with large absolute values greater than 5\n",
    "#function from https://medium.com/analytics-vidhya/feature-selection-techniques-2614b3b7efcd\n",
    "def cal_vif(x):\n",
    "    #threshold for VIF score\n",
    "    thresh = 5\n",
    "    output = pd.DataFrame()\n",
    "    #number of columns\n",
    "    k = x.shape[1]\n",
    "    #calculate the VIF for the values in each column in the features\n",
    "    vif = [variance_inflation_factor(x.values,i) for i in range(x.shape[1])]\n",
    "    for i in range(1,k):\n",
    "        print('Iteration no ',i)\n",
    "        print(vif)\n",
    "        #determine the feature with max VIF\n",
    "        a = np.argmax(vif)\n",
    "        print('Max vif is for variable no : ',a)\n",
    "        #if max is not less than the threshold of 5.0, break and keep looking\n",
    "        if(vif[a]<=thresh):\n",
    "            break\n",
    "        #else drop features and keep searching ... recursive\n",
    "        if(i==1):\n",
    "            output=x.drop(x.columns[a],axis=1)\n",
    "            vif = [variance_inflation_factor(output.values,j)for j in range(output.shape[1])]\n",
    "        elif(i>1):\n",
    "            output = output.drop(output.columns[a],axis=1)\n",
    "            vif = [variance_inflation_factor(output.values,j) for j in range(output.shape[1])]\n",
    "    return(output)"
   ]
  },
  {
   "cell_type": "code",
   "execution_count": 47,
   "id": "40616c50",
   "metadata": {},
   "outputs": [
    {
     "name": "stdout",
     "output_type": "stream",
     "text": [
      "Iteration no  1\n",
      "[154211269.09216362, 2.8816866006208928, 43.724849324222944, 6.219727407168511, 5.9590663073360535, 3.9692282118354583, 2.5225316733330088, 1.1703849270900009, 1.6216560610385669, 3.6709986311675866, 71056549370.39777, 69939816397.41423, 8.418522573437631, 1.251059093818958, 9.996681648001134, 3.5752558644072683, 3.2174156966621856, 1.1273473886220398, 2.6315059945184287, 6.811639807548657, 3.579944964724239, 2.7998591393465593]\n",
      "Max vif is for variable no :  10\n",
      "Iteration no  2\n",
      "[148527201.67191383, 2.881652330348754, 43.69105096311817, 6.215217571380036, 5.958615149340423, 3.968983238660307, 2.4794651124355447, 1.170384852234749, 1.5314582574518187, 3.670371373619393, 148548387.72558966, 8.418225541508507, 1.2493281195160402, 9.995301298371416, 3.5729645085186257, 3.2167311754444996, 1.1244644331663207, 2.6315058524386292, 6.808206858880548, 3.5745034094153514, 2.799840389201699]\n",
      "Max vif is for variable no :  10\n",
      "Iteration no  3\n",
      "[71.1173906605984, 2.8816221593303273, 43.67701121046377, 6.212528352119551, 5.9529499736793365, 3.9689182285193936, 2.350450292306771, 1.1703587115382053, 1.4685261652963078, 3.6676174141764584, 8.335953132704697, 1.243685175722513, 9.985851315687336, 3.5728282709338948, 3.216571808210119, 1.1209119643687684, 2.6313105155674665, 6.758969824995024, 3.5710679190444212, 2.799826340170805]\n",
      "Max vif is for variable no :  0\n",
      "Iteration no  4\n",
      "[2.686470684866601, 19.360421148466525, 6.15959077906966, 5.850017396868377, 3.8463613225608713, 2.3104740030083253, 1.1672429508748967, 1.4559081577088824, 3.584411520693851, 8.182827556894239, 1.242225734726312, 9.58257163922863, 3.5494158077923688, 3.1870511972380258, 1.115607386649198, 2.578651577372359, 5.699942159890134, 3.560210467420196, 2.7288036185059306]\n",
      "Max vif is for variable no :  1\n",
      "Iteration no  5\n",
      "[2.191827788486745, 4.968442175830304, 5.14701689412862, 3.7627146224323416, 2.3018217078285086, 1.1566381754115505, 1.4459680271922437, 3.358721347118565, 7.957094883571302, 1.2411150132518534, 9.239310579816376, 3.5163822718015405, 3.123348921006469, 1.1105813740431056, 2.513505972134095, 5.646635193720681, 3.538750657981778, 2.646724025824044]\n",
      "Max vif is for variable no :  10\n",
      "Iteration no  6\n",
      "[2.1857390666324523, 4.948080038064307, 5.086944598203916, 3.744443498308288, 2.3016642682201742, 1.156629645641894, 1.4456017463862556, 3.314134817923788, 5.138762513152699, 1.2366369990103012, 3.5122671389685207, 3.11057367455841, 1.1057709304299927, 2.505491483785493, 5.570990464003583, 3.534559272145832, 2.6332625567695174]\n",
      "Max vif is for variable no :  14\n",
      "Iteration no  7\n",
      "[2.1684157622040416, 4.904355344000578, 5.053286942139432, 3.698328808524001, 1.9715030581813475, 1.156310162727602, 1.390815083604094, 3.2832806635949647, 4.944343169491927, 1.2365980573713449, 3.4905705350710328, 3.1029802877829797, 1.105238620236286, 2.48486553639306, 3.290319682148963, 2.632862882917116]\n",
      "Max vif is for variable no :  2\n",
      "Iteration no  8\n",
      "[2.167476493759906, 4.877880432946719, 3.4749857253199967, 1.8931865688094447, 1.1547396819057252, 1.381678442635484, 3.247411058767915, 4.714804990766462, 1.234843173002622, 3.4685110186345276, 3.0895229555652803, 1.1027570875766186, 2.4650626301210457, 3.285291555749667, 2.582439563807821]\n",
      "Max vif is for variable no :  1\n"
     ]
    },
    {
     "data": {
      "text/html": [
       "<div>\n",
       "<style scoped>\n",
       "    .dataframe tbody tr th:only-of-type {\n",
       "        vertical-align: middle;\n",
       "    }\n",
       "\n",
       "    .dataframe tbody tr th {\n",
       "        vertical-align: top;\n",
       "    }\n",
       "\n",
       "    .dataframe thead th {\n",
       "        text-align: right;\n",
       "    }\n",
       "</style>\n",
       "<table border=\"1\" class=\"dataframe\">\n",
       "  <thead>\n",
       "    <tr style=\"text-align: right;\">\n",
       "      <th></th>\n",
       "      <th>site_name</th>\n",
       "      <th>user_location_country</th>\n",
       "      <th>user_location_city</th>\n",
       "      <th>orig_destination_distance</th>\n",
       "      <th>is_mobile</th>\n",
       "      <th>is_package</th>\n",
       "      <th>channel</th>\n",
       "      <th>srch_adults_cnt</th>\n",
       "      <th>srch_children_cnt</th>\n",
       "      <th>srch_destination_id</th>\n",
       "      <th>srch_destination_type_id</th>\n",
       "      <th>is_booking</th>\n",
       "      <th>cnt</th>\n",
       "      <th>hotel_country</th>\n",
       "      <th>hotel_market</th>\n",
       "    </tr>\n",
       "  </thead>\n",
       "  <tbody>\n",
       "    <tr>\n",
       "      <th>27432483</th>\n",
       "      <td>8</td>\n",
       "      <td>77</td>\n",
       "      <td>53280</td>\n",
       "      <td>4556.3400</td>\n",
       "      <td>0</td>\n",
       "      <td>0</td>\n",
       "      <td>5</td>\n",
       "      <td>2</td>\n",
       "      <td>0</td>\n",
       "      <td>20762</td>\n",
       "      <td>6</td>\n",
       "      <td>0</td>\n",
       "      <td>1</td>\n",
       "      <td>182</td>\n",
       "      <td>81</td>\n",
       "    </tr>\n",
       "    <tr>\n",
       "      <th>25552549</th>\n",
       "      <td>2</td>\n",
       "      <td>66</td>\n",
       "      <td>33705</td>\n",
       "      <td>1693.4533</td>\n",
       "      <td>1</td>\n",
       "      <td>1</td>\n",
       "      <td>9</td>\n",
       "      <td>2</td>\n",
       "      <td>1</td>\n",
       "      <td>8791</td>\n",
       "      <td>1</td>\n",
       "      <td>0</td>\n",
       "      <td>2</td>\n",
       "      <td>8</td>\n",
       "      <td>110</td>\n",
       "    </tr>\n",
       "    <tr>\n",
       "      <th>2603791</th>\n",
       "      <td>23</td>\n",
       "      <td>1</td>\n",
       "      <td>568</td>\n",
       "      <td>695.7907</td>\n",
       "      <td>0</td>\n",
       "      <td>1</td>\n",
       "      <td>9</td>\n",
       "      <td>2</td>\n",
       "      <td>0</td>\n",
       "      <td>8253</td>\n",
       "      <td>1</td>\n",
       "      <td>0</td>\n",
       "      <td>1</td>\n",
       "      <td>70</td>\n",
       "      <td>19</td>\n",
       "    </tr>\n",
       "    <tr>\n",
       "      <th>26414512</th>\n",
       "      <td>2</td>\n",
       "      <td>66</td>\n",
       "      <td>45317</td>\n",
       "      <td>1095.7759</td>\n",
       "      <td>1</td>\n",
       "      <td>0</td>\n",
       "      <td>9</td>\n",
       "      <td>1</td>\n",
       "      <td>1</td>\n",
       "      <td>12233</td>\n",
       "      <td>6</td>\n",
       "      <td>0</td>\n",
       "      <td>1</td>\n",
       "      <td>50</td>\n",
       "      <td>675</td>\n",
       "    </tr>\n",
       "    <tr>\n",
       "      <th>35530739</th>\n",
       "      <td>11</td>\n",
       "      <td>205</td>\n",
       "      <td>53607</td>\n",
       "      <td>4578.6075</td>\n",
       "      <td>0</td>\n",
       "      <td>0</td>\n",
       "      <td>9</td>\n",
       "      <td>4</td>\n",
       "      <td>0</td>\n",
       "      <td>8289</td>\n",
       "      <td>1</td>\n",
       "      <td>0</td>\n",
       "      <td>5</td>\n",
       "      <td>107</td>\n",
       "      <td>36</td>\n",
       "    </tr>\n",
       "  </tbody>\n",
       "</table>\n",
       "</div>"
      ],
      "text/plain": [
       "          site_name  user_location_country  user_location_city  \\\n",
       "27432483          8                     77               53280   \n",
       "25552549          2                     66               33705   \n",
       "2603791          23                      1                 568   \n",
       "26414512          2                     66               45317   \n",
       "35530739         11                    205               53607   \n",
       "\n",
       "          orig_destination_distance  is_mobile  is_package  channel  \\\n",
       "27432483                  4556.3400          0           0        5   \n",
       "25552549                  1693.4533          1           1        9   \n",
       "2603791                    695.7907          0           1        9   \n",
       "26414512                  1095.7759          1           0        9   \n",
       "35530739                  4578.6075          0           0        9   \n",
       "\n",
       "          srch_adults_cnt  srch_children_cnt  srch_destination_id  \\\n",
       "27432483                2                  0                20762   \n",
       "25552549                2                  1                 8791   \n",
       "2603791                 2                  0                 8253   \n",
       "26414512                1                  1                12233   \n",
       "35530739                4                  0                 8289   \n",
       "\n",
       "          srch_destination_type_id  is_booking  cnt  hotel_country  \\\n",
       "27432483                         6           0    1            182   \n",
       "25552549                         1           0    2              8   \n",
       "2603791                          1           0    1             70   \n",
       "26414512                         6           0    1             50   \n",
       "35530739                         1           0    5            107   \n",
       "\n",
       "          hotel_market  \n",
       "27432483            81  \n",
       "25552549           110  \n",
       "2603791             19  \n",
       "26414512           675  \n",
       "35530739            36  "
      ]
     },
     "execution_count": 47,
     "metadata": {},
     "output_type": "execute_result"
    }
   ],
   "source": [
    "selected_features = cal_vif(x)\n",
    "selected_features.head()"
   ]
  },
  {
   "cell_type": "code",
   "execution_count": 48,
   "id": "c621c67b",
   "metadata": {},
   "outputs": [
    {
     "name": "stdout",
     "output_type": "stream",
     "text": [
      "(100000, 15)\n"
     ]
    }
   ],
   "source": [
    "print(selected_features.shape)"
   ]
  },
  {
   "cell_type": "markdown",
   "id": "6681eb22",
   "metadata": {},
   "source": [
    "Number of features went from original 23 (after dropping user_id) to 15"
   ]
  },
  {
   "cell_type": "markdown",
   "id": "f415dafd",
   "metadata": {},
   "source": [
    "## Predictive Modeling"
   ]
  },
  {
   "cell_type": "code",
   "execution_count": 49,
   "id": "102447df",
   "metadata": {},
   "outputs": [],
   "source": [
    "from sklearn.linear_model import Lasso, LogisticRegression\n",
    "from sklearn.metrics import accuracy_score, confusion_matrix,roc_curve, roc_auc_score, precision_score, recall_score, precision_recall_curve\n",
    "# split X and y into training and testing sets\n",
    "from sklearn.model_selection import train_test_split\n",
    "#split the dataset into training and test sets --> 75:25\n",
    "#30% for testing\n",
    "X_train,X_test,y_train,y_test=train_test_split(selected_features,y,test_size=0.30,random_state=42)"
   ]
  },
  {
   "cell_type": "markdown",
   "id": "8f769416",
   "metadata": {},
   "source": [
    "### Naive Bayes Classifier\n",
    "\n",
    "A Naive Bayes classifier works by calculating the probabilities of each class and assumes that the probabilities of each attribute value is independent of the rest. \n",
    "\n",
    "It is used for classification problems, which is why it is useful for this problem since we are trying to perform classification with the hotel cluster values. "
   ]
  },
  {
   "cell_type": "code",
   "execution_count": 50,
   "id": "be6cc29d",
   "metadata": {},
   "outputs": [],
   "source": [
    "from sklearn.naive_bayes import GaussianNB"
   ]
  },
  {
   "cell_type": "code",
   "execution_count": 51,
   "id": "6c052dbf",
   "metadata": {},
   "outputs": [
    {
     "data": {
      "text/plain": [
       "GaussianNB()"
      ]
     },
     "execution_count": 51,
     "metadata": {},
     "output_type": "execute_result"
    }
   ],
   "source": [
    "# instantiate the model\n",
    "gnb = GaussianNB()\n",
    "\n",
    "\n",
    "# fit the model\n",
    "#selected features from VIF function\n",
    "#y is our target variable --> hotel_cluster\n",
    "gnb.fit(X_train, y_train)"
   ]
  },
  {
   "cell_type": "code",
   "execution_count": 52,
   "id": "68a83e2b",
   "metadata": {},
   "outputs": [
    {
     "data": {
      "text/plain": [
       "array([95, 26, 85, ..., 54, 55, 54], dtype=int64)"
      ]
     },
     "execution_count": 52,
     "metadata": {},
     "output_type": "execute_result"
    }
   ],
   "source": [
    "#predict the results\n",
    "y_pred = gnb.predict(X_test)\n",
    "\n",
    "y_pred"
   ]
  },
  {
   "cell_type": "markdown",
   "id": "af8b1b19",
   "metadata": {},
   "source": [
    "### Naive Bayes - Evaluation"
   ]
  },
  {
   "cell_type": "code",
   "execution_count": 53,
   "id": "7b055c69",
   "metadata": {},
   "outputs": [
    {
     "name": "stdout",
     "output_type": "stream",
     "text": [
      "0.060533333333333335\n"
     ]
    }
   ],
   "source": [
    "# Evaluate accuracy\n",
    "print(accuracy_score(y_test, y_pred))"
   ]
  },
  {
   "cell_type": "markdown",
   "id": "06016913",
   "metadata": {},
   "source": [
    "For the Naive Bayes classifier, the accuracy score is very low at ~6.005%. This means that 6.005% of the time the classifier is able to make the correct predictions as to which hotel_cluster the user instances fall into."
   ]
  },
  {
   "cell_type": "code",
   "execution_count": 54,
   "id": "47016cfa",
   "metadata": {},
   "outputs": [
    {
     "data": {
      "text/plain": [
       "array([[ 40,   5,   0, ...,  15,   0,   0],\n",
       "       [  0, 262,   0, ...,   3,   0,   0],\n",
       "       [  6,   0,   0, ...,  31,   0,   0],\n",
       "       ...,\n",
       "       [ 20,   0,   0, ...,  52,   1,   0],\n",
       "       [ 14,   0,   0, ...,  29,   0,   0],\n",
       "       [  4,   0,   0, ...,  32,   0,   0]], dtype=int64)"
      ]
     },
     "execution_count": 54,
     "metadata": {},
     "output_type": "execute_result"
    }
   ],
   "source": [
    "#confusion matrix\n",
    "\n",
    "# import the metrics class\n",
    "from sklearn import metrics\n",
    "\n",
    "#confusion matrix to evaluate the performance of the classification model\n",
    "cnf_matrix = metrics.confusion_matrix(y_test, y_pred)\n",
    "cnf_matrix"
   ]
  },
  {
   "cell_type": "code",
   "execution_count": 55,
   "id": "8deeb8bd",
   "metadata": {},
   "outputs": [
    {
     "name": "stdout",
     "output_type": "stream",
     "text": [
      "Classification Report: \n",
      "              precision    recall  f1-score   support\n",
      "\n",
      "           0       0.07      0.11      0.09       359\n",
      "           1       0.26      0.59      0.36       447\n",
      "           4       0.02      0.00      0.01       337\n",
      "           5       0.03      0.03      0.03       445\n",
      "           7       0.05      0.01      0.02       221\n",
      "           8       0.00      0.00      0.00       214\n",
      "           9       0.04      0.00      0.01       366\n",
      "          10       0.00      0.00      0.00       312\n",
      "          12       0.02      0.02      0.02        93\n",
      "          15       0.00      0.00      0.00       252\n",
      "          16       0.03      0.01      0.02       384\n",
      "          18       0.00      0.00      0.00       509\n",
      "          20       0.03      0.01      0.02       178\n",
      "          21       0.00      0.00      0.00       469\n",
      "          24       0.15      0.26      0.19       172\n",
      "          25       0.00      0.00      0.00       382\n",
      "          26       0.10      0.02      0.03       361\n",
      "          27       0.10      0.48      0.16        67\n",
      "          28       0.02      0.01      0.01       428\n",
      "          30       0.04      0.04      0.04       262\n",
      "          31       0.00      0.00      0.00       258\n",
      "          32       0.00      0.00      0.00       271\n",
      "          33       0.17      0.00      0.01       362\n",
      "          34       0.00      0.00      0.00       323\n",
      "          36       0.09      0.01      0.02       237\n",
      "          37       0.00      0.00      0.00       438\n",
      "          39       0.03      0.05      0.04       355\n",
      "          41       0.02      0.01      0.01       711\n",
      "          42       0.00      0.00      0.00       511\n",
      "          43       0.04      0.06      0.04       178\n",
      "          44       0.00      0.00      0.00       198\n",
      "          45       0.12      0.04      0.07       225\n",
      "          46       0.01      0.00      0.00       273\n",
      "          48       0.07      0.00      0.01       701\n",
      "          51       0.00      0.00      0.00       349\n",
      "          52       0.08      0.01      0.02       338\n",
      "          54       0.01      0.13      0.02       239\n",
      "          55       0.05      0.12      0.07       406\n",
      "          56       0.06      0.02      0.02       331\n",
      "          57       0.03      0.02      0.03       131\n",
      "          58       0.00      0.00      0.00       232\n",
      "          59       0.05      0.05      0.05       388\n",
      "          60       0.12      0.01      0.02       125\n",
      "          61       0.01      0.01      0.01       171\n",
      "          62       0.07      0.05      0.06       325\n",
      "          63       0.04      0.01      0.02       153\n",
      "          64       0.07      0.23      0.11       390\n",
      "          65       0.14      0.78      0.24       676\n",
      "          66       0.09      0.09      0.09       265\n",
      "          67       0.06      0.11      0.08       144\n",
      "          68       0.00      0.00      0.00       433\n",
      "          69       0.00      0.00      0.00       278\n",
      "          70       0.02      0.00      0.01       477\n",
      "          71       0.04      0.08      0.05       213\n",
      "          72       0.00      0.00      0.00       382\n",
      "          73       0.00      0.00      0.00       311\n",
      "          74       0.02      0.71      0.05        42\n",
      "          76       0.00      0.00      0.00       264\n",
      "          78       0.01      0.00      0.01       201\n",
      "          79       0.00      0.06      0.01       263\n",
      "          80       0.07      0.12      0.09       178\n",
      "          81       0.00      0.00      0.00       152\n",
      "          82       0.09      0.02      0.03       237\n",
      "          83       0.04      0.00      0.01       469\n",
      "          85       0.01      0.01      0.01       186\n",
      "          87       0.05      0.05      0.05       263\n",
      "          88       0.06      0.20      0.09        88\n",
      "          90       0.07      0.01      0.01       322\n",
      "          91       0.07      0.35      0.11      1041\n",
      "          92       0.03      0.01      0.01       205\n",
      "          93       0.01      0.01      0.01       187\n",
      "          94       0.00      0.00      0.00       298\n",
      "          95       0.01      0.00      0.00       470\n",
      "          96       0.00      0.00      0.00       315\n",
      "          97       0.04      0.15      0.06       342\n",
      "          98       0.00      0.00      0.00       518\n",
      "\n",
      "   micro avg       0.06      0.08      0.07     24097\n",
      "   macro avg       0.04      0.07      0.03     24097\n",
      "weighted avg       0.04      0.08      0.04     24097\n",
      "\n"
     ]
    }
   ],
   "source": [
    "#metrics for confusion matrix evaluation\n",
    "print(f'Classification Report: \\n{metrics.classification_report(y_test, y_pred,labels=np.unique(y_pred))}')"
   ]
  },
  {
   "cell_type": "markdown",
   "id": "675728e3",
   "metadata": {},
   "source": [
    "When looking at the classification report for the various hotel clusters, there are some with higher values of precision and recall such as #1 with a precision of 0.23 and a recall of 0.76. Also, for #65, it has a precision of 0.13 and a recall of 0.77.\n",
    "\n",
    "This could be due to those classes having more representation in the dataset as mentioned earlier when looking at the histogram for hotel_cluster.\n",
    "\n",
    "Therefore, I'd like to explore if handling the imbalanced classes helps with modeling results."
   ]
  },
  {
   "cell_type": "markdown",
   "id": "204a78b1",
   "metadata": {},
   "source": [
    "### Random Forest\n",
    "\n",
    "A random forest is an ensemble of decision trees, and it can be used for classification and regression algorithms.\n",
    "\n",
    "Random forest involves constructing a large number of decision trees from bootstrapped samples from the training dataset. It also involves a form of feature reduction in each split of the decision tree.\n",
    "\n",
    "The effect is that the predictions, and in turn, prediction errors, made by each tree in the ensemble are more different or less correlated. When the predictions from these less correlated trees are averaged to make a prediction, it often results in better performance than bagged decision trees."
   ]
  },
  {
   "cell_type": "markdown",
   "id": "42e3b447",
   "metadata": {},
   "source": [
    "#### Run Model"
   ]
  },
  {
   "cell_type": "code",
   "execution_count": 56,
   "id": "1dedc5ad",
   "metadata": {},
   "outputs": [
    {
     "data": {
      "text/plain": [
       "RandomForestRegressor(n_estimators=1000, random_state=42)"
      ]
     },
     "execution_count": 56,
     "metadata": {},
     "output_type": "execute_result"
    }
   ],
   "source": [
    "# Import the model we are using\n",
    "from sklearn.ensemble import RandomForestRegressor\n",
    "# Instantiate model with 1000 decision trees\n",
    "rf = RandomForestRegressor(n_estimators = 1000, random_state = 42)\n",
    "# Train the model on training data\n",
    "rf.fit(X_train, y_train)"
   ]
  },
  {
   "cell_type": "code",
   "execution_count": 57,
   "id": "4f01f81b",
   "metadata": {},
   "outputs": [
    {
     "name": "stdout",
     "output_type": "stream",
     "text": [
      "Mean Absolute Error: 24.48 degrees.\n"
     ]
    }
   ],
   "source": [
    "# Use the forest's predict method on the test data\n",
    "predictions = rf.predict(X_test)\n",
    "# Calculate the absolute errors\n",
    "errors = abs(predictions - y_test)\n",
    "# Print out the mean absolute error (mae)\n",
    "print('Mean Absolute Error:', round(np.mean(errors), 2), 'degrees.')"
   ]
  },
  {
   "cell_type": "markdown",
   "id": "5e2cd924",
   "metadata": {},
   "source": [
    "#### Evaluate Model"
   ]
  },
  {
   "cell_type": "code",
   "execution_count": 58,
   "id": "36b722ee",
   "metadata": {},
   "outputs": [
    {
     "name": "stdout",
     "output_type": "stream",
     "text": [
      "Mean Absolute Percentage Error: 2543878365598562.0 degrees.\n"
     ]
    }
   ],
   "source": [
    "from sklearn.metrics import mean_absolute_percentage_error\n",
    "# Calculate mean absolute percentage error (MAPE)\n",
    "mape = mean_absolute_percentage_error(y_test, predictions)\n",
    "\n",
    "print('Mean Absolute Percentage Error:', round(mape, 2), 'degrees.')"
   ]
  },
  {
   "cell_type": "markdown",
   "id": "e80c4006",
   "metadata": {},
   "source": [
    "Mean Absolute Percentage Error (MAPE) is a statistical measure to define the accuracy of this random forest model on our training and test sets.\n",
    "\n",
    "The lower the MAPE, the better the fit of the model. For this random forest model, it is an extremely high MAPE value which is not a good sign for the model fit. Therefore, for this datset, I would say the random forest model does not do a good job of fifting the model as its error is extremely high"
   ]
  },
  {
   "cell_type": "markdown",
   "id": "3db3e844",
   "metadata": {},
   "source": [
    "### Naive Bayes - Handling Imbalanced Classes (Took too long to run for final output --> still wanted to show results from when it did run fully)"
   ]
  },
  {
   "cell_type": "markdown",
   "id": "b5c647af",
   "metadata": {},
   "source": [
    "Using penalized learning algorithms\n",
    "- increase the cost of classification mistakes on the minority class\n",
    "- Penalized-SVC (Support Vector Classifier)"
   ]
  },
  {
   "cell_type": "code",
   "execution_count": null,
   "id": "55f93197",
   "metadata": {},
   "outputs": [],
   "source": [
    "####### load library\n",
    "from sklearn.svm import SVC\n",
    "\n",
    "####### we can add class_weight='balanced' to add panalize mistake\n",
    "svc_model = SVC(class_weight='balanced', probability=False)\n",
    "\n",
    "svc_model.fit(X_train, y_train)\n",
    "\n",
    "svc_predict = svc_model.predict(X_test)# check performance"
   ]
  },
  {
   "cell_type": "code",
   "execution_count": null,
   "id": "3233d817",
   "metadata": {},
   "outputs": [],
   "source": [
    "#metrics for confusion matrix evaluation\n",
    "print(f'Classification Report: \\n{metrics.classification_report(y_test, svc_predict,labels=np.unique(svc_predict))}')"
   ]
  },
  {
   "cell_type": "code",
   "execution_count": null,
   "id": "d739f746",
   "metadata": {},
   "outputs": [],
   "source": [
    "####### Evaluate accuracy\n",
    "print(accuracy_score(y_test, svc_predict))"
   ]
  },
  {
   "cell_type": "markdown",
   "id": "fbdad5e7",
   "metadata": {},
   "source": [
    "Even when handling the imbalanced classes in the Naive Bayes classifier, the accuracy did not improve ... it actually decreased from 6.367% to 0.82133%. Therefore, the penalties on the minority classes were not enough of a compensation to improve the modeling efficacy for our dataset.\n",
    "\n",
    "The recall for certain classes is moderate but the precision for all of the outputted classes is extremely low at basically 0. This shows that the model was not able to correctly classify the classes for any data points in the test set. This is obviously not a great performance for a predictive model."
   ]
  },
  {
   "cell_type": "markdown",
   "id": "3fdab2a7",
   "metadata": {},
   "source": [
    "### Ensemble Effect\n",
    "\n",
    "I also wanted to try out some ensemble techniques, since they combine predictions from different models to generate a final prediction. The more models included, the better the overall performance hopefully!\n",
    "\n",
    "Therefore, I am going to implement an AdaBoost Classifier to investigate if it performs with a different accuracy than the standard models above."
   ]
  },
  {
   "cell_type": "markdown",
   "id": "df0f20c2",
   "metadata": {},
   "source": [
    "#### AdaBoost Classifier\n",
    "\n",
    "AdaBoost Classifiers involve using very short decision trees as week learners that are added sequentially to the ensemble. Each subsequent model attemps to correct the predictions made by the model before it in the sequence. This is achieved by weighing the training dataset to put more focus on training examples on which prior models made prediction errors."
   ]
  },
  {
   "cell_type": "code",
   "execution_count": 60,
   "id": "ef1f7a34",
   "metadata": {},
   "outputs": [
    {
     "name": "stdout",
     "output_type": "stream",
     "text": [
      "Cross validation score:  0.05024285714285713\n"
     ]
    }
   ],
   "source": [
    "# AdaBoost Classification\n",
    "\n",
    "from sklearn.ensemble import AdaBoostClassifier\n",
    "from sklearn import model_selection\n",
    "seed = 7\n",
    "num_trees = 70\n",
    "kfold = model_selection.KFold(n_splits=10, random_state=seed,shuffle=True)\n",
    "#building out the AdaBoost classifier\n",
    "model = AdaBoostClassifier(n_estimators=num_trees, random_state=seed)\n",
    "#fitting the model on our training set\n",
    "model.fit(X_train,y_train)\n",
    "\n",
    "\n",
    "results = model_selection.cross_val_score(model, X_train,y_train, cv=kfold)\n",
    "print(\"Cross validation score: \", results.mean())\n",
    "\n",
    "#predicting on test set\n",
    "ada_preds = model.predict(X_test)"
   ]
  },
  {
   "cell_type": "code",
   "execution_count": 61,
   "id": "fc2ce93e",
   "metadata": {
    "scrolled": true
   },
   "outputs": [
    {
     "data": {
      "text/plain": [
       "array([66, 26, 52, ..., 91, 55, 91], dtype=int64)"
      ]
     },
     "execution_count": 61,
     "metadata": {},
     "output_type": "execute_result"
    }
   ],
   "source": [
    "ada_preds"
   ]
  },
  {
   "cell_type": "code",
   "execution_count": 62,
   "id": "11363771",
   "metadata": {},
   "outputs": [
    {
     "name": "stdout",
     "output_type": "stream",
     "text": [
      "Accuracy % for AdaBoost %: 4.526666666666666\n"
     ]
    }
   ],
   "source": [
    "#getting accuracy score\n",
    "print(\"Accuracy % for AdaBoost %:\",metrics.accuracy_score(y_test, ada_preds)*100)"
   ]
  },
  {
   "cell_type": "code",
   "execution_count": 64,
   "id": "ee5d1c13",
   "metadata": {},
   "outputs": [
    {
     "name": "stdout",
     "output_type": "stream",
     "text": [
      "Classification Report: \n",
      "              precision    recall  f1-score   support\n",
      "\n",
      "           0       0.10      0.03      0.04       359\n",
      "           8       0.00      0.00      0.00       214\n",
      "          25       0.02      0.01      0.02       382\n",
      "          26       0.03      0.32      0.05       361\n",
      "          27       0.00      0.10      0.00        67\n",
      "          42       0.08      0.02      0.03       511\n",
      "          43       0.02      0.04      0.02       178\n",
      "          46       0.10      0.04      0.06       273\n",
      "          52       0.00      0.00      0.00       338\n",
      "          55       0.06      0.21      0.10       406\n",
      "          56       0.08      0.02      0.03       331\n",
      "          58       0.03      0.02      0.03       232\n",
      "          59       0.00      0.00      0.00       388\n",
      "          62       0.09      0.05      0.06       325\n",
      "          64       0.01      0.00      0.00       390\n",
      "          65       0.00      0.00      0.00       676\n",
      "          66       0.11      0.74      0.20       265\n",
      "          74       0.00      0.00      0.00        42\n",
      "          82       0.01      0.00      0.01       237\n",
      "          87       0.00      0.00      0.00       263\n",
      "          91       0.06      0.84      0.10      1041\n",
      "          98       0.22      0.00      0.01       518\n",
      "\n",
      "   micro avg       0.05      0.17      0.07      7797\n",
      "   macro avg       0.05      0.11      0.03      7797\n",
      "weighted avg       0.05      0.17      0.04      7797\n",
      "\n"
     ]
    }
   ],
   "source": [
    "#metrics for confusion matrix evaluation\n",
    "print(f'Classification Report: \\n{metrics.classification_report(y_test, ada_preds,labels=np.unique(ada_preds))}')"
   ]
  },
  {
   "cell_type": "markdown",
   "id": "2799cb19",
   "metadata": {},
   "source": [
    "The AdaBoost classifier still performs with an accuracy similar to the other models, and actually just a little bit lower at 4.53%. Even with a focus on the training examples with prediction errors, it still shows some pushback in fitting and predicting from our data.\n",
    "\n",
    "Prediction and recall are still relativelt low except for class #66, which has a precision of 0.11 and a recall of 0.74. The precision is not great, but the recall shows that the model correctly identifies 74% of all hotel clusters with ID 66. "
   ]
  },
  {
   "cell_type": "markdown",
   "id": "88092e3b",
   "metadata": {},
   "source": [
    "## Conclusion"
   ]
  },
  {
   "cell_type": "markdown",
   "id": "3edbe59b",
   "metadata": {},
   "source": [
    "This problem was a doozy but extremely intriguing and useful!\n",
    "\n",
    "First, I had to learn how to work with a large dataset, considering that this one was originally over 37 million rows. Computationally, it was difficult to explore since the operations took quite some time to run. However, after being able to read in the data in a more manageable fashion, it became easier to visalize the data and explore the features in the training set. \n",
    "\n",
    "I thought that there was more value in the training set compared to the destinations dataset. I was originally going to combine both, but given that I could not even understand the information portrayed in the destinations data, I figured it was best not to include since I didn't see its value to the classification problem.\n",
    "\n",
    "As per usual, before modeling the data, I performed encoding on the non-numeric features and also performed feature reduction with VIF to remove any highly-correlated predictors. This feature reduction definitely helped in the next step of modeling as well since only \"significant\" features remained.\n",
    "\n",
    "However, I think in the future, I also would've looked personally more at the features and completed more feature reduction that way than just by VIF calculation. I think this would have helped with more intuition and reasoning behind the model. I could use the VIF model as my baseline, and then cut down the features for another model to do some comparisons.\n",
    "\n",
    "With the modeling, I used the following models:\n",
    "Standard\n",
    "- Naive-Bayes Classifier\n",
    "- Random Forest\n",
    "- SVC (Support Vector Classifier)\n",
    "\n",
    "Ensemble Effect (I wanted to implement the Voting Classifier but it took too long to run)\n",
    "- AdaBoost Classifier\n",
    "\n",
    "As mentioned in the homework assignment, even with the ensemble model, the accuracy for all of them remained extremely low in predicting the hotel clusters on the test set. The highest accuracy value came to around 6%, and with the classification report, the precisiona and recall was also quite disappointing in being able to predict the actual classes of the records in comparing the predictions to the actuals. \n",
    "\n",
    "I think for future enhancements, I would like to try scaling the features before modeling to investigate if that has any positive impact on the model results. I also tried handling the imbalanced classes with the SVC model, but it did not seem to have as much of a positive effect as I would have expected.\n",
    "\n",
    "I also would like to try more ensemble models and try to maximize the performance if computationally able. "
   ]
  },
  {
   "cell_type": "code",
   "execution_count": null,
   "id": "668b9761",
   "metadata": {},
   "outputs": [],
   "source": []
  }
 ],
 "metadata": {
  "kernelspec": {
   "display_name": "Python 3",
   "language": "python",
   "name": "python3"
  },
  "language_info": {
   "codemirror_mode": {
    "name": "ipython",
    "version": 3
   },
   "file_extension": ".py",
   "mimetype": "text/x-python",
   "name": "python",
   "nbconvert_exporter": "python",
   "pygments_lexer": "ipython3",
   "version": "3.8.8"
  }
 },
 "nbformat": 4,
 "nbformat_minor": 5
}
