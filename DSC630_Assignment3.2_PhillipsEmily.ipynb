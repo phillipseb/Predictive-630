{
 "cells": [
  {
   "cell_type": "markdown",
   "id": "082b309a",
   "metadata": {},
   "source": [
    "For this week’s assignment we're going to use Dodgers Major League Baseball data from 2012. The data file you will be using is contained in the dodgers.csv file. I would like you to determine what night would be the best to run a marketing promotion to increase attendance. It is up to you if you decide to recommend a specific date or if you  recommend a day of the week (e.g., Tuesdays) or month and day of the week (e.g., July Tuesdays). Use R and/or Python to accomplish this assignment. It is important to remember, there will be lots of ways to solve this problem. Explain your thought process and how you used various techniques to come up with your recommendation."
   ]
  },
  {
   "cell_type": "markdown",
   "id": "b036138b",
   "metadata": {},
   "source": [
    "### Reading in data"
   ]
  },
  {
   "cell_type": "code",
   "execution_count": 1387,
   "id": "0f3c25ef",
   "metadata": {},
   "outputs": [],
   "source": [
    "import pandas as pd\n",
    "import matplotlib.pyplot as plt\n",
    "import numpy as np\n",
    "import seaborn as sns\n",
    "from sklearn.preprocessing import LabelEncoder"
   ]
  },
  {
   "cell_type": "code",
   "execution_count": 1388,
   "id": "4317fe25",
   "metadata": {},
   "outputs": [
    {
     "data": {
      "text/html": [
       "<div>\n",
       "<style scoped>\n",
       "    .dataframe tbody tr th:only-of-type {\n",
       "        vertical-align: middle;\n",
       "    }\n",
       "\n",
       "    .dataframe tbody tr th {\n",
       "        vertical-align: top;\n",
       "    }\n",
       "\n",
       "    .dataframe thead th {\n",
       "        text-align: right;\n",
       "    }\n",
       "</style>\n",
       "<table border=\"1\" class=\"dataframe\">\n",
       "  <thead>\n",
       "    <tr style=\"text-align: right;\">\n",
       "      <th></th>\n",
       "      <th>month</th>\n",
       "      <th>day</th>\n",
       "      <th>attend</th>\n",
       "      <th>day_of_week</th>\n",
       "      <th>opponent</th>\n",
       "      <th>temp</th>\n",
       "      <th>skies</th>\n",
       "      <th>day_night</th>\n",
       "      <th>cap</th>\n",
       "      <th>shirt</th>\n",
       "      <th>fireworks</th>\n",
       "      <th>bobblehead</th>\n",
       "    </tr>\n",
       "  </thead>\n",
       "  <tbody>\n",
       "    <tr>\n",
       "      <th>0</th>\n",
       "      <td>APR</td>\n",
       "      <td>10</td>\n",
       "      <td>56000</td>\n",
       "      <td>Tuesday</td>\n",
       "      <td>Pirates</td>\n",
       "      <td>67</td>\n",
       "      <td>Clear</td>\n",
       "      <td>Day</td>\n",
       "      <td>NO</td>\n",
       "      <td>NO</td>\n",
       "      <td>NO</td>\n",
       "      <td>NO</td>\n",
       "    </tr>\n",
       "    <tr>\n",
       "      <th>1</th>\n",
       "      <td>APR</td>\n",
       "      <td>11</td>\n",
       "      <td>29729</td>\n",
       "      <td>Wednesday</td>\n",
       "      <td>Pirates</td>\n",
       "      <td>58</td>\n",
       "      <td>Cloudy</td>\n",
       "      <td>Night</td>\n",
       "      <td>NO</td>\n",
       "      <td>NO</td>\n",
       "      <td>NO</td>\n",
       "      <td>NO</td>\n",
       "    </tr>\n",
       "    <tr>\n",
       "      <th>2</th>\n",
       "      <td>APR</td>\n",
       "      <td>12</td>\n",
       "      <td>28328</td>\n",
       "      <td>Thursday</td>\n",
       "      <td>Pirates</td>\n",
       "      <td>57</td>\n",
       "      <td>Cloudy</td>\n",
       "      <td>Night</td>\n",
       "      <td>NO</td>\n",
       "      <td>NO</td>\n",
       "      <td>NO</td>\n",
       "      <td>NO</td>\n",
       "    </tr>\n",
       "    <tr>\n",
       "      <th>3</th>\n",
       "      <td>APR</td>\n",
       "      <td>13</td>\n",
       "      <td>31601</td>\n",
       "      <td>Friday</td>\n",
       "      <td>Padres</td>\n",
       "      <td>54</td>\n",
       "      <td>Cloudy</td>\n",
       "      <td>Night</td>\n",
       "      <td>NO</td>\n",
       "      <td>NO</td>\n",
       "      <td>YES</td>\n",
       "      <td>NO</td>\n",
       "    </tr>\n",
       "    <tr>\n",
       "      <th>4</th>\n",
       "      <td>APR</td>\n",
       "      <td>14</td>\n",
       "      <td>46549</td>\n",
       "      <td>Saturday</td>\n",
       "      <td>Padres</td>\n",
       "      <td>57</td>\n",
       "      <td>Cloudy</td>\n",
       "      <td>Night</td>\n",
       "      <td>NO</td>\n",
       "      <td>NO</td>\n",
       "      <td>NO</td>\n",
       "      <td>NO</td>\n",
       "    </tr>\n",
       "  </tbody>\n",
       "</table>\n",
       "</div>"
      ],
      "text/plain": [
       "  month  day  attend day_of_week opponent  temp   skies day_night cap shirt  \\\n",
       "0   APR   10   56000     Tuesday  Pirates    67  Clear        Day  NO    NO   \n",
       "1   APR   11   29729   Wednesday  Pirates    58  Cloudy     Night  NO    NO   \n",
       "2   APR   12   28328    Thursday  Pirates    57  Cloudy     Night  NO    NO   \n",
       "3   APR   13   31601      Friday   Padres    54  Cloudy     Night  NO    NO   \n",
       "4   APR   14   46549    Saturday   Padres    57  Cloudy     Night  NO    NO   \n",
       "\n",
       "  fireworks bobblehead  \n",
       "0        NO         NO  \n",
       "1        NO         NO  \n",
       "2        NO         NO  \n",
       "3       YES         NO  \n",
       "4        NO         NO  "
      ]
     },
     "execution_count": 1388,
     "metadata": {},
     "output_type": "execute_result"
    }
   ],
   "source": [
    "#dodgers.csv file\n",
    "dodgers_pd = pd.read_csv(\"C:/Users/phill/OneDrive/Desktop/Predictive-630/data/dodgers.csv\")\n",
    "dodgers_pd.head()"
   ]
  },
  {
   "cell_type": "markdown",
   "id": "c5c42966",
   "metadata": {},
   "source": [
    "### Identifying Missing Data"
   ]
  },
  {
   "cell_type": "code",
   "execution_count": 1389,
   "id": "dbf93142",
   "metadata": {},
   "outputs": [
    {
     "data": {
      "text/plain": [
       "month          0\n",
       "day            0\n",
       "attend         0\n",
       "day_of_week    0\n",
       "opponent       0\n",
       "temp           0\n",
       "skies          0\n",
       "day_night      0\n",
       "cap            0\n",
       "shirt          0\n",
       "fireworks      0\n",
       "bobblehead     0\n",
       "dtype: int64"
      ]
     },
     "execution_count": 1389,
     "metadata": {},
     "output_type": "execute_result"
    }
   ],
   "source": [
    "#looking at the data when reviews.val.title is NULL --> empty review\n",
    "dodgers_pd.isnull().sum()"
   ]
  },
  {
   "cell_type": "markdown",
   "id": "1195762d",
   "metadata": {},
   "source": [
    "There is no missing data in the DataFrame!!"
   ]
  },
  {
   "cell_type": "markdown",
   "id": "3d911d3e",
   "metadata": {},
   "source": [
    "### Building Promo Variable\n",
    "\n",
    "In looking over the data and thinking about our problem statement, I wanted to build a derivative variable that denoted if any promotion was offered at a given Dodgers game. Our original dataset had a 'YES' or 'NO' marker for the various promotion items such as shirt, cap, etc. However, for the problem, I want to know plainly whether a promotion should be offered on a given day. Therefore, I just want a variable that marks the records with games that offered promotions or did not offer promotions."
   ]
  },
  {
   "cell_type": "code",
   "execution_count": 1390,
   "id": "8711d9e8",
   "metadata": {},
   "outputs": [],
   "source": [
    "#function to determine if a promotion was overall offered at a Dodgers game\n",
    "def mark_promo(df):\n",
    "    #if any 'YES' values among the promotions, assign a 'YES' for the new column\n",
    "    if df['cap'] == 'YES' or df['shirt'] == 'YES' or df['fireworks'] == 'YES' or df['bobblehead'] == 'YES':\n",
    "        df['promo'] = 'YES'\n",
    "    #no 'YES' assign 'NO'\n",
    "    else:\n",
    "        df['promo'] = 'NO'\n",
    "    return df"
   ]
  },
  {
   "cell_type": "code",
   "execution_count": 1391,
   "id": "e646b23b",
   "metadata": {},
   "outputs": [],
   "source": [
    "#apply the mark_promo function to the dataframe to create the new 'promo column'\n",
    "dodgers_pd = dodgers_pd.apply(mark_promo,axis=1)"
   ]
  },
  {
   "cell_type": "markdown",
   "id": "dfb21923",
   "metadata": {},
   "source": [
    "### Creating Promo & Day of Week Interaction Term\n",
    "\n",
    "Similar to above, as related to the problem statement, now that we have a marker for games with and without promotions. I also want to explore the interaction between day of the week and offering a promotion. Therefore, I want to create a new column with those possibilities of day of the week and promotion offering to explore in the regression modeling."
   ]
  },
  {
   "cell_type": "code",
   "execution_count": 1392,
   "id": "68231395",
   "metadata": {},
   "outputs": [],
   "source": [
    "#creating a new column 'day_promo'\n",
    "#created out of the current 'day_of_week' and 'promo' variables\n",
    "dodgers_pd['day_promo'] = dodgers_pd['day_of_week'] + dodgers_pd['promo']"
   ]
  },
  {
   "cell_type": "code",
   "execution_count": 1393,
   "id": "912bc29c",
   "metadata": {},
   "outputs": [
    {
     "data": {
      "text/plain": [
       "0      TuesdayNO\n",
       "1    WednesdayNO\n",
       "2     ThursdayNO\n",
       "3      FridayYES\n",
       "4     SaturdayNO\n",
       "Name: day_promo, dtype: object"
      ]
     },
     "execution_count": 1393,
     "metadata": {},
     "output_type": "execute_result"
    }
   ],
   "source": [
    "dodgers_pd['day_promo'].head()"
   ]
  },
  {
   "cell_type": "code",
   "execution_count": 1394,
   "id": "f8fa1f7d",
   "metadata": {},
   "outputs": [
    {
     "data": {
      "text/plain": [
       "FridayYES       13\n",
       "MondayNO        11\n",
       "SaturdayNO      11\n",
       "WednesdayNO     11\n",
       "SundayNO        10\n",
       "TuesdayYES       8\n",
       "TuesdayNO        5\n",
       "SundayYES        3\n",
       "ThursdayNO       3\n",
       "ThursdayYES      2\n",
       "SaturdayYES      2\n",
       "WednesdayYES     1\n",
       "MondayYES        1\n",
       "Name: day_promo, dtype: int64"
      ]
     },
     "execution_count": 1394,
     "metadata": {},
     "output_type": "execute_result"
    }
   ],
   "source": [
    "dodgers_pd['day_promo'].value_counts()"
   ]
  },
  {
   "cell_type": "markdown",
   "id": "b5b767f6",
   "metadata": {},
   "source": [
    "Friday games with promotions hold the maximum number of data values, with 13 out of 81 games. The other leading values are days where promotions weren't offered. Therefore, we will have to do some digging to see which days will bring the highest increase in attendance when promotions are given.\n",
    "\n",
    "From looking initially at these value counts, one would think that promotions should be offered on Fridays as they have the highest representation in the dataset. However, what is the change in attendance that they bring?"
   ]
  },
  {
   "cell_type": "markdown",
   "id": "4af324f3",
   "metadata": {},
   "source": [
    "### Descriptive Statistics"
   ]
  },
  {
   "cell_type": "code",
   "execution_count": 1395,
   "id": "36e6fcb3",
   "metadata": {},
   "outputs": [
    {
     "name": "stdout",
     "output_type": "stream",
     "text": [
      "The dimension of the table is:  (81, 14)\n",
      "81 rows and 14 columns\n"
     ]
    }
   ],
   "source": [
    "#describing the overall dataframe\n",
    "\n",
    "#retrieving rows and columns\n",
    "print(\"The dimension of the table is: \",dodgers_pd.shape)\n",
    "print(\"81 rows and 14 columns\")"
   ]
  },
  {
   "cell_type": "code",
   "execution_count": 1396,
   "id": "4bd35d32",
   "metadata": {},
   "outputs": [
    {
     "data": {
      "text/plain": [
       "month          object\n",
       "day             int64\n",
       "attend          int64\n",
       "day_of_week    object\n",
       "opponent       object\n",
       "temp            int64\n",
       "skies          object\n",
       "day_night      object\n",
       "cap            object\n",
       "shirt          object\n",
       "fireworks      object\n",
       "bobblehead     object\n",
       "promo          object\n",
       "day_promo      object\n",
       "dtype: object"
      ]
     },
     "execution_count": 1396,
     "metadata": {},
     "output_type": "execute_result"
    }
   ],
   "source": [
    "dodgers_pd.dtypes"
   ]
  },
  {
   "cell_type": "markdown",
   "id": "33a7a23d",
   "metadata": {},
   "source": [
    "Numerical variables --> day, attend, temp\n",
    "\n",
    "\n",
    "Categorical variables --> month, day_of_week, opponent, skies, day_night, cap, shirt, fireworks, bobblehead,day_promo, promo"
   ]
  },
  {
   "cell_type": "markdown",
   "id": "7661e4cb",
   "metadata": {},
   "source": [
    "### Describing the Date/Time Variables"
   ]
  },
  {
   "cell_type": "code",
   "execution_count": 1397,
   "id": "a7d11b7e",
   "metadata": {},
   "outputs": [
    {
     "data": {
      "text/html": [
       "<div>\n",
       "<style scoped>\n",
       "    .dataframe tbody tr th:only-of-type {\n",
       "        vertical-align: middle;\n",
       "    }\n",
       "\n",
       "    .dataframe tbody tr th {\n",
       "        vertical-align: top;\n",
       "    }\n",
       "\n",
       "    .dataframe thead th {\n",
       "        text-align: right;\n",
       "    }\n",
       "</style>\n",
       "<table border=\"1\" class=\"dataframe\">\n",
       "  <thead>\n",
       "    <tr style=\"text-align: right;\">\n",
       "      <th></th>\n",
       "      <th>month</th>\n",
       "      <th>day</th>\n",
       "      <th>day_of_week</th>\n",
       "      <th>day_night</th>\n",
       "    </tr>\n",
       "  </thead>\n",
       "  <tbody>\n",
       "    <tr>\n",
       "      <th>0</th>\n",
       "      <td>APR</td>\n",
       "      <td>10</td>\n",
       "      <td>Tuesday</td>\n",
       "      <td>Day</td>\n",
       "    </tr>\n",
       "    <tr>\n",
       "      <th>1</th>\n",
       "      <td>APR</td>\n",
       "      <td>11</td>\n",
       "      <td>Wednesday</td>\n",
       "      <td>Night</td>\n",
       "    </tr>\n",
       "    <tr>\n",
       "      <th>2</th>\n",
       "      <td>APR</td>\n",
       "      <td>12</td>\n",
       "      <td>Thursday</td>\n",
       "      <td>Night</td>\n",
       "    </tr>\n",
       "    <tr>\n",
       "      <th>3</th>\n",
       "      <td>APR</td>\n",
       "      <td>13</td>\n",
       "      <td>Friday</td>\n",
       "      <td>Night</td>\n",
       "    </tr>\n",
       "    <tr>\n",
       "      <th>4</th>\n",
       "      <td>APR</td>\n",
       "      <td>14</td>\n",
       "      <td>Saturday</td>\n",
       "      <td>Night</td>\n",
       "    </tr>\n",
       "    <tr>\n",
       "      <th>...</th>\n",
       "      <td>...</td>\n",
       "      <td>...</td>\n",
       "      <td>...</td>\n",
       "      <td>...</td>\n",
       "    </tr>\n",
       "    <tr>\n",
       "      <th>76</th>\n",
       "      <td>SEP</td>\n",
       "      <td>29</td>\n",
       "      <td>Saturday</td>\n",
       "      <td>Night</td>\n",
       "    </tr>\n",
       "    <tr>\n",
       "      <th>77</th>\n",
       "      <td>SEP</td>\n",
       "      <td>30</td>\n",
       "      <td>Sunday</td>\n",
       "      <td>Day</td>\n",
       "    </tr>\n",
       "    <tr>\n",
       "      <th>78</th>\n",
       "      <td>OCT</td>\n",
       "      <td>1</td>\n",
       "      <td>Monday</td>\n",
       "      <td>Night</td>\n",
       "    </tr>\n",
       "    <tr>\n",
       "      <th>79</th>\n",
       "      <td>OCT</td>\n",
       "      <td>2</td>\n",
       "      <td>Tuesday</td>\n",
       "      <td>Night</td>\n",
       "    </tr>\n",
       "    <tr>\n",
       "      <th>80</th>\n",
       "      <td>OCT</td>\n",
       "      <td>3</td>\n",
       "      <td>Wednesday</td>\n",
       "      <td>Night</td>\n",
       "    </tr>\n",
       "  </tbody>\n",
       "</table>\n",
       "<p>81 rows × 4 columns</p>\n",
       "</div>"
      ],
      "text/plain": [
       "   month  day day_of_week day_night\n",
       "0    APR   10     Tuesday       Day\n",
       "1    APR   11   Wednesday     Night\n",
       "2    APR   12    Thursday     Night\n",
       "3    APR   13      Friday     Night\n",
       "4    APR   14    Saturday     Night\n",
       "..   ...  ...         ...       ...\n",
       "76   SEP   29    Saturday     Night\n",
       "77   SEP   30      Sunday       Day\n",
       "78   OCT    1      Monday     Night\n",
       "79   OCT    2     Tuesday     Night\n",
       "80   OCT    3   Wednesday     Night\n",
       "\n",
       "[81 rows x 4 columns]"
      ]
     },
     "execution_count": 1397,
     "metadata": {},
     "output_type": "execute_result"
    }
   ],
   "source": [
    "#looking at date features for prediction\n",
    "dates_targets = dodgers_pd[['month','day','day_of_week','day_night']]\n",
    "dates_targets"
   ]
  },
  {
   "cell_type": "code",
   "execution_count": 1398,
   "id": "a4a0f9ab",
   "metadata": {},
   "outputs": [
    {
     "data": {
      "text/html": [
       "<div>\n",
       "<style scoped>\n",
       "    .dataframe tbody tr th:only-of-type {\n",
       "        vertical-align: middle;\n",
       "    }\n",
       "\n",
       "    .dataframe tbody tr th {\n",
       "        vertical-align: top;\n",
       "    }\n",
       "\n",
       "    .dataframe thead th {\n",
       "        text-align: right;\n",
       "    }\n",
       "</style>\n",
       "<table border=\"1\" class=\"dataframe\">\n",
       "  <thead>\n",
       "    <tr style=\"text-align: right;\">\n",
       "      <th></th>\n",
       "      <th>day</th>\n",
       "    </tr>\n",
       "  </thead>\n",
       "  <tbody>\n",
       "    <tr>\n",
       "      <th>count</th>\n",
       "      <td>81.000000</td>\n",
       "    </tr>\n",
       "    <tr>\n",
       "      <th>mean</th>\n",
       "      <td>16.135802</td>\n",
       "    </tr>\n",
       "    <tr>\n",
       "      <th>std</th>\n",
       "      <td>9.605666</td>\n",
       "    </tr>\n",
       "    <tr>\n",
       "      <th>min</th>\n",
       "      <td>1.000000</td>\n",
       "    </tr>\n",
       "    <tr>\n",
       "      <th>25%</th>\n",
       "      <td>8.000000</td>\n",
       "    </tr>\n",
       "    <tr>\n",
       "      <th>50%</th>\n",
       "      <td>15.000000</td>\n",
       "    </tr>\n",
       "    <tr>\n",
       "      <th>75%</th>\n",
       "      <td>25.000000</td>\n",
       "    </tr>\n",
       "    <tr>\n",
       "      <th>max</th>\n",
       "      <td>31.000000</td>\n",
       "    </tr>\n",
       "  </tbody>\n",
       "</table>\n",
       "</div>"
      ],
      "text/plain": [
       "             day\n",
       "count  81.000000\n",
       "mean   16.135802\n",
       "std     9.605666\n",
       "min     1.000000\n",
       "25%     8.000000\n",
       "50%    15.000000\n",
       "75%    25.000000\n",
       "max    31.000000"
      ]
     },
     "execution_count": 1398,
     "metadata": {},
     "output_type": "execute_result"
    }
   ],
   "source": [
    "#describe the data\n",
    "desc = dates_targets.describe()\n",
    "desc"
   ]
  },
  {
   "cell_type": "markdown",
   "id": "d546afeb",
   "metadata": {},
   "source": [
    "This result shows the summary statistics for the 'day' variable in the dataset, which just marks the day of the month for the corresponding Dodgers MLB game. Given that there are usually around 30-31 days in a month, these statistics don't give us very much information around the target variable. This variable will be more useful when combined with the other date/time variables!"
   ]
  },
  {
   "cell_type": "code",
   "execution_count": 1399,
   "id": "d60b157c",
   "metadata": {},
   "outputs": [
    {
     "data": {
      "text/plain": [
       "Night    66\n",
       "Day      15\n",
       "Name: day_night, dtype: int64"
      ]
     },
     "execution_count": 1399,
     "metadata": {},
     "output_type": "execute_result"
    }
   ],
   "source": [
    "dates_targets['day_night'].value_counts()"
   ]
  },
  {
   "cell_type": "code",
   "execution_count": 1400,
   "id": "1a7d6222",
   "metadata": {},
   "outputs": [
    {
     "name": "stderr",
     "output_type": "stream",
     "text": [
      "C:\\Users\\phill\\Anaconda3\\lib\\site-packages\\seaborn\\_decorators.py:36: FutureWarning: Pass the following variable as a keyword arg: x. From version 0.12, the only valid positional argument will be `data`, and passing other arguments without an explicit keyword will result in an error or misinterpretation.\n",
      "  warnings.warn(\n"
     ]
    },
    {
     "data": {
      "text/plain": [
       "Text(0.5, 1.0, 'Boxplot of Game Days in a Month')"
      ]
     },
     "execution_count": 1400,
     "metadata": {},
     "output_type": "execute_result"
    },
    {
     "data": {
      "image/png": "[encoded data removed]",
      "text/plain": [
       "<Figure size 576x396 with 1 Axes>"
      ]
     },
     "metadata": {},
     "output_type": "display_data"
    }
   ],
   "source": [
    "#boxplot of 'day'\n",
    "sns.boxplot(dates_targets['day'])\n",
    "plt.title(\"Boxplot of Game Days in a Month\")"
   ]
  },
  {
   "cell_type": "code",
   "execution_count": 1401,
   "id": "2805da07",
   "metadata": {},
   "outputs": [
    {
     "data": {
      "text/plain": [
       "Text(0, 0.5, 'Attendance')"
      ]
     },
     "execution_count": 1401,
     "metadata": {},
     "output_type": "execute_result"
    },
    {
     "data": {
      "image/png": "[encoded data removed]",
      "text/plain": [
       "<Figure size 576x396 with 1 Axes>"
      ]
     },
     "metadata": {},
     "output_type": "display_data"
    }
   ],
   "source": [
    "#bar graph visualization for attendance counts per month\n",
    "plt.bar(dodgers_pd['month'],dodgers_pd['attend'])\n",
    "plt.xlabel('Month')\n",
    "plt.ylabel('Attendance')"
   ]
  },
  {
   "cell_type": "code",
   "execution_count": 1402,
   "id": "b1da117c",
   "metadata": {},
   "outputs": [
    {
     "data": {
      "text/plain": [
       "Text(0, 0.5, 'Attendance')"
      ]
     },
     "execution_count": 1402,
     "metadata": {},
     "output_type": "execute_result"
    },
    {
     "data": {
      "image/png": "[encoded data removed]",
      "text/plain": [
       "<Figure size 576x396 with 1 Axes>"
      ]
     },
     "metadata": {},
     "output_type": "display_data"
    }
   ],
   "source": [
    "#bar graph visualization for attendance counts for day of the week\n",
    "plt.bar(dodgers_pd['day_of_week'],dodgers_pd['attend'])\n",
    "plt.xlabel('Day of the Week')\n",
    "plt.ylabel('Attendance')"
   ]
  },
  {
   "cell_type": "markdown",
   "id": "246d2a6f",
   "metadata": {},
   "source": [
    "Just from visualizing the other potential target variables of 'month', 'day_of_week' and 'day_night', it can be seen where most of the values in the dataset lie. The months as per the baseball seasion fall during summer and fall with the majority of games being in May and August. Also, with the days of the week, most of the games are held during the weekend from Friday to Sunday, with Tuesday being a weekday that holds majority popularity. Also, night games are much more popular than day games ... these classes are imbalanced. "
   ]
  },
  {
   "cell_type": "markdown",
   "id": "411e303b",
   "metadata": {},
   "source": [
    "The boxplot of 'day' is not uniform or normal; it has three peaks at the beginning of the months (~1-3), middle of the months (~day 15), and the end of the months (~29-31). It could be that each baseball season has a different schedule, so I'm not sure there is much significance to the frequency of the days during a month that are played and attended, since it depends on other teams and availability of sporting venues. "
   ]
  },
  {
   "cell_type": "markdown",
   "id": "fc9b2680",
   "metadata": {},
   "source": [
    "As we are trying to gather results in relation to running a marketing promotion on a certain night in order to increase attendance, I am going to use 'month' and 'day_of_week' variables as the target variables for my regression since I think they will be the most influential in being able to provide valuable information around targeted marketing. Also, with marketing promotions especially in social media, it is more applicable to know a month and day of the week rather than just a day which can vary month to month. "
   ]
  },
  {
   "cell_type": "markdown",
   "id": "16e54174",
   "metadata": {},
   "source": [
    "### Describing the Other Features"
   ]
  },
  {
   "cell_type": "code",
   "execution_count": 1403,
   "id": "30128068",
   "metadata": {},
   "outputs": [
    {
     "data": {
      "text/html": [
       "<div>\n",
       "<style scoped>\n",
       "    .dataframe tbody tr th:only-of-type {\n",
       "        vertical-align: middle;\n",
       "    }\n",
       "\n",
       "    .dataframe tbody tr th {\n",
       "        vertical-align: top;\n",
       "    }\n",
       "\n",
       "    .dataframe thead th {\n",
       "        text-align: right;\n",
       "    }\n",
       "</style>\n",
       "<table border=\"1\" class=\"dataframe\">\n",
       "  <thead>\n",
       "    <tr style=\"text-align: right;\">\n",
       "      <th></th>\n",
       "      <th>attend</th>\n",
       "      <th>opponent</th>\n",
       "      <th>temp</th>\n",
       "      <th>skies</th>\n",
       "      <th>cap</th>\n",
       "      <th>shirt</th>\n",
       "      <th>fireworks</th>\n",
       "      <th>bobblehead</th>\n",
       "      <th>promo</th>\n",
       "    </tr>\n",
       "  </thead>\n",
       "  <tbody>\n",
       "    <tr>\n",
       "      <th>0</th>\n",
       "      <td>56000</td>\n",
       "      <td>Pirates</td>\n",
       "      <td>67</td>\n",
       "      <td>Clear</td>\n",
       "      <td>NO</td>\n",
       "      <td>NO</td>\n",
       "      <td>NO</td>\n",
       "      <td>NO</td>\n",
       "      <td>NO</td>\n",
       "    </tr>\n",
       "    <tr>\n",
       "      <th>1</th>\n",
       "      <td>29729</td>\n",
       "      <td>Pirates</td>\n",
       "      <td>58</td>\n",
       "      <td>Cloudy</td>\n",
       "      <td>NO</td>\n",
       "      <td>NO</td>\n",
       "      <td>NO</td>\n",
       "      <td>NO</td>\n",
       "      <td>NO</td>\n",
       "    </tr>\n",
       "    <tr>\n",
       "      <th>2</th>\n",
       "      <td>28328</td>\n",
       "      <td>Pirates</td>\n",
       "      <td>57</td>\n",
       "      <td>Cloudy</td>\n",
       "      <td>NO</td>\n",
       "      <td>NO</td>\n",
       "      <td>NO</td>\n",
       "      <td>NO</td>\n",
       "      <td>NO</td>\n",
       "    </tr>\n",
       "    <tr>\n",
       "      <th>3</th>\n",
       "      <td>31601</td>\n",
       "      <td>Padres</td>\n",
       "      <td>54</td>\n",
       "      <td>Cloudy</td>\n",
       "      <td>NO</td>\n",
       "      <td>NO</td>\n",
       "      <td>YES</td>\n",
       "      <td>NO</td>\n",
       "      <td>YES</td>\n",
       "    </tr>\n",
       "    <tr>\n",
       "      <th>4</th>\n",
       "      <td>46549</td>\n",
       "      <td>Padres</td>\n",
       "      <td>57</td>\n",
       "      <td>Cloudy</td>\n",
       "      <td>NO</td>\n",
       "      <td>NO</td>\n",
       "      <td>NO</td>\n",
       "      <td>NO</td>\n",
       "      <td>NO</td>\n",
       "    </tr>\n",
       "    <tr>\n",
       "      <th>...</th>\n",
       "      <td>...</td>\n",
       "      <td>...</td>\n",
       "      <td>...</td>\n",
       "      <td>...</td>\n",
       "      <td>...</td>\n",
       "      <td>...</td>\n",
       "      <td>...</td>\n",
       "      <td>...</td>\n",
       "      <td>...</td>\n",
       "    </tr>\n",
       "    <tr>\n",
       "      <th>76</th>\n",
       "      <td>40724</td>\n",
       "      <td>Rockies</td>\n",
       "      <td>84</td>\n",
       "      <td>Cloudy</td>\n",
       "      <td>NO</td>\n",
       "      <td>NO</td>\n",
       "      <td>NO</td>\n",
       "      <td>NO</td>\n",
       "      <td>NO</td>\n",
       "    </tr>\n",
       "    <tr>\n",
       "      <th>77</th>\n",
       "      <td>35607</td>\n",
       "      <td>Rockies</td>\n",
       "      <td>95</td>\n",
       "      <td>Clear</td>\n",
       "      <td>NO</td>\n",
       "      <td>NO</td>\n",
       "      <td>NO</td>\n",
       "      <td>NO</td>\n",
       "      <td>NO</td>\n",
       "    </tr>\n",
       "    <tr>\n",
       "      <th>78</th>\n",
       "      <td>33624</td>\n",
       "      <td>Giants</td>\n",
       "      <td>86</td>\n",
       "      <td>Clear</td>\n",
       "      <td>NO</td>\n",
       "      <td>NO</td>\n",
       "      <td>NO</td>\n",
       "      <td>NO</td>\n",
       "      <td>NO</td>\n",
       "    </tr>\n",
       "    <tr>\n",
       "      <th>79</th>\n",
       "      <td>42473</td>\n",
       "      <td>Giants</td>\n",
       "      <td>83</td>\n",
       "      <td>Clear</td>\n",
       "      <td>NO</td>\n",
       "      <td>NO</td>\n",
       "      <td>NO</td>\n",
       "      <td>NO</td>\n",
       "      <td>NO</td>\n",
       "    </tr>\n",
       "    <tr>\n",
       "      <th>80</th>\n",
       "      <td>34014</td>\n",
       "      <td>Giants</td>\n",
       "      <td>82</td>\n",
       "      <td>Cloudy</td>\n",
       "      <td>NO</td>\n",
       "      <td>NO</td>\n",
       "      <td>NO</td>\n",
       "      <td>NO</td>\n",
       "      <td>NO</td>\n",
       "    </tr>\n",
       "  </tbody>\n",
       "</table>\n",
       "<p>81 rows × 9 columns</p>\n",
       "</div>"
      ],
      "text/plain": [
       "    attend opponent  temp   skies cap shirt fireworks bobblehead promo\n",
       "0    56000  Pirates    67  Clear   NO    NO        NO         NO    NO\n",
       "1    29729  Pirates    58  Cloudy  NO    NO        NO         NO    NO\n",
       "2    28328  Pirates    57  Cloudy  NO    NO        NO         NO    NO\n",
       "3    31601   Padres    54  Cloudy  NO    NO       YES         NO   YES\n",
       "4    46549   Padres    57  Cloudy  NO    NO        NO         NO    NO\n",
       "..     ...      ...   ...     ...  ..   ...       ...        ...   ...\n",
       "76   40724  Rockies    84  Cloudy  NO    NO        NO         NO    NO\n",
       "77   35607  Rockies    95  Clear   NO    NO        NO         NO    NO\n",
       "78   33624   Giants    86  Clear   NO    NO        NO         NO    NO\n",
       "79   42473   Giants    83  Clear   NO    NO        NO         NO    NO\n",
       "80   34014   Giants    82  Cloudy  NO    NO        NO         NO    NO\n",
       "\n",
       "[81 rows x 9 columns]"
      ]
     },
     "execution_count": 1403,
     "metadata": {},
     "output_type": "execute_result"
    }
   ],
   "source": [
    "features = dodgers_pd[['attend','opponent','temp','skies','cap','shirt','fireworks','bobblehead','promo']]\n",
    "features"
   ]
  },
  {
   "cell_type": "code",
   "execution_count": 1404,
   "id": "59f36faf",
   "metadata": {},
   "outputs": [
    {
     "data": {
      "text/html": [
       "<div>\n",
       "<style scoped>\n",
       "    .dataframe tbody tr th:only-of-type {\n",
       "        vertical-align: middle;\n",
       "    }\n",
       "\n",
       "    .dataframe tbody tr th {\n",
       "        vertical-align: top;\n",
       "    }\n",
       "\n",
       "    .dataframe thead th {\n",
       "        text-align: right;\n",
       "    }\n",
       "</style>\n",
       "<table border=\"1\" class=\"dataframe\">\n",
       "  <thead>\n",
       "    <tr style=\"text-align: right;\">\n",
       "      <th></th>\n",
       "      <th>attend</th>\n",
       "      <th>temp</th>\n",
       "    </tr>\n",
       "  </thead>\n",
       "  <tbody>\n",
       "    <tr>\n",
       "      <th>count</th>\n",
       "      <td>81.000000</td>\n",
       "      <td>81.000000</td>\n",
       "    </tr>\n",
       "    <tr>\n",
       "      <th>mean</th>\n",
       "      <td>41040.074074</td>\n",
       "      <td>73.148148</td>\n",
       "    </tr>\n",
       "    <tr>\n",
       "      <th>std</th>\n",
       "      <td>8297.539460</td>\n",
       "      <td>8.317318</td>\n",
       "    </tr>\n",
       "    <tr>\n",
       "      <th>min</th>\n",
       "      <td>24312.000000</td>\n",
       "      <td>54.000000</td>\n",
       "    </tr>\n",
       "    <tr>\n",
       "      <th>25%</th>\n",
       "      <td>34493.000000</td>\n",
       "      <td>67.000000</td>\n",
       "    </tr>\n",
       "    <tr>\n",
       "      <th>50%</th>\n",
       "      <td>40284.000000</td>\n",
       "      <td>73.000000</td>\n",
       "    </tr>\n",
       "    <tr>\n",
       "      <th>75%</th>\n",
       "      <td>46588.000000</td>\n",
       "      <td>79.000000</td>\n",
       "    </tr>\n",
       "    <tr>\n",
       "      <th>max</th>\n",
       "      <td>56000.000000</td>\n",
       "      <td>95.000000</td>\n",
       "    </tr>\n",
       "  </tbody>\n",
       "</table>\n",
       "</div>"
      ],
      "text/plain": [
       "             attend       temp\n",
       "count     81.000000  81.000000\n",
       "mean   41040.074074  73.148148\n",
       "std     8297.539460   8.317318\n",
       "min    24312.000000  54.000000\n",
       "25%    34493.000000  67.000000\n",
       "50%    40284.000000  73.000000\n",
       "75%    46588.000000  79.000000\n",
       "max    56000.000000  95.000000"
      ]
     },
     "execution_count": 1404,
     "metadata": {},
     "output_type": "execute_result"
    }
   ],
   "source": [
    "desc_features = features.describe()\n",
    "desc_features"
   ]
  },
  {
   "cell_type": "code",
   "execution_count": 1405,
   "id": "b265c8ac",
   "metadata": {},
   "outputs": [
    {
     "name": "stderr",
     "output_type": "stream",
     "text": [
      "C:\\Users\\phill\\Anaconda3\\lib\\site-packages\\seaborn\\_decorators.py:36: FutureWarning: Pass the following variable as a keyword arg: x. From version 0.12, the only valid positional argument will be `data`, and passing other arguments without an explicit keyword will result in an error or misinterpretation.\n",
      "  warnings.warn(\n"
     ]
    },
    {
     "data": {
      "text/plain": [
       "Text(0.5, 1.0, \"Boxplot of Dodgers Games' Attendance\")"
      ]
     },
     "execution_count": 1405,
     "metadata": {},
     "output_type": "execute_result"
    },
    {
     "data": {
      "image/png": "[encoded data removed]",
      "text/plain": [
       "<Figure size 576x396 with 1 Axes>"
      ]
     },
     "metadata": {},
     "output_type": "display_data"
    }
   ],
   "source": [
    "#boxplot of 'attend'\n",
    "sns.boxplot(features['attend'])\n",
    "\n",
    "plt.title(\"Boxplot of Dodgers Games' Attendance\")"
   ]
  },
  {
   "cell_type": "code",
   "execution_count": 1406,
   "id": "db1a2e6d",
   "metadata": {},
   "outputs": [
    {
     "name": "stderr",
     "output_type": "stream",
     "text": [
      "C:\\Users\\phill\\Anaconda3\\lib\\site-packages\\seaborn\\_decorators.py:36: FutureWarning: Pass the following variable as a keyword arg: x. From version 0.12, the only valid positional argument will be `data`, and passing other arguments without an explicit keyword will result in an error or misinterpretation.\n",
      "  warnings.warn(\n"
     ]
    },
    {
     "data": {
      "text/plain": [
       "Text(0.5, 1.0, 'Boxplot of Temperature at Dodgers Games')"
      ]
     },
     "execution_count": 1406,
     "metadata": {},
     "output_type": "execute_result"
    },
    {
     "data": {
      "image/png": "[encoded data removed]",
      "text/plain": [
       "<Figure size 576x396 with 1 Axes>"
      ]
     },
     "metadata": {},
     "output_type": "display_data"
    }
   ],
   "source": [
    "#boxplot of 'temp'\n",
    "sns.boxplot(features['temp'])\n",
    "\n",
    "plt.title(\"Boxplot of Temperature at Dodgers Games\")"
   ]
  },
  {
   "cell_type": "markdown",
   "id": "5b58e4c6",
   "metadata": {},
   "source": [
    "The distribution for 'attend' is neither normal nor uniform. It is more right-skewed, but there is lower frequency at the higher-end of the attendance counts after the peak around ~45,000 people. It is more rare for there to be more than 45,000 people in attendance at the games, and those higher counts could be due to special events or holidays such as the 4th of July. "
   ]
  },
  {
   "cell_type": "markdown",
   "id": "c0c97046",
   "metadata": {},
   "source": [
    "The distribution of game temperatures is relatively normal! The concentration of temperatures are around 70-75 degrees Fahrenheit, which makes sense given the months that the games are held during. Summer to fall seasons range around mildly warm and hot temperatures, so this distribution makes sense with that weather. "
   ]
  },
  {
   "cell_type": "code",
   "execution_count": 1407,
   "id": "a5ab566f",
   "metadata": {},
   "outputs": [
    {
     "name": "stdout",
     "output_type": "stream",
     "text": [
      "Giants       9\n",
      "Rockies      9\n",
      "Padres       9\n",
      "Snakes       9\n",
      "Cardinals    7\n",
      "Mets         4\n",
      "Brewers      4\n",
      "Angels       3\n",
      "Reds         3\n",
      "Nationals    3\n",
      "White Sox    3\n",
      "Marlins      3\n",
      "Phillies     3\n",
      "Braves       3\n",
      "Cubs         3\n",
      "Pirates      3\n",
      "Astros       3\n",
      "Name: opponent, dtype: int64\n"
     ]
    },
    {
     "data": {
      "text/plain": [
       "<AxesSubplot:>"
      ]
     },
     "execution_count": 1407,
     "metadata": {},
     "output_type": "execute_result"
    },
    {
     "data": {
      "image/png": "[encoded data removed]",
      "text/plain": [
       "<Figure size 576x396 with 1 Axes>"
      ]
     },
     "metadata": {},
     "output_type": "display_data"
    }
   ],
   "source": [
    "#value counts for categorical variables\n",
    "print(features['opponent'].value_counts())\n",
    "features['opponent'].value_counts().sort_values().plot(kind = 'barh')"
   ]
  },
  {
   "cell_type": "code",
   "execution_count": 1408,
   "id": "acae636c",
   "metadata": {},
   "outputs": [
    {
     "name": "stdout",
     "output_type": "stream",
     "text": [
      "Clear     62\n",
      "Cloudy    19\n",
      "Name: skies, dtype: int64\n"
     ]
    }
   ],
   "source": [
    "print(features['skies'].value_counts())"
   ]
  },
  {
   "cell_type": "code",
   "execution_count": 1409,
   "id": "d1adee8a",
   "metadata": {},
   "outputs": [
    {
     "name": "stdout",
     "output_type": "stream",
     "text": [
      "NO     79\n",
      "YES     2\n",
      "Name: cap, dtype: int64\n"
     ]
    }
   ],
   "source": [
    "print(features['cap'].value_counts())"
   ]
  },
  {
   "cell_type": "code",
   "execution_count": 1410,
   "id": "4d38e64c",
   "metadata": {},
   "outputs": [
    {
     "name": "stdout",
     "output_type": "stream",
     "text": [
      "NO     78\n",
      "YES     3\n",
      "Name: shirt, dtype: int64\n"
     ]
    }
   ],
   "source": [
    "print(features['shirt'].value_counts())"
   ]
  },
  {
   "cell_type": "code",
   "execution_count": 1411,
   "id": "98843f2a",
   "metadata": {},
   "outputs": [
    {
     "name": "stdout",
     "output_type": "stream",
     "text": [
      "NO     67\n",
      "YES    14\n",
      "Name: fireworks, dtype: int64\n"
     ]
    }
   ],
   "source": [
    "print(features['fireworks'].value_counts())"
   ]
  },
  {
   "cell_type": "code",
   "execution_count": 1412,
   "id": "5d0b06bc",
   "metadata": {},
   "outputs": [
    {
     "name": "stdout",
     "output_type": "stream",
     "text": [
      "NO     70\n",
      "YES    11\n",
      "Name: bobblehead, dtype: int64\n"
     ]
    }
   ],
   "source": [
    "print(features['bobblehead'].value_counts())"
   ]
  },
  {
   "cell_type": "code",
   "execution_count": 1413,
   "id": "af0cfa40",
   "metadata": {},
   "outputs": [
    {
     "name": "stdout",
     "output_type": "stream",
     "text": [
      "NO     51\n",
      "YES    30\n",
      "Name: promo, dtype: int64\n"
     ]
    }
   ],
   "source": [
    "print(features['promo'].value_counts())"
   ]
  },
  {
   "cell_type": "markdown",
   "id": "9ed2c124",
   "metadata": {},
   "source": [
    "The balance for the categorical variables with 'skies', 'cap', 'shirt', 'fireworks' and 'bobblehead' is quite imbalanced. There is a value that holds the majority, which would need to be handled when going into regression modeling. Most of these are in correspondence to promotional objects, and it seems that 'NO' is the majority value which shows that the past promotion items were not so popularly taken at the baseball games. "
   ]
  },
  {
   "cell_type": "markdown",
   "id": "08947086",
   "metadata": {},
   "source": [
    "Out of the 81 Dodgers games in the dataset, some sort of promotion was offered at 30 of them ... a little less than half. There is a higher amount where no promotions were offered, but it allow us to compare the days where promotions were and weren't offered and anaylze the change on attendance in comparison."
   ]
  },
  {
   "cell_type": "markdown",
   "id": "82c8afbe",
   "metadata": {},
   "source": [
    "### Creating Label Encoders for Categorical Variables\n",
    "\n",
    "In order to utilize categorical variables in our models, we need to encode them as numbers. The pieces of code below do exactly this!"
   ]
  },
  {
   "cell_type": "code",
   "execution_count": 1414,
   "id": "b3267723",
   "metadata": {},
   "outputs": [],
   "source": [
    "#month, day_of_week, opponent, skies, day_night, cap, shirt, fireworks, bobblehead\n",
    "cat_cols = ['month','day_of_week','opponent','skies','day_night','cap','shirt','fireworks','bobblehead','promo','day_promo']\n",
    "\n",
    "#turning categories into their numerical counterparts using LabelEncoder\n",
    "for var in cat_cols:\n",
    "    number = LabelEncoder()\n",
    "    dodgers_pd[var+\"cat\"] = number.fit_transform(dodgers_pd[var].astype('str'))"
   ]
  },
  {
   "cell_type": "code",
   "execution_count": 1415,
   "id": "2f408302",
   "metadata": {
    "scrolled": true
   },
   "outputs": [
    {
     "data": {
      "text/html": [
       "<div>\n",
       "<style scoped>\n",
       "    .dataframe tbody tr th:only-of-type {\n",
       "        vertical-align: middle;\n",
       "    }\n",
       "\n",
       "    .dataframe tbody tr th {\n",
       "        vertical-align: top;\n",
       "    }\n",
       "\n",
       "    .dataframe thead th {\n",
       "        text-align: right;\n",
       "    }\n",
       "</style>\n",
       "<table border=\"1\" class=\"dataframe\">\n",
       "  <thead>\n",
       "    <tr style=\"text-align: right;\">\n",
       "      <th></th>\n",
       "      <th>month</th>\n",
       "      <th>day</th>\n",
       "      <th>attend</th>\n",
       "      <th>day_of_week</th>\n",
       "      <th>opponent</th>\n",
       "      <th>temp</th>\n",
       "      <th>skies</th>\n",
       "      <th>day_night</th>\n",
       "      <th>cap</th>\n",
       "      <th>shirt</th>\n",
       "      <th>...</th>\n",
       "      <th>day_of_weekcat</th>\n",
       "      <th>opponentcat</th>\n",
       "      <th>skiescat</th>\n",
       "      <th>day_nightcat</th>\n",
       "      <th>capcat</th>\n",
       "      <th>shirtcat</th>\n",
       "      <th>fireworkscat</th>\n",
       "      <th>bobbleheadcat</th>\n",
       "      <th>promocat</th>\n",
       "      <th>day_promocat</th>\n",
       "    </tr>\n",
       "  </thead>\n",
       "  <tbody>\n",
       "    <tr>\n",
       "      <th>0</th>\n",
       "      <td>APR</td>\n",
       "      <td>10</td>\n",
       "      <td>56000</td>\n",
       "      <td>Tuesday</td>\n",
       "      <td>Pirates</td>\n",
       "      <td>67</td>\n",
       "      <td>Clear</td>\n",
       "      <td>Day</td>\n",
       "      <td>NO</td>\n",
       "      <td>NO</td>\n",
       "      <td>...</td>\n",
       "      <td>5</td>\n",
       "      <td>12</td>\n",
       "      <td>0</td>\n",
       "      <td>0</td>\n",
       "      <td>0</td>\n",
       "      <td>0</td>\n",
       "      <td>0</td>\n",
       "      <td>0</td>\n",
       "      <td>0</td>\n",
       "      <td>9</td>\n",
       "    </tr>\n",
       "    <tr>\n",
       "      <th>1</th>\n",
       "      <td>APR</td>\n",
       "      <td>11</td>\n",
       "      <td>29729</td>\n",
       "      <td>Wednesday</td>\n",
       "      <td>Pirates</td>\n",
       "      <td>58</td>\n",
       "      <td>Cloudy</td>\n",
       "      <td>Night</td>\n",
       "      <td>NO</td>\n",
       "      <td>NO</td>\n",
       "      <td>...</td>\n",
       "      <td>6</td>\n",
       "      <td>12</td>\n",
       "      <td>1</td>\n",
       "      <td>1</td>\n",
       "      <td>0</td>\n",
       "      <td>0</td>\n",
       "      <td>0</td>\n",
       "      <td>0</td>\n",
       "      <td>0</td>\n",
       "      <td>11</td>\n",
       "    </tr>\n",
       "    <tr>\n",
       "      <th>2</th>\n",
       "      <td>APR</td>\n",
       "      <td>12</td>\n",
       "      <td>28328</td>\n",
       "      <td>Thursday</td>\n",
       "      <td>Pirates</td>\n",
       "      <td>57</td>\n",
       "      <td>Cloudy</td>\n",
       "      <td>Night</td>\n",
       "      <td>NO</td>\n",
       "      <td>NO</td>\n",
       "      <td>...</td>\n",
       "      <td>4</td>\n",
       "      <td>12</td>\n",
       "      <td>1</td>\n",
       "      <td>1</td>\n",
       "      <td>0</td>\n",
       "      <td>0</td>\n",
       "      <td>0</td>\n",
       "      <td>0</td>\n",
       "      <td>0</td>\n",
       "      <td>7</td>\n",
       "    </tr>\n",
       "    <tr>\n",
       "      <th>3</th>\n",
       "      <td>APR</td>\n",
       "      <td>13</td>\n",
       "      <td>31601</td>\n",
       "      <td>Friday</td>\n",
       "      <td>Padres</td>\n",
       "      <td>54</td>\n",
       "      <td>Cloudy</td>\n",
       "      <td>Night</td>\n",
       "      <td>NO</td>\n",
       "      <td>NO</td>\n",
       "      <td>...</td>\n",
       "      <td>0</td>\n",
       "      <td>10</td>\n",
       "      <td>1</td>\n",
       "      <td>1</td>\n",
       "      <td>0</td>\n",
       "      <td>0</td>\n",
       "      <td>1</td>\n",
       "      <td>0</td>\n",
       "      <td>1</td>\n",
       "      <td>0</td>\n",
       "    </tr>\n",
       "    <tr>\n",
       "      <th>4</th>\n",
       "      <td>APR</td>\n",
       "      <td>14</td>\n",
       "      <td>46549</td>\n",
       "      <td>Saturday</td>\n",
       "      <td>Padres</td>\n",
       "      <td>57</td>\n",
       "      <td>Cloudy</td>\n",
       "      <td>Night</td>\n",
       "      <td>NO</td>\n",
       "      <td>NO</td>\n",
       "      <td>...</td>\n",
       "      <td>2</td>\n",
       "      <td>10</td>\n",
       "      <td>1</td>\n",
       "      <td>1</td>\n",
       "      <td>0</td>\n",
       "      <td>0</td>\n",
       "      <td>0</td>\n",
       "      <td>0</td>\n",
       "      <td>0</td>\n",
       "      <td>3</td>\n",
       "    </tr>\n",
       "  </tbody>\n",
       "</table>\n",
       "<p>5 rows × 25 columns</p>\n",
       "</div>"
      ],
      "text/plain": [
       "  month  day  attend day_of_week opponent  temp   skies day_night cap shirt  \\\n",
       "0   APR   10   56000     Tuesday  Pirates    67  Clear        Day  NO    NO   \n",
       "1   APR   11   29729   Wednesday  Pirates    58  Cloudy     Night  NO    NO   \n",
       "2   APR   12   28328    Thursday  Pirates    57  Cloudy     Night  NO    NO   \n",
       "3   APR   13   31601      Friday   Padres    54  Cloudy     Night  NO    NO   \n",
       "4   APR   14   46549    Saturday   Padres    57  Cloudy     Night  NO    NO   \n",
       "\n",
       "   ... day_of_weekcat opponentcat skiescat day_nightcat  capcat  shirtcat  \\\n",
       "0  ...              5          12        0            0       0         0   \n",
       "1  ...              6          12        1            1       0         0   \n",
       "2  ...              4          12        1            1       0         0   \n",
       "3  ...              0          10        1            1       0         0   \n",
       "4  ...              2          10        1            1       0         0   \n",
       "\n",
       "   fireworkscat  bobbleheadcat  promocat  day_promocat  \n",
       "0             0              0         0             9  \n",
       "1             0              0         0            11  \n",
       "2             0              0         0             7  \n",
       "3             1              0         1             0  \n",
       "4             0              0         0             3  \n",
       "\n",
       "[5 rows x 25 columns]"
      ]
     },
     "execution_count": 1415,
     "metadata": {},
     "output_type": "execute_result"
    }
   ],
   "source": [
    "dodgers_pd.head()"
   ]
  },
  {
   "cell_type": "code",
   "execution_count": 1416,
   "id": "573cab3f",
   "metadata": {},
   "outputs": [
    {
     "name": "stdout",
     "output_type": "stream",
     "text": [
      "MAY    18\n",
      "AUG    15\n",
      "APR    12\n",
      "JUL    12\n",
      "SEP    12\n",
      "JUN     9\n",
      "OCT     3\n",
      "Name: month, dtype: int64\n",
      "4    18\n",
      "1    15\n",
      "0    12\n",
      "2    12\n",
      "6    12\n",
      "3     9\n",
      "5     3\n",
      "Name: monthcat, dtype: int64\n"
     ]
    }
   ],
   "source": [
    "print(dodgers_pd['month'].value_counts())\n",
    "print(dodgers_pd['monthcat'].value_counts())"
   ]
  },
  {
   "cell_type": "markdown",
   "id": "45d3e7bb",
   "metadata": {},
   "source": [
    "-----------------MONTH CATEGORIES-----------------\n",
    "\n",
    "4: MAY\n",
    "\n",
    "1: AUG\n",
    "\n",
    "0: APR\n",
    "\n",
    "2: JUL\n",
    "\n",
    "6: SEP\n",
    "\n",
    "3: JUN\n",
    "\n",
    "5: OCT"
   ]
  },
  {
   "cell_type": "code",
   "execution_count": 1417,
   "id": "103cdd22",
   "metadata": {},
   "outputs": [
    {
     "name": "stdout",
     "output_type": "stream",
     "text": [
      "Saturday     13\n",
      "Tuesday      13\n",
      "Sunday       13\n",
      "Friday       13\n",
      "Monday       12\n",
      "Wednesday    12\n",
      "Thursday      5\n",
      "Name: day_of_week, dtype: int64\n",
      "0    13\n",
      "2    13\n",
      "3    13\n",
      "5    13\n",
      "1    12\n",
      "6    12\n",
      "4     5\n",
      "Name: day_of_weekcat, dtype: int64\n"
     ]
    }
   ],
   "source": [
    "print(dodgers_pd['day_of_week'].value_counts())\n",
    "print(dodgers_pd['day_of_weekcat'].value_counts())"
   ]
  },
  {
   "cell_type": "markdown",
   "id": "f4c22810",
   "metadata": {},
   "source": [
    "-----------------DAY OF WEEK CATEGORIES-----------------\n",
    "\n",
    "0: Saturday\n",
    "\n",
    "2: Tuesday\n",
    "\n",
    "3: Sunday\n",
    "\n",
    "5: Friday\n",
    "\n",
    "1: Monday\n",
    "\n",
    "6: Wednesday\n",
    "\n",
    "4: Thursday"
   ]
  },
  {
   "cell_type": "markdown",
   "id": "01da38db",
   "metadata": {},
   "source": [
    "---------PROMOTION CATEGORIES------------------\n",
    "\n",
    "0: NO\n",
    "\n",
    "1: YES"
   ]
  },
  {
   "cell_type": "code",
   "execution_count": 1418,
   "id": "664cd83e",
   "metadata": {
    "scrolled": true
   },
   "outputs": [
    {
     "name": "stdout",
     "output_type": "stream",
     "text": [
      "FridayYES       13\n",
      "MondayNO        11\n",
      "SaturdayNO      11\n",
      "WednesdayNO     11\n",
      "SundayNO        10\n",
      "TuesdayYES       8\n",
      "TuesdayNO        5\n",
      "SundayYES        3\n",
      "ThursdayNO       3\n",
      "ThursdayYES      2\n",
      "SaturdayYES      2\n",
      "WednesdayYES     1\n",
      "MondayYES        1\n",
      "Name: day_promo, dtype: int64\n",
      "0     13\n",
      "1     11\n",
      "3     11\n",
      "11    11\n",
      "5     10\n",
      "10     8\n",
      "9      5\n",
      "6      3\n",
      "7      3\n",
      "4      2\n",
      "8      2\n",
      "2      1\n",
      "12     1\n",
      "Name: day_promocat, dtype: int64\n"
     ]
    }
   ],
   "source": [
    "print(dodgers_pd['day_promo'].value_counts())\n",
    "print(dodgers_pd['day_promocat'].value_counts())"
   ]
  },
  {
   "cell_type": "markdown",
   "id": "5a8a6af3",
   "metadata": {},
   "source": [
    "### Investigating Relationships between Variables\n",
    "\n",
    "We want to explore the correlation between our features to ensure that we are not performing modeling on features which have a relationship and therefore an effect on each other. In regression, we purely want to see which features have an effect on our predictor variable, and by removing highly-correlated features or ones with multicollinearity, we can ensure that our features will represent the effect on the dependent variable and not on eachother."
   ]
  },
  {
   "cell_type": "code",
   "execution_count": 1419,
   "id": "843b10e8",
   "metadata": {},
   "outputs": [
    {
     "name": "stdout",
     "output_type": "stream",
     "text": [
      "Index(['month', 'day', 'attend', 'day_of_week', 'opponent', 'temp', 'skies',\n",
      "       'day_night', 'cap', 'shirt', 'fireworks', 'bobblehead', 'promo',\n",
      "       'day_promo', 'monthcat', 'day_of_weekcat', 'opponentcat', 'skiescat',\n",
      "       'day_nightcat', 'capcat', 'shirtcat', 'fireworkscat', 'bobbleheadcat',\n",
      "       'promocat', 'day_promocat'],\n",
      "      dtype='object')\n"
     ]
    }
   ],
   "source": [
    "#correlation plot\n",
    "dodgers_pd_regress = dodgers_pd.copy()\n",
    "\n",
    "print(dodgers_pd_regress.columns)"
   ]
  },
  {
   "cell_type": "code",
   "execution_count": 1420,
   "id": "5d6a6092",
   "metadata": {},
   "outputs": [],
   "source": [
    "#creating new dataframe with only needed columns for regression\n",
    "dodgers_pd_regress = dodgers_pd_regress[['day','monthcat','day_of_weekcat','opponentcat','skiescat','day_nightcat','capcat','shirtcat','fireworkscat','bobbleheadcat','attend','temp','day_promocat','promocat']]"
   ]
  },
  {
   "cell_type": "code",
   "execution_count": 1421,
   "id": "38a8bcc7",
   "metadata": {},
   "outputs": [],
   "source": [
    "#subset dataframe to only have night games --> where day_nightcat = 1\n",
    "dodgers_pd_regress = dodgers_pd_regress[dodgers_pd_regress['day_nightcat']==1]"
   ]
  },
  {
   "cell_type": "code",
   "execution_count": 1422,
   "id": "cd03c0a2",
   "metadata": {},
   "outputs": [],
   "source": [
    "#drop day_nightcat column after only using 'Night'\n",
    "dodgers_pd_regress = dodgers_pd_regress.drop(['day_nightcat'],axis=1)"
   ]
  },
  {
   "cell_type": "code",
   "execution_count": 1423,
   "id": "b007b85b",
   "metadata": {},
   "outputs": [
    {
     "name": "stdout",
     "output_type": "stream",
     "text": [
      "(66, 13)\n",
      "66 rows and 13 columns for Dodgers Night Games\n"
     ]
    }
   ],
   "source": [
    "print(dodgers_pd_regress.shape)\n",
    "print(\"66 rows and 13 columns for Dodgers Night Games\")"
   ]
  },
  {
   "cell_type": "code",
   "execution_count": 1424,
   "id": "1aeac919",
   "metadata": {},
   "outputs": [
    {
     "data": {
      "text/html": [
       "<style  type=\"text/css\" >\n",
       "#T_a06ff_row0_col0,#T_a06ff_row1_col1,#T_a06ff_row2_col2,#T_a06ff_row3_col3,#T_a06ff_row4_col4,#T_a06ff_row5_col5,#T_a06ff_row6_col6,#T_a06ff_row7_col7,#T_a06ff_row8_col8,#T_a06ff_row9_col9,#T_a06ff_row10_col10,#T_a06ff_row11_col11,#T_a06ff_row12_col12{\n",
       "            background-color:  #b40426;\n",
       "            color:  #f1f1f1;\n",
       "        }#T_a06ff_row0_col1,#T_a06ff_row0_col3,#T_a06ff_row0_col5,#T_a06ff_row0_col6,#T_a06ff_row1_col0,#T_a06ff_row2_col7,#T_a06ff_row2_col12,#T_a06ff_row4_col9,#T_a06ff_row4_col10,#T_a06ff_row7_col2,#T_a06ff_row7_col8,#T_a06ff_row7_col11,#T_a06ff_row10_col0,#T_a06ff_row10_col4{\n",
       "            background-color:  #3b4cc0;\n",
       "            color:  #f1f1f1;\n",
       "        }#T_a06ff_row0_col2,#T_a06ff_row3_col11{\n",
       "            background-color:  #96b7ff;\n",
       "            color:  #000000;\n",
       "        }#T_a06ff_row0_col4,#T_a06ff_row5_col3,#T_a06ff_row6_col9,#T_a06ff_row9_col6,#T_a06ff_row12_col10{\n",
       "            background-color:  #82a6fb;\n",
       "            color:  #000000;\n",
       "        }#T_a06ff_row0_col7{\n",
       "            background-color:  #cbd8ee;\n",
       "            color:  #000000;\n",
       "        }#T_a06ff_row0_col8{\n",
       "            background-color:  #a9c6fd;\n",
       "            color:  #000000;\n",
       "        }#T_a06ff_row0_col9{\n",
       "            background-color:  #6a8bef;\n",
       "            color:  #000000;\n",
       "        }#T_a06ff_row0_col10,#T_a06ff_row4_col8,#T_a06ff_row5_col6,#T_a06ff_row7_col1,#T_a06ff_row9_col3,#T_a06ff_row10_col5{\n",
       "            background-color:  #5e7de7;\n",
       "            color:  #000000;\n",
       "        }#T_a06ff_row0_col11,#T_a06ff_row10_col7{\n",
       "            background-color:  #8fb1fe;\n",
       "            color:  #000000;\n",
       "        }#T_a06ff_row0_col12,#T_a06ff_row3_col12{\n",
       "            background-color:  #9abbff;\n",
       "            color:  #000000;\n",
       "        }#T_a06ff_row1_col2,#T_a06ff_row2_col4,#T_a06ff_row6_col12{\n",
       "            background-color:  #aec9fc;\n",
       "            color:  #000000;\n",
       "        }#T_a06ff_row1_col3{\n",
       "            background-color:  #445acc;\n",
       "            color:  #f1f1f1;\n",
       "        }#T_a06ff_row1_col4,#T_a06ff_row4_col0{\n",
       "            background-color:  #5f7fe8;\n",
       "            color:  #000000;\n",
       "        }#T_a06ff_row1_col5{\n",
       "            background-color:  #5977e3;\n",
       "            color:  #000000;\n",
       "        }#T_a06ff_row1_col6,#T_a06ff_row2_col9,#T_a06ff_row11_col5,#T_a06ff_row12_col5{\n",
       "            background-color:  #93b5fe;\n",
       "            color:  #000000;\n",
       "        }#T_a06ff_row1_col7{\n",
       "            background-color:  #a7c5fe;\n",
       "            color:  #000000;\n",
       "        }#T_a06ff_row1_col8{\n",
       "            background-color:  #4a63d3;\n",
       "            color:  #f1f1f1;\n",
       "        }#T_a06ff_row1_col9,#T_a06ff_row11_col0{\n",
       "            background-color:  #4c66d6;\n",
       "            color:  #000000;\n",
       "        }#T_a06ff_row1_col10,#T_a06ff_row8_col12{\n",
       "            background-color:  #f2cab5;\n",
       "            color:  #000000;\n",
       "        }#T_a06ff_row1_col11,#T_a06ff_row11_col10{\n",
       "            background-color:  #a1c0ff;\n",
       "            color:  #000000;\n",
       "        }#T_a06ff_row1_col12{\n",
       "            background-color:  #506bda;\n",
       "            color:  #000000;\n",
       "        }#T_a06ff_row2_col0,#T_a06ff_row12_col1{\n",
       "            background-color:  #4961d2;\n",
       "            color:  #f1f1f1;\n",
       "        }#T_a06ff_row2_col1{\n",
       "            background-color:  #6687ed;\n",
       "            color:  #000000;\n",
       "        }#T_a06ff_row2_col3{\n",
       "            background-color:  #4358cb;\n",
       "            color:  #f1f1f1;\n",
       "        }#T_a06ff_row2_col5{\n",
       "            background-color:  #8db0fe;\n",
       "            color:  #000000;\n",
       "        }#T_a06ff_row2_col6,#T_a06ff_row10_col6{\n",
       "            background-color:  #6b8df0;\n",
       "            color:  #000000;\n",
       "        }#T_a06ff_row2_col8,#T_a06ff_row4_col11,#T_a06ff_row10_col2{\n",
       "            background-color:  #c3d5f4;\n",
       "            color:  #000000;\n",
       "        }#T_a06ff_row2_col10,#T_a06ff_row4_col7{\n",
       "            background-color:  #a2c1ff;\n",
       "            color:  #000000;\n",
       "        }#T_a06ff_row2_col11,#T_a06ff_row11_col2{\n",
       "            background-color:  #b50927;\n",
       "            color:  #f1f1f1;\n",
       "        }#T_a06ff_row3_col0,#T_a06ff_row5_col9{\n",
       "            background-color:  #485fd1;\n",
       "            color:  #f1f1f1;\n",
       "        }#T_a06ff_row3_col1{\n",
       "            background-color:  #516ddb;\n",
       "            color:  #000000;\n",
       "        }#T_a06ff_row3_col2{\n",
       "            background-color:  #9bbcff;\n",
       "            color:  #000000;\n",
       "        }#T_a06ff_row3_col4{\n",
       "            background-color:  #6e90f2;\n",
       "            color:  #000000;\n",
       "        }#T_a06ff_row3_col5{\n",
       "            background-color:  #8caffe;\n",
       "            color:  #000000;\n",
       "        }#T_a06ff_row3_col6{\n",
       "            background-color:  #4257c9;\n",
       "            color:  #f1f1f1;\n",
       "        }#T_a06ff_row3_col7{\n",
       "            background-color:  #c5d6f2;\n",
       "            color:  #000000;\n",
       "        }#T_a06ff_row3_col8,#T_a06ff_row6_col10,#T_a06ff_row12_col11{\n",
       "            background-color:  #92b4fe;\n",
       "            color:  #000000;\n",
       "        }#T_a06ff_row3_col9,#T_a06ff_row7_col10,#T_a06ff_row9_col4{\n",
       "            background-color:  #6485ec;\n",
       "            color:  #000000;\n",
       "        }#T_a06ff_row3_col10,#T_a06ff_row8_col10,#T_a06ff_row11_col4{\n",
       "            background-color:  #abc8fd;\n",
       "            color:  #000000;\n",
       "        }#T_a06ff_row4_col1{\n",
       "            background-color:  #3d50c3;\n",
       "            color:  #f1f1f1;\n",
       "        }#T_a06ff_row4_col2,#T_a06ff_row5_col2{\n",
       "            background-color:  #ccd9ed;\n",
       "            color:  #000000;\n",
       "        }#T_a06ff_row4_col3,#T_a06ff_row5_col0,#T_a06ff_row8_col1{\n",
       "            background-color:  #3e51c5;\n",
       "            color:  #f1f1f1;\n",
       "        }#T_a06ff_row4_col5{\n",
       "            background-color:  #a5c3fe;\n",
       "            color:  #000000;\n",
       "        }#T_a06ff_row4_col6,#T_a06ff_row11_col3{\n",
       "            background-color:  #465ecf;\n",
       "            color:  #f1f1f1;\n",
       "        }#T_a06ff_row4_col12,#T_a06ff_row9_col1{\n",
       "            background-color:  #5470de;\n",
       "            color:  #000000;\n",
       "        }#T_a06ff_row5_col1{\n",
       "            background-color:  #5d7ce6;\n",
       "            color:  #000000;\n",
       "        }#T_a06ff_row5_col4{\n",
       "            background-color:  #c0d4f5;\n",
       "            color:  #000000;\n",
       "        }#T_a06ff_row5_col7,#T_a06ff_row10_col9,#T_a06ff_row12_col6{\n",
       "            background-color:  #a3c2fe;\n",
       "            color:  #000000;\n",
       "        }#T_a06ff_row5_col8,#T_a06ff_row10_col12{\n",
       "            background-color:  #6788ee;\n",
       "            color:  #000000;\n",
       "        }#T_a06ff_row5_col10{\n",
       "            background-color:  #84a7fc;\n",
       "            color:  #000000;\n",
       "        }#T_a06ff_row5_col11{\n",
       "            background-color:  #c9d7f0;\n",
       "            color:  #000000;\n",
       "        }#T_a06ff_row5_col12,#T_a06ff_row6_col7{\n",
       "            background-color:  #9dbdff;\n",
       "            color:  #000000;\n",
       "        }#T_a06ff_row6_col0{\n",
       "            background-color:  #4055c8;\n",
       "            color:  #f1f1f1;\n",
       "        }#T_a06ff_row6_col1,#T_a06ff_row10_col8{\n",
       "            background-color:  #98b9ff;\n",
       "            color:  #000000;\n",
       "        }#T_a06ff_row6_col2{\n",
       "            background-color:  #b6cefa;\n",
       "            color:  #000000;\n",
       "        }#T_a06ff_row6_col3{\n",
       "            background-color:  #3c4ec2;\n",
       "            color:  #f1f1f1;\n",
       "        }#T_a06ff_row6_col4,#T_a06ff_row12_col4{\n",
       "            background-color:  #6f92f3;\n",
       "            color:  #000000;\n",
       "        }#T_a06ff_row6_col5,#T_a06ff_row11_col1{\n",
       "            background-color:  #6282ea;\n",
       "            color:  #000000;\n",
       "        }#T_a06ff_row6_col8{\n",
       "            background-color:  #6180e9;\n",
       "            color:  #000000;\n",
       "        }#T_a06ff_row6_col11{\n",
       "            background-color:  #b2ccfb;\n",
       "            color:  #000000;\n",
       "        }#T_a06ff_row7_col0{\n",
       "            background-color:  #90b2fe;\n",
       "            color:  #000000;\n",
       "        }#T_a06ff_row7_col3{\n",
       "            background-color:  #7b9ff9;\n",
       "            color:  #000000;\n",
       "        }#T_a06ff_row7_col4{\n",
       "            background-color:  #7a9df8;\n",
       "            color:  #000000;\n",
       "        }#T_a06ff_row7_col5{\n",
       "            background-color:  #5572df;\n",
       "            color:  #000000;\n",
       "        }#T_a06ff_row7_col6,#T_a06ff_row9_col5{\n",
       "            background-color:  #4b64d5;\n",
       "            color:  #f1f1f1;\n",
       "        }#T_a06ff_row7_col9{\n",
       "            background-color:  #688aef;\n",
       "            color:  #000000;\n",
       "        }#T_a06ff_row7_col12{\n",
       "            background-color:  #f7b599;\n",
       "            color:  #000000;\n",
       "        }#T_a06ff_row8_col0{\n",
       "            background-color:  #9ebeff;\n",
       "            color:  #000000;\n",
       "        }#T_a06ff_row8_col2{\n",
       "            background-color:  #e5d8d1;\n",
       "            color:  #000000;\n",
       "        }#T_a06ff_row8_col3{\n",
       "            background-color:  #799cf8;\n",
       "            color:  #000000;\n",
       "        }#T_a06ff_row8_col4{\n",
       "            background-color:  #7597f6;\n",
       "            color:  #000000;\n",
       "        }#T_a06ff_row8_col5{\n",
       "            background-color:  #5875e1;\n",
       "            color:  #000000;\n",
       "        }#T_a06ff_row8_col6{\n",
       "            background-color:  #4f69d9;\n",
       "            color:  #000000;\n",
       "        }#T_a06ff_row8_col7{\n",
       "            background-color:  #7da0f9;\n",
       "            color:  #000000;\n",
       "        }#T_a06ff_row8_col9{\n",
       "            background-color:  #f7af91;\n",
       "            color:  #000000;\n",
       "        }#T_a06ff_row8_col11,#T_a06ff_row10_col1{\n",
       "            background-color:  #ead4c8;\n",
       "            color:  #000000;\n",
       "        }#T_a06ff_row9_col0{\n",
       "            background-color:  #7093f3;\n",
       "            color:  #000000;\n",
       "        }#T_a06ff_row9_col2{\n",
       "            background-color:  #d1dae9;\n",
       "            color:  #000000;\n",
       "        }#T_a06ff_row9_col7{\n",
       "            background-color:  #b5cdfa;\n",
       "            color:  #000000;\n",
       "        }#T_a06ff_row9_col8{\n",
       "            background-color:  #f7a889;\n",
       "            color:  #000000;\n",
       "        }#T_a06ff_row9_col10{\n",
       "            background-color:  #c1d4f4;\n",
       "            color:  #000000;\n",
       "        }#T_a06ff_row9_col11{\n",
       "            background-color:  #d6dce4;\n",
       "            color:  #000000;\n",
       "        }#T_a06ff_row9_col12{\n",
       "            background-color:  #f1ccb8;\n",
       "            color:  #000000;\n",
       "        }#T_a06ff_row10_col3,#T_a06ff_row12_col2{\n",
       "            background-color:  #81a4fb;\n",
       "            color:  #000000;\n",
       "        }#T_a06ff_row10_col11{\n",
       "            background-color:  #bad0f8;\n",
       "            color:  #000000;\n",
       "        }#T_a06ff_row11_col6{\n",
       "            background-color:  #7295f4;\n",
       "            color:  #000000;\n",
       "        }#T_a06ff_row11_col7{\n",
       "            background-color:  #455cce;\n",
       "            color:  #f1f1f1;\n",
       "        }#T_a06ff_row11_col8{\n",
       "            background-color:  #d3dbe7;\n",
       "            color:  #000000;\n",
       "        }#T_a06ff_row11_col9{\n",
       "            background-color:  #a6c4fe;\n",
       "            color:  #000000;\n",
       "        }#T_a06ff_row11_col12{\n",
       "            background-color:  #5673e0;\n",
       "            color:  #000000;\n",
       "        }#T_a06ff_row12_col0{\n",
       "            background-color:  #94b6ff;\n",
       "            color:  #000000;\n",
       "        }#T_a06ff_row12_col3{\n",
       "            background-color:  #86a9fc;\n",
       "            color:  #000000;\n",
       "        }#T_a06ff_row12_col7{\n",
       "            background-color:  #f59c7d;\n",
       "            color:  #000000;\n",
       "        }#T_a06ff_row12_col8{\n",
       "            background-color:  #f3c8b2;\n",
       "            color:  #000000;\n",
       "        }#T_a06ff_row12_col9{\n",
       "            background-color:  #edd1c2;\n",
       "            color:  #000000;\n",
       "        }</style><table id=\"T_a06ff_\" ><thead>    <tr>        <th class=\"blank level0\" ></th>        <th class=\"col_heading level0 col0\" >day</th>        <th class=\"col_heading level0 col1\" >monthcat</th>        <th class=\"col_heading level0 col2\" >day_of_weekcat</th>        <th class=\"col_heading level0 col3\" >opponentcat</th>        <th class=\"col_heading level0 col4\" >skiescat</th>        <th class=\"col_heading level0 col5\" >capcat</th>        <th class=\"col_heading level0 col6\" >shirtcat</th>        <th class=\"col_heading level0 col7\" >fireworkscat</th>        <th class=\"col_heading level0 col8\" >bobbleheadcat</th>        <th class=\"col_heading level0 col9\" >attend</th>        <th class=\"col_heading level0 col10\" >temp</th>        <th class=\"col_heading level0 col11\" >day_promocat</th>        <th class=\"col_heading level0 col12\" >promocat</th>    </tr></thead><tbody>\n",
       "                <tr>\n",
       "                        <th id=\"T_a06ff_level0_row0\" class=\"row_heading level0 row0\" >day</th>\n",
       "                        <td id=\"T_a06ff_row0_col0\" class=\"data row0 col0\" >1.000000</td>\n",
       "                        <td id=\"T_a06ff_row0_col1\" class=\"data row0 col1\" >-0.183142</td>\n",
       "                        <td id=\"T_a06ff_row0_col2\" class=\"data row0 col2\" >-0.125346</td>\n",
       "                        <td id=\"T_a06ff_row0_col3\" class=\"data row0 col3\" >-0.130097</td>\n",
       "                        <td id=\"T_a06ff_row0_col4\" class=\"data row0 col4\" >-0.039875</td>\n",
       "                        <td id=\"T_a06ff_row0_col5\" class=\"data row0 col5\" >-0.168428</td>\n",
       "                        <td id=\"T_a06ff_row0_col6\" class=\"data row0 col6\" >-0.156662</td>\n",
       "                        <td id=\"T_a06ff_row0_col7\" class=\"data row0 col7\" >0.122905</td>\n",
       "                        <td id=\"T_a06ff_row0_col8\" class=\"data row0 col8\" >0.172594</td>\n",
       "                        <td id=\"T_a06ff_row0_col9\" class=\"data row0 col9\" >0.018145</td>\n",
       "                        <td id=\"T_a06ff_row0_col10\" class=\"data row0 col10\" >-0.178982</td>\n",
       "                        <td id=\"T_a06ff_row0_col11\" class=\"data row0 col11\" >-0.112006</td>\n",
       "                        <td id=\"T_a06ff_row0_col12\" class=\"data row0 col12\" >0.135843</td>\n",
       "            </tr>\n",
       "            <tr>\n",
       "                        <th id=\"T_a06ff_level0_row1\" class=\"row_heading level0 row1\" >monthcat</th>\n",
       "                        <td id=\"T_a06ff_row1_col0\" class=\"data row1 col0\" >-0.183142</td>\n",
       "                        <td id=\"T_a06ff_row1_col1\" class=\"data row1 col1\" >1.000000</td>\n",
       "                        <td id=\"T_a06ff_row1_col2\" class=\"data row1 col2\" >-0.017610</td>\n",
       "                        <td id=\"T_a06ff_row1_col3\" class=\"data row1 col3\" >-0.093765</td>\n",
       "                        <td id=\"T_a06ff_row1_col4\" class=\"data row1 col4\" >-0.171474</td>\n",
       "                        <td id=\"T_a06ff_row1_col5\" class=\"data row1 col5\" >-0.052585</td>\n",
       "                        <td id=\"T_a06ff_row1_col6\" class=\"data row1 col6\" >0.154053</td>\n",
       "                        <td id=\"T_a06ff_row1_col7\" class=\"data row1 col7\" >-0.047138</td>\n",
       "                        <td id=\"T_a06ff_row1_col8\" class=\"data row1 col8\" >-0.168530</td>\n",
       "                        <td id=\"T_a06ff_row1_col9\" class=\"data row1 col9\" >-0.082841</td>\n",
       "                        <td id=\"T_a06ff_row1_col10\" class=\"data row1 col10\" >0.473551</td>\n",
       "                        <td id=\"T_a06ff_row1_col11\" class=\"data row1 col11\" >-0.032374</td>\n",
       "                        <td id=\"T_a06ff_row1_col12\" class=\"data row1 col12\" >-0.125638</td>\n",
       "            </tr>\n",
       "            <tr>\n",
       "                        <th id=\"T_a06ff_level0_row2\" class=\"row_heading level0 row2\" >day_of_weekcat</th>\n",
       "                        <td id=\"T_a06ff_row2_col0\" class=\"data row2 col0\" >-0.125346</td>\n",
       "                        <td id=\"T_a06ff_row2_col1\" class=\"data row2 col1\" >-0.017610</td>\n",
       "                        <td id=\"T_a06ff_row2_col2\" class=\"data row2 col2\" >1.000000</td>\n",
       "                        <td id=\"T_a06ff_row2_col3\" class=\"data row2 col3\" >-0.097733</td>\n",
       "                        <td id=\"T_a06ff_row2_col4\" class=\"data row2 col4\" >0.130012</td>\n",
       "                        <td id=\"T_a06ff_row2_col5\" class=\"data row2 col5\" >0.127088</td>\n",
       "                        <td id=\"T_a06ff_row2_col6\" class=\"data row2 col6\" >0.019582</td>\n",
       "                        <td id=\"T_a06ff_row2_col7\" class=\"data row2 col7\" >-0.552176</td>\n",
       "                        <td id=\"T_a06ff_row2_col8\" class=\"data row2 col8\" >0.272458</td>\n",
       "                        <td id=\"T_a06ff_row2_col9\" class=\"data row2 col9\" >0.154318</td>\n",
       "                        <td id=\"T_a06ff_row2_col10\" class=\"data row2 col10\" >0.079533</td>\n",
       "                        <td id=\"T_a06ff_row2_col11\" class=\"data row2 col11\" >0.993672</td>\n",
       "                        <td id=\"T_a06ff_row2_col12\" class=\"data row2 col12\" >-0.213091</td>\n",
       "            </tr>\n",
       "            <tr>\n",
       "                        <th id=\"T_a06ff_level0_row3\" class=\"row_heading level0 row3\" >opponentcat</th>\n",
       "                        <td id=\"T_a06ff_row3_col0\" class=\"data row3 col0\" >-0.130097</td>\n",
       "                        <td id=\"T_a06ff_row3_col1\" class=\"data row3 col1\" >-0.093765</td>\n",
       "                        <td id=\"T_a06ff_row3_col2\" class=\"data row3 col2\" >-0.097733</td>\n",
       "                        <td id=\"T_a06ff_row3_col3\" class=\"data row3 col3\" >1.000000</td>\n",
       "                        <td id=\"T_a06ff_row3_col4\" class=\"data row3 col4\" >-0.114155</td>\n",
       "                        <td id=\"T_a06ff_row3_col5\" class=\"data row3 col5\" >0.119136</td>\n",
       "                        <td id=\"T_a06ff_row3_col6\" class=\"data row3 col6\" >-0.125112</td>\n",
       "                        <td id=\"T_a06ff_row3_col7\" class=\"data row3 col7\" >0.096491</td>\n",
       "                        <td id=\"T_a06ff_row3_col8\" class=\"data row3 col8\" >0.090432</td>\n",
       "                        <td id=\"T_a06ff_row3_col9\" class=\"data row3 col9\" >0.000970</td>\n",
       "                        <td id=\"T_a06ff_row3_col10\" class=\"data row3 col10\" >0.116211</td>\n",
       "                        <td id=\"T_a06ff_row3_col11\" class=\"data row3 col11\" >-0.084097</td>\n",
       "                        <td id=\"T_a06ff_row3_col12\" class=\"data row3 col12\" >0.134058</td>\n",
       "            </tr>\n",
       "            <tr>\n",
       "                        <th id=\"T_a06ff_level0_row4\" class=\"row_heading level0 row4\" >skiescat</th>\n",
       "                        <td id=\"T_a06ff_row4_col0\" class=\"data row4 col0\" >-0.039875</td>\n",
       "                        <td id=\"T_a06ff_row4_col1\" class=\"data row4 col1\" >-0.171474</td>\n",
       "                        <td id=\"T_a06ff_row4_col2\" class=\"data row4 col2\" >0.130012</td>\n",
       "                        <td id=\"T_a06ff_row4_col3\" class=\"data row4 col3\" >-0.114155</td>\n",
       "                        <td id=\"T_a06ff_row4_col4\" class=\"data row4 col4\" >1.000000</td>\n",
       "                        <td id=\"T_a06ff_row4_col5\" class=\"data row4 col5\" >0.202548</td>\n",
       "                        <td id=\"T_a06ff_row4_col6\" class=\"data row4 col6\" >-0.108253</td>\n",
       "                        <td id=\"T_a06ff_row4_col7\" class=\"data row4 col7\" >-0.068088</td>\n",
       "                        <td id=\"T_a06ff_row4_col8\" class=\"data row4 col8\" >-0.091287</td>\n",
       "                        <td id=\"T_a06ff_row4_col9\" class=\"data row4 col9\" >-0.154587</td>\n",
       "                        <td id=\"T_a06ff_row4_col10\" class=\"data row4 col10\" >-0.331492</td>\n",
       "                        <td id=\"T_a06ff_row4_col11\" class=\"data row4 col11\" >0.119425</td>\n",
       "                        <td id=\"T_a06ff_row4_col12\" class=\"data row4 col12\" >-0.112641</td>\n",
       "            </tr>\n",
       "            <tr>\n",
       "                        <th id=\"T_a06ff_level0_row5\" class=\"row_heading level0 row5\" >capcat</th>\n",
       "                        <td id=\"T_a06ff_row5_col0\" class=\"data row5 col0\" >-0.168428</td>\n",
       "                        <td id=\"T_a06ff_row5_col1\" class=\"data row5 col1\" >-0.052585</td>\n",
       "                        <td id=\"T_a06ff_row5_col2\" class=\"data row5 col2\" >0.127088</td>\n",
       "                        <td id=\"T_a06ff_row5_col3\" class=\"data row5 col3\" >0.119136</td>\n",
       "                        <td id=\"T_a06ff_row5_col4\" class=\"data row5 col4\" >0.202548</td>\n",
       "                        <td id=\"T_a06ff_row5_col5\" class=\"data row5 col5\" >1.000000</td>\n",
       "                        <td id=\"T_a06ff_row5_col6\" class=\"data row5 col6\" >-0.021926</td>\n",
       "                        <td id=\"T_a06ff_row5_col7\" class=\"data row5 col7\" >-0.064358</td>\n",
       "                        <td id=\"T_a06ff_row5_col8\" class=\"data row5 col8\" >-0.055470</td>\n",
       "                        <td id=\"T_a06ff_row5_col9\" class=\"data row5 col9\" >-0.102093</td>\n",
       "                        <td id=\"T_a06ff_row5_col10\" class=\"data row5 col10\" >-0.032427</td>\n",
       "                        <td id=\"T_a06ff_row5_col11\" class=\"data row5 col11\" >0.146009</td>\n",
       "                        <td id=\"T_a06ff_row5_col12\" class=\"data row5 col12\" >0.144496</td>\n",
       "            </tr>\n",
       "            <tr>\n",
       "                        <th id=\"T_a06ff_level0_row6\" class=\"row_heading level0 row6\" >shirtcat</th>\n",
       "                        <td id=\"T_a06ff_row6_col0\" class=\"data row6 col0\" >-0.156662</td>\n",
       "                        <td id=\"T_a06ff_row6_col1\" class=\"data row6 col1\" >0.154053</td>\n",
       "                        <td id=\"T_a06ff_row6_col2\" class=\"data row6 col2\" >0.019582</td>\n",
       "                        <td id=\"T_a06ff_row6_col3\" class=\"data row6 col3\" >-0.125112</td>\n",
       "                        <td id=\"T_a06ff_row6_col4\" class=\"data row6 col4\" >-0.108253</td>\n",
       "                        <td id=\"T_a06ff_row6_col5\" class=\"data row6 col5\" >-0.021926</td>\n",
       "                        <td id=\"T_a06ff_row6_col6\" class=\"data row6 col6\" >1.000000</td>\n",
       "                        <td id=\"T_a06ff_row6_col7\" class=\"data row6 col7\" >-0.091725</td>\n",
       "                        <td id=\"T_a06ff_row6_col8\" class=\"data row6 col8\" >-0.079057</td>\n",
       "                        <td id=\"T_a06ff_row6_col9\" class=\"data row6 col9\" >0.098326</td>\n",
       "                        <td id=\"T_a06ff_row6_col10\" class=\"data row6 col10\" >0.020578</td>\n",
       "                        <td id=\"T_a06ff_row6_col11\" class=\"data row6 col11\" >0.043613</td>\n",
       "                        <td id=\"T_a06ff_row6_col12\" class=\"data row6 col12\" >0.205939</td>\n",
       "            </tr>\n",
       "            <tr>\n",
       "                        <th id=\"T_a06ff_level0_row7\" class=\"row_heading level0 row7\" >fireworkscat</th>\n",
       "                        <td id=\"T_a06ff_row7_col0\" class=\"data row7 col0\" >0.122905</td>\n",
       "                        <td id=\"T_a06ff_row7_col1\" class=\"data row7 col1\" >-0.047138</td>\n",
       "                        <td id=\"T_a06ff_row7_col2\" class=\"data row7 col2\" >-0.552176</td>\n",
       "                        <td id=\"T_a06ff_row7_col3\" class=\"data row7 col3\" >0.096491</td>\n",
       "                        <td id=\"T_a06ff_row7_col4\" class=\"data row7 col4\" >-0.068088</td>\n",
       "                        <td id=\"T_a06ff_row7_col5\" class=\"data row7 col5\" >-0.064358</td>\n",
       "                        <td id=\"T_a06ff_row7_col6\" class=\"data row7 col6\" >-0.091725</td>\n",
       "                        <td id=\"T_a06ff_row7_col7\" class=\"data row7 col7\" >1.000000</td>\n",
       "                        <td id=\"T_a06ff_row7_col8\" class=\"data row7 col8\" >-0.232048</td>\n",
       "                        <td id=\"T_a06ff_row7_col9\" class=\"data row7 col9\" >0.012777</td>\n",
       "                        <td id=\"T_a06ff_row7_col10\" class=\"data row7 col10\" >-0.154326</td>\n",
       "                        <td id=\"T_a06ff_row7_col11\" class=\"data row7 col11\" >-0.492717</td>\n",
       "                        <td id=\"T_a06ff_row7_col12\" class=\"data row7 col12\" >0.604471</td>\n",
       "            </tr>\n",
       "            <tr>\n",
       "                        <th id=\"T_a06ff_level0_row8\" class=\"row_heading level0 row8\" >bobbleheadcat</th>\n",
       "                        <td id=\"T_a06ff_row8_col0\" class=\"data row8 col0\" >0.172594</td>\n",
       "                        <td id=\"T_a06ff_row8_col1\" class=\"data row8 col1\" >-0.168530</td>\n",
       "                        <td id=\"T_a06ff_row8_col2\" class=\"data row8 col2\" >0.272458</td>\n",
       "                        <td id=\"T_a06ff_row8_col3\" class=\"data row8 col3\" >0.090432</td>\n",
       "                        <td id=\"T_a06ff_row8_col4\" class=\"data row8 col4\" >-0.091287</td>\n",
       "                        <td id=\"T_a06ff_row8_col5\" class=\"data row8 col5\" >-0.055470</td>\n",
       "                        <td id=\"T_a06ff_row8_col6\" class=\"data row8 col6\" >-0.079057</td>\n",
       "                        <td id=\"T_a06ff_row8_col7\" class=\"data row8 col7\" >-0.232048</td>\n",
       "                        <td id=\"T_a06ff_row8_col8\" class=\"data row8 col8\" >1.000000</td>\n",
       "                        <td id=\"T_a06ff_row8_col9\" class=\"data row8 col9\" >0.646926</td>\n",
       "                        <td id=\"T_a06ff_row8_col10\" class=\"data row8 col10\" >0.118626</td>\n",
       "                        <td id=\"T_a06ff_row8_col11\" class=\"data row8 col11\" >0.337303</td>\n",
       "                        <td id=\"T_a06ff_row8_col12\" class=\"data row8 col12\" >0.520988</td>\n",
       "            </tr>\n",
       "            <tr>\n",
       "                        <th id=\"T_a06ff_level0_row9\" class=\"row_heading level0 row9\" >attend</th>\n",
       "                        <td id=\"T_a06ff_row9_col0\" class=\"data row9 col0\" >0.018145</td>\n",
       "                        <td id=\"T_a06ff_row9_col1\" class=\"data row9 col1\" >-0.082841</td>\n",
       "                        <td id=\"T_a06ff_row9_col2\" class=\"data row9 col2\" >0.154318</td>\n",
       "                        <td id=\"T_a06ff_row9_col3\" class=\"data row9 col3\" >0.000970</td>\n",
       "                        <td id=\"T_a06ff_row9_col4\" class=\"data row9 col4\" >-0.154587</td>\n",
       "                        <td id=\"T_a06ff_row9_col5\" class=\"data row9 col5\" >-0.102093</td>\n",
       "                        <td id=\"T_a06ff_row9_col6\" class=\"data row9 col6\" >0.098326</td>\n",
       "                        <td id=\"T_a06ff_row9_col7\" class=\"data row9 col7\" >0.012777</td>\n",
       "                        <td id=\"T_a06ff_row9_col8\" class=\"data row9 col8\" >0.646926</td>\n",
       "                        <td id=\"T_a06ff_row9_col9\" class=\"data row9 col9\" >1.000000</td>\n",
       "                        <td id=\"T_a06ff_row9_col10\" class=\"data row9 col10\" >0.208329</td>\n",
       "                        <td id=\"T_a06ff_row9_col11\" class=\"data row9 col11\" >0.215438</td>\n",
       "                        <td id=\"T_a06ff_row9_col12\" class=\"data row9 col12\" >0.507261</td>\n",
       "            </tr>\n",
       "            <tr>\n",
       "                        <th id=\"T_a06ff_level0_row10\" class=\"row_heading level0 row10\" >temp</th>\n",
       "                        <td id=\"T_a06ff_row10_col0\" class=\"data row10 col0\" >-0.178982</td>\n",
       "                        <td id=\"T_a06ff_row10_col1\" class=\"data row10 col1\" >0.473551</td>\n",
       "                        <td id=\"T_a06ff_row10_col2\" class=\"data row10 col2\" >0.079533</td>\n",
       "                        <td id=\"T_a06ff_row10_col3\" class=\"data row10 col3\" >0.116211</td>\n",
       "                        <td id=\"T_a06ff_row10_col4\" class=\"data row10 col4\" >-0.331492</td>\n",
       "                        <td id=\"T_a06ff_row10_col5\" class=\"data row10 col5\" >-0.032427</td>\n",
       "                        <td id=\"T_a06ff_row10_col6\" class=\"data row10 col6\" >0.020578</td>\n",
       "                        <td id=\"T_a06ff_row10_col7\" class=\"data row10 col7\" >-0.154326</td>\n",
       "                        <td id=\"T_a06ff_row10_col8\" class=\"data row10 col8\" >0.118626</td>\n",
       "                        <td id=\"T_a06ff_row10_col9\" class=\"data row10 col9\" >0.208329</td>\n",
       "                        <td id=\"T_a06ff_row10_col10\" class=\"data row10 col10\" >1.000000</td>\n",
       "                        <td id=\"T_a06ff_row10_col11\" class=\"data row10 col11\" >0.076485</td>\n",
       "                        <td id=\"T_a06ff_row10_col12\" class=\"data row10 col12\" >-0.039080</td>\n",
       "            </tr>\n",
       "            <tr>\n",
       "                        <th id=\"T_a06ff_level0_row11\" class=\"row_heading level0 row11\" >day_promocat</th>\n",
       "                        <td id=\"T_a06ff_row11_col0\" class=\"data row11 col0\" >-0.112006</td>\n",
       "                        <td id=\"T_a06ff_row11_col1\" class=\"data row11 col1\" >-0.032374</td>\n",
       "                        <td id=\"T_a06ff_row11_col2\" class=\"data row11 col2\" >0.993672</td>\n",
       "                        <td id=\"T_a06ff_row11_col3\" class=\"data row11 col3\" >-0.084097</td>\n",
       "                        <td id=\"T_a06ff_row11_col4\" class=\"data row11 col4\" >0.119425</td>\n",
       "                        <td id=\"T_a06ff_row11_col5\" class=\"data row11 col5\" >0.146009</td>\n",
       "                        <td id=\"T_a06ff_row11_col6\" class=\"data row11 col6\" >0.043613</td>\n",
       "                        <td id=\"T_a06ff_row11_col7\" class=\"data row11 col7\" >-0.492717</td>\n",
       "                        <td id=\"T_a06ff_row11_col8\" class=\"data row11 col8\" >0.337303</td>\n",
       "                        <td id=\"T_a06ff_row11_col9\" class=\"data row11 col9\" >0.215438</td>\n",
       "                        <td id=\"T_a06ff_row11_col10\" class=\"data row11 col10\" >0.076485</td>\n",
       "                        <td id=\"T_a06ff_row11_col11\" class=\"data row11 col11\" >1.000000</td>\n",
       "                        <td id=\"T_a06ff_row11_col12\" class=\"data row11 col12\" >-0.101998</td>\n",
       "            </tr>\n",
       "            <tr>\n",
       "                        <th id=\"T_a06ff_level0_row12\" class=\"row_heading level0 row12\" >promocat</th>\n",
       "                        <td id=\"T_a06ff_row12_col0\" class=\"data row12 col0\" >0.135843</td>\n",
       "                        <td id=\"T_a06ff_row12_col1\" class=\"data row12 col1\" >-0.125638</td>\n",
       "                        <td id=\"T_a06ff_row12_col2\" class=\"data row12 col2\" >-0.213091</td>\n",
       "                        <td id=\"T_a06ff_row12_col3\" class=\"data row12 col3\" >0.134058</td>\n",
       "                        <td id=\"T_a06ff_row12_col4\" class=\"data row12 col4\" >-0.112641</td>\n",
       "                        <td id=\"T_a06ff_row12_col5\" class=\"data row12 col5\" >0.144496</td>\n",
       "                        <td id=\"T_a06ff_row12_col6\" class=\"data row12 col6\" >0.205939</td>\n",
       "                        <td id=\"T_a06ff_row12_col7\" class=\"data row12 col7\" >0.604471</td>\n",
       "                        <td id=\"T_a06ff_row12_col8\" class=\"data row12 col8\" >0.520988</td>\n",
       "                        <td id=\"T_a06ff_row12_col9\" class=\"data row12 col9\" >0.507261</td>\n",
       "                        <td id=\"T_a06ff_row12_col10\" class=\"data row12 col10\" >-0.039080</td>\n",
       "                        <td id=\"T_a06ff_row12_col11\" class=\"data row12 col11\" >-0.101998</td>\n",
       "                        <td id=\"T_a06ff_row12_col12\" class=\"data row12 col12\" >1.000000</td>\n",
       "            </tr>\n",
       "    </tbody></table>"
      ],
      "text/plain": [
       "<pandas.io.formats.style.Styler at 0x224706c6b20>"
      ]
     },
     "execution_count": 1424,
     "metadata": {},
     "output_type": "execute_result"
    }
   ],
   "source": [
    "corr = dodgers_pd_regress.corr()\n",
    "corr.style.background_gradient(cmap='coolwarm')"
   ]
  },
  {
   "cell_type": "markdown",
   "id": "83492820",
   "metadata": {},
   "source": [
    "High correlations:\n",
    "1. attend & bobbleheadcat are relatively highly correlated with one another as features: 0.646926\n",
    "2. temp is also highly correlated with our target values of monthcat & month_day_weekcat: 0.473551 and 0.458327 respectively\n",
    "3. fireworkscat and promocat are correlated at 0.604471 --> relatively positive relationship\n",
    "4. bobbleheadcat and promocat have a correlation of 0.520988\n",
    "5. promocat & attend also have a higher positive correlation of 0.507261"
   ]
  },
  {
   "cell_type": "markdown",
   "id": "2817a670",
   "metadata": {},
   "source": [
    "#### Scatterplots for Correlation Analysis"
   ]
  },
  {
   "cell_type": "code",
   "execution_count": 1425,
   "id": "06d92ac9",
   "metadata": {},
   "outputs": [
    {
     "data": {
      "image/png": "[encoded data removed]",
      "text/plain": [
       "<Figure size 576x396 with 1 Axes>"
      ]
     },
     "metadata": {},
     "output_type": "display_data"
    }
   ],
   "source": [
    "#scatterplot between attend and bobbleheadcat\n",
    "plt.scatter(dodgers_pd_regress['attend'], dodgers_pd_regress['bobbleheadcat'])\n",
    "plt.title('Scatter Plot between Attendance and Bobblehead Promotion Offering')\n",
    "plt.show()"
   ]
  },
  {
   "cell_type": "markdown",
   "id": "b4890806",
   "metadata": {},
   "source": [
    "As the game attendance increases, it seems that the probability for a bobblehead to be offered increases as well. Bobbleheads seem to be given out more when game attendance is higher. This goes along with the 0.646926 positive correlation from the correlation heat map. "
   ]
  },
  {
   "cell_type": "code",
   "execution_count": 1426,
   "id": "43b9af3b",
   "metadata": {},
   "outputs": [
    {
     "data": {
      "image/png": "[encoded data removed]",
      "text/plain": [
       "<Figure size 576x396 with 1 Axes>"
      ]
     },
     "metadata": {},
     "output_type": "display_data"
    }
   ],
   "source": [
    "#scatter plot between day and attend\n",
    "plt.scatter(dodgers_pd_regress['day'], dodgers_pd_regress['attend'])\n",
    "plt.title('Scatter Plot between Game Day and Attendance')\n",
    "plt.show()"
   ]
  },
  {
   "cell_type": "markdown",
   "id": "07efc0c3",
   "metadata": {},
   "source": [
    "I wanted to visualize a scatter plot between two of the continuous variables in our dataset: day and attend. Day provides information around what day on a given month a Dodgers game is played.\n",
    "\n",
    "It seems there is little to no relationship between these two variables, as also shown by their 0.0181 correlation value. This value is extremely close to zero, which signifies a neutral relationship where the variables do not have an effect on eachother. Given that a part of our problem is in relation to which day should be recommended in order to increase attendance, it looks like 'day' by itself may not have a significant impact on change in attendance at Dodgers games. "
   ]
  },
  {
   "cell_type": "markdown",
   "id": "434b4a76",
   "metadata": {},
   "source": [
    "#### Using VIF for feature reduction\n",
    "\n",
    "VIF or Variance-Inflation Factor will determine if collinearity exists among variables. In the below function, our bounday for feature removal based on VIF is set to 5.0, which would define whether any features are correlated with each other. "
   ]
  },
  {
   "cell_type": "code",
   "execution_count": 1427,
   "id": "61078a89",
   "metadata": {},
   "outputs": [],
   "source": [
    "from statsmodels.stats.outliers_influence import variance_inflation_factor\n",
    "#features --> all variables except for day_promocat\n",
    "x=dodgers_pd_regress.drop(['day_promocat'],axis=1)\n",
    "#target variable --> day_promocat\n",
    "y= dodgers_pd_regress['day_promocat']"
   ]
  },
  {
   "cell_type": "code",
   "execution_count": 1428,
   "id": "694bb3d8",
   "metadata": {},
   "outputs": [],
   "source": [
    "#function for calculating the VIF score for each feature to determine if collinearity exists among variable\n",
    "#finding values with large absolute values greater than 5\n",
    "#function from https://medium.com/analytics-vidhya/feature-selection-techniques-2614b3b7efcd\n",
    "def cal_vif(x):\n",
    "    #threshold for VIF score\n",
    "    thresh = 5\n",
    "    output = pd.DataFrame()\n",
    "    #number of columns\n",
    "    k = x.shape[1]\n",
    "    #calculate the VIF for the values in each column in the features\n",
    "    vif = [variance_inflation_factor(x.values,i) for i in range(x.shape[1])]\n",
    "    for i in range(1,k):\n",
    "        print('Iteration no ',i)\n",
    "        print(vif)\n",
    "        #determine the feature with max VIF\n",
    "        a = np.argmax(vif)\n",
    "        print('Max vif is for variable no : ',a)\n",
    "        #if max is not less than the threshold of 5.0, break and keep looking\n",
    "        if(vif[a]<=thresh):\n",
    "            break\n",
    "        #else drop features and keep searching ... recursive\n",
    "        if(i==1):\n",
    "            output=x.drop(x.columns[a],axis=1)\n",
    "            vif = [variance_inflation_factor(output.values,j)for j in range(output.shape[1])]\n",
    "        elif(i>1):\n",
    "            output = output.drop(output.columns[a],axis=1)\n",
    "            vif = [variance_inflation_factor(output.values,j) for j in range(output.shape[1])]\n",
    "    return(output)"
   ]
  },
  {
   "cell_type": "code",
   "execution_count": 1429,
   "id": "41f1a5ae",
   "metadata": {},
   "outputs": [
    {
     "name": "stdout",
     "output_type": "stream",
     "text": [
      "Iteration no  1\n",
      "[4.061312572851412, 4.440967980742168, 4.020726635483109, 4.6543308944975195, 1.5021032201139872, inf, inf, inf, inf, 44.87762739550238, 56.39769369240696, inf]\n",
      "Max vif is for variable no :  5\n",
      "Iteration no  2\n",
      "[4.061312572851412, 4.440967980742171, 4.020726635483109, 4.6543308944975195, 1.5021032201139872, 3.471238666243197, 18.174001632740552, 14.755203310198624, 44.87762739550238, 56.39769369240696, 31.61817261330915]\n",
      "Max vif is for variable no :  9\n",
      "Iteration no  3\n",
      "[3.6792483491802526, 3.208545439449354, 3.9473741062305168, 3.87554666175938, 1.5020772040947643, 3.4203576096258073, 17.96551450431619, 13.895680620270461, 14.787379179442071, 31.526122266182337]\n",
      "Max vif is for variable no :  9\n",
      "Iteration no  4\n",
      "[3.6255014792201257, 3.206155530071861, 3.8940574456582526, 3.77463521062613, 1.4481700097883912, 1.1554482029507003, 2.048617746464274, 1.8419859675485437, 14.743780421072724]\n",
      "Max vif is for variable no :  8\n",
      "Iteration no  5\n",
      "[2.9003642182051856, 2.559158968170141, 3.044966485586377, 2.969045098019715, 1.4024888615453448, 1.0834836816892965, 1.711830683753264, 1.4757427069009128]\n",
      "Max vif is for variable no :  2\n"
     ]
    },
    {
     "name": "stderr",
     "output_type": "stream",
     "text": [
      "C:\\Users\\phill\\Anaconda3\\lib\\site-packages\\statsmodels\\stats\\outliers_influence.py:193: RuntimeWarning: divide by zero encountered in double_scalars\n",
      "  vif = 1. / (1. - r_squared_i)\n"
     ]
    },
    {
     "data": {
      "text/html": [
       "<div>\n",
       "<style scoped>\n",
       "    .dataframe tbody tr th:only-of-type {\n",
       "        vertical-align: middle;\n",
       "    }\n",
       "\n",
       "    .dataframe tbody tr th {\n",
       "        vertical-align: top;\n",
       "    }\n",
       "\n",
       "    .dataframe thead th {\n",
       "        text-align: right;\n",
       "    }\n",
       "</style>\n",
       "<table border=\"1\" class=\"dataframe\">\n",
       "  <thead>\n",
       "    <tr style=\"text-align: right;\">\n",
       "      <th></th>\n",
       "      <th>day</th>\n",
       "      <th>monthcat</th>\n",
       "      <th>day_of_weekcat</th>\n",
       "      <th>opponentcat</th>\n",
       "      <th>skiescat</th>\n",
       "      <th>shirtcat</th>\n",
       "      <th>fireworkscat</th>\n",
       "      <th>bobbleheadcat</th>\n",
       "    </tr>\n",
       "  </thead>\n",
       "  <tbody>\n",
       "    <tr>\n",
       "      <th>1</th>\n",
       "      <td>11</td>\n",
       "      <td>0</td>\n",
       "      <td>6</td>\n",
       "      <td>12</td>\n",
       "      <td>1</td>\n",
       "      <td>0</td>\n",
       "      <td>0</td>\n",
       "      <td>0</td>\n",
       "    </tr>\n",
       "    <tr>\n",
       "      <th>2</th>\n",
       "      <td>12</td>\n",
       "      <td>0</td>\n",
       "      <td>4</td>\n",
       "      <td>12</td>\n",
       "      <td>1</td>\n",
       "      <td>0</td>\n",
       "      <td>0</td>\n",
       "      <td>0</td>\n",
       "    </tr>\n",
       "    <tr>\n",
       "      <th>3</th>\n",
       "      <td>13</td>\n",
       "      <td>0</td>\n",
       "      <td>0</td>\n",
       "      <td>10</td>\n",
       "      <td>1</td>\n",
       "      <td>0</td>\n",
       "      <td>1</td>\n",
       "      <td>0</td>\n",
       "    </tr>\n",
       "    <tr>\n",
       "      <th>4</th>\n",
       "      <td>14</td>\n",
       "      <td>0</td>\n",
       "      <td>2</td>\n",
       "      <td>10</td>\n",
       "      <td>1</td>\n",
       "      <td>0</td>\n",
       "      <td>0</td>\n",
       "      <td>0</td>\n",
       "    </tr>\n",
       "    <tr>\n",
       "      <th>6</th>\n",
       "      <td>23</td>\n",
       "      <td>0</td>\n",
       "      <td>1</td>\n",
       "      <td>2</td>\n",
       "      <td>1</td>\n",
       "      <td>0</td>\n",
       "      <td>0</td>\n",
       "      <td>0</td>\n",
       "    </tr>\n",
       "  </tbody>\n",
       "</table>\n",
       "</div>"
      ],
      "text/plain": [
       "   day  monthcat  day_of_weekcat  opponentcat  skiescat  shirtcat  \\\n",
       "1   11         0               6           12         1         0   \n",
       "2   12         0               4           12         1         0   \n",
       "3   13         0               0           10         1         0   \n",
       "4   14         0               2           10         1         0   \n",
       "6   23         0               1            2         1         0   \n",
       "\n",
       "   fireworkscat  bobbleheadcat  \n",
       "1             0              0  \n",
       "2             0              0  \n",
       "3             1              0  \n",
       "4             0              0  \n",
       "6             0              0  "
      ]
     },
     "execution_count": 1429,
     "metadata": {},
     "output_type": "execute_result"
    }
   ],
   "source": [
    "selected_features = cal_vif(x)\n",
    "selected_features.head()"
   ]
  },
  {
   "cell_type": "markdown",
   "id": "39bdd222",
   "metadata": {},
   "source": [
    "By utilizing the VIF of the variables, we were able to remove/drop variables which had collinearity with each other. The importance of dropping these allows for us to have features which provide unique and indepentent information about the variance within the given dataset. "
   ]
  },
  {
   "cell_type": "markdown",
   "id": "f63068f8",
   "metadata": {},
   "source": [
    "Through these iterations, the following features were dropped: attend, capcat, promocat, temp."
   ]
  },
  {
   "cell_type": "markdown",
   "id": "89adda61",
   "metadata": {},
   "source": [
    "### Multinomial Logistic Regression\n",
    "\n",
    "Now that our features have been selected by looking into correlation and VIF, we are ready to apply a regression model to predict our target variable 'day_promocat'. This is a categorical variable which represents the days of the week as numbers; therfore, our options for a model are a multinomial logistic regression model as we have a multinomial categorical dependent variable."
   ]
  },
  {
   "cell_type": "markdown",
   "id": "f7b25c4e",
   "metadata": {},
   "source": [
    "In choosing a Multinomial Logistic Regression model, I envisioned the business users plugging in values for the features and being able to receive an output which lets them know the day of the week and whether a promotion should be offered that day. It is more brute-force though, and not as predictive as the linear regression model later in this report. "
   ]
  },
  {
   "cell_type": "code",
   "execution_count": 1430,
   "id": "12473890",
   "metadata": {},
   "outputs": [],
   "source": [
    "from sklearn.linear_model import Lasso, LogisticRegression\n",
    "from sklearn.metrics import accuracy_score, confusion_matrix,roc_curve, roc_auc_score, precision_score, recall_score, precision_recall_curve\n",
    "# split X and y into training and testing sets\n",
    "from sklearn.model_selection import train_test_split"
   ]
  },
  {
   "cell_type": "code",
   "execution_count": 1431,
   "id": "98802b78",
   "metadata": {},
   "outputs": [],
   "source": [
    "#split the dataset into training and test sets --> 75:25\n",
    "#25% for testing\n",
    "X_train,X_test,y_train,y_test=train_test_split(selected_features,y,test_size=0.25,random_state=0)"
   ]
  },
  {
   "cell_type": "code",
   "execution_count": 1432,
   "id": "fcd6e380",
   "metadata": {},
   "outputs": [],
   "source": [
    "# define the multinomial logistic regression model\n",
    "model = LogisticRegression(multi_class='multinomial', solver='lbfgs',max_iter=1000)"
   ]
  },
  {
   "cell_type": "code",
   "execution_count": 1433,
   "id": "43f350da",
   "metadata": {},
   "outputs": [],
   "source": [
    "# fit the model with data\n",
    "model.fit(X_train,y_train)\n",
    "\n",
    "#get predictions using test set of x's\n",
    "y_pred=model.predict(X_test)"
   ]
  },
  {
   "cell_type": "code",
   "execution_count": 1434,
   "id": "c124a965",
   "metadata": {},
   "outputs": [
    {
     "data": {
      "text/plain": [
       "array([[ 9.18791640e-02,  3.26532042e-02, -2.05745666e+00,\n",
       "         1.15041307e-01,  9.91761301e-02, -4.56375893e-02,\n",
       "         1.56181498e+00, -1.16020663e-01],\n",
       "       [ 5.67699516e-02, -4.55904450e-02, -1.38473781e+00,\n",
       "         1.41981845e-01, -5.99118761e-01, -1.13503841e-01,\n",
       "        -8.73537411e-01, -4.91364566e-01],\n",
       "       [-1.48991071e-01,  1.01662684e-02, -5.21783368e-01,\n",
       "        -8.09714548e-01, -1.62424323e-01,  2.79461005e-01,\n",
       "        -3.67096677e-02, -8.21892964e-02],\n",
       "       [ 2.11612053e-02,  3.74917148e-01, -5.52786016e-01,\n",
       "         1.11660541e-01,  1.20294281e+00, -1.59037219e-01,\n",
       "        -4.49620281e-01, -4.59768710e-01],\n",
       "       [ 1.05594577e-01, -4.71888162e-01, -4.93030067e-01,\n",
       "         1.35823723e-01, -3.55341120e-01, -7.43716513e-03,\n",
       "        -1.08120557e-01,  8.64269314e-01],\n",
       "       [ 6.80420074e-02,  1.74763777e-01, -1.56806043e-02,\n",
       "        -1.33806086e-01, -2.03150700e-01, -3.17193478e-02,\n",
       "        -2.17107634e-02, -1.34479585e-01],\n",
       "       [-6.30423141e-01, -3.54296101e-01,  1.10845241e-01,\n",
       "         4.56396022e-02, -1.22403425e-01, -1.20546008e-02,\n",
       "        -2.43490653e-02,  3.02400334e-01],\n",
       "       [ 7.24928306e-02,  1.37803959e-01,  4.19400526e-01,\n",
       "         5.11327964e-02,  1.92267174e-01, -9.86107523e-02,\n",
       "        -1.62508230e-02, -5.21620761e-01],\n",
       "       [ 2.96749563e-01, -7.99836338e-02,  1.93878752e-01,\n",
       "         2.45562683e-01, -4.75953220e-01, -5.68124393e-04,\n",
       "        -2.59417060e-02,  4.04508514e-01],\n",
       "       [-4.45306604e-02, -1.97475220e-01,  9.52313826e-01,\n",
       "        -3.76130759e-02, -3.85452953e-01, -1.91980078e-01,\n",
       "        -3.81374725e-03, -5.12913837e-01],\n",
       "       [ 7.06877254e-02,  4.11735502e-01,  1.05771543e+00,\n",
       "         1.26471024e-01,  5.48654602e-01,  5.25589774e-01,\n",
       "        -1.37256903e-03,  1.25764334e+00],\n",
       "       [ 4.05678477e-02,  7.19370433e-03,  2.29132074e+00,\n",
       "         7.82018831e-03,  2.60803783e-01, -1.44502062e-01,\n",
       "        -3.88395475e-04, -5.10464077e-01]])"
      ]
     },
     "execution_count": 1434,
     "metadata": {},
     "output_type": "execute_result"
    }
   ],
   "source": [
    "model.coef_"
   ]
  },
  {
   "cell_type": "markdown",
   "id": "621b5fdd",
   "metadata": {},
   "source": [
    "### Model Evaluation"
   ]
  },
  {
   "cell_type": "code",
   "execution_count": 1435,
   "id": "933e7017",
   "metadata": {},
   "outputs": [
    {
     "data": {
      "text/plain": [
       "array([[3, 0, 0, 0, 0, 0, 0],\n",
       "       [0, 3, 2, 0, 0, 0, 0],\n",
       "       [0, 2, 0, 0, 0, 0, 0],\n",
       "       [0, 0, 0, 0, 0, 0, 0],\n",
       "       [0, 0, 0, 2, 1, 0, 0],\n",
       "       [0, 0, 0, 0, 0, 3, 0],\n",
       "       [0, 0, 0, 0, 0, 1, 0]], dtype=int64)"
      ]
     },
     "execution_count": 1435,
     "metadata": {},
     "output_type": "execute_result"
    }
   ],
   "source": [
    "# import the metrics class\n",
    "from sklearn import metrics\n",
    "\n",
    "#confusion matrix to evaluate the performance of the classification model\n",
    "cnf_matrix = metrics.confusion_matrix(y_test, y_pred)\n",
    "cnf_matrix"
   ]
  },
  {
   "cell_type": "code",
   "execution_count": 1436,
   "id": "8c65af5d",
   "metadata": {},
   "outputs": [],
   "source": [
    "#evaluating the matrix using a heatmap\n",
    "# import required modules\n",
    "import numpy as np\n",
    "import matplotlib.pyplot as plt\n",
    "import seaborn as sns\n",
    "%matplotlib inline"
   ]
  },
  {
   "cell_type": "code",
   "execution_count": 1437,
   "id": "62f34df2",
   "metadata": {},
   "outputs": [
    {
     "data": {
      "text/plain": [
       "Text(0.5, 257.44, 'Predicted label')"
      ]
     },
     "execution_count": 1437,
     "metadata": {},
     "output_type": "execute_result"
    },
    {
     "data": {
      "image/png": "[encoded data removed]",
      "text/plain": [
       "<Figure size 432x288 with 2 Axes>"
      ]
     },
     "metadata": {
      "needs_background": "light"
     },
     "output_type": "display_data"
    }
   ],
   "source": [
    "class_names=[0,1,2,3,4,5,6,7,8,9,10,11,12] # name  of classes\n",
    "fig, ax = plt.subplots()\n",
    "tick_marks = np.arange(len(class_names))\n",
    "plt.xticks(tick_marks, class_names)\n",
    "plt.yticks(tick_marks, class_names)\n",
    "# create heatmap for the confusion matrix\n",
    "sns.heatmap(pd.DataFrame(cnf_matrix), annot=True, cmap=\"YlGnBu\" ,fmt='g')\n",
    "ax.xaxis.set_label_position(\"top\")\n",
    "plt.tight_layout()\n",
    "plt.title('Confusion matrix', y=1.1)\n",
    "plt.ylabel('Actual label')\n",
    "plt.xlabel('Predicted label')"
   ]
  },
  {
   "cell_type": "code",
   "execution_count": 1438,
   "id": "044c81bd",
   "metadata": {},
   "outputs": [
    {
     "name": "stdout",
     "output_type": "stream",
     "text": [
      "Classification Report: \n",
      "              precision    recall  f1-score   support\n",
      "\n",
      "           0       1.00      1.00      1.00         3\n",
      "           1       0.60      0.60      0.60         5\n",
      "           3       0.00      0.00      0.00         2\n",
      "           9       0.00      0.00      0.00         0\n",
      "          10       1.00      0.33      0.50         3\n",
      "          11       0.75      1.00      0.86         3\n",
      "\n",
      "   micro avg       0.59      0.62      0.61        16\n",
      "   macro avg       0.56      0.49      0.49        16\n",
      "weighted avg       0.70      0.62      0.63        16\n",
      "\n"
     ]
    },
    {
     "name": "stderr",
     "output_type": "stream",
     "text": [
      "C:\\Users\\phill\\Anaconda3\\lib\\site-packages\\sklearn\\metrics\\_classification.py:1308: UndefinedMetricWarning: Recall and F-score are ill-defined and being set to 0.0 in labels with no true samples. Use `zero_division` parameter to control this behavior.\n",
      "  _warn_prf(average, modifier, msg_start, len(result))\n",
      "C:\\Users\\phill\\Anaconda3\\lib\\site-packages\\sklearn\\metrics\\_classification.py:1308: UndefinedMetricWarning: Recall and F-score are ill-defined and being set to 0.0 in labels with no true samples. Use `zero_division` parameter to control this behavior.\n",
      "  _warn_prf(average, modifier, msg_start, len(result))\n",
      "C:\\Users\\phill\\Anaconda3\\lib\\site-packages\\sklearn\\metrics\\_classification.py:1308: UndefinedMetricWarning: Recall and F-score are ill-defined and being set to 0.0 in labels with no true samples. Use `zero_division` parameter to control this behavior.\n",
      "  _warn_prf(average, modifier, msg_start, len(result))\n"
     ]
    }
   ],
   "source": [
    "#metrics for confusion matrix evaluation\n",
    "print(f'Classification Report: \\n{metrics.classification_report(y_test, y_pred,labels=np.unique(y_pred))}')"
   ]
  },
  {
   "cell_type": "markdown",
   "id": "2f27f8b1",
   "metadata": {},
   "source": [
    "Precision is the ratio of correctly predicted positive observations to the total predicted positive observations. If records are labeled with a certain day of week and promo, how many actually have these day and promo values? \n",
    "For the labels: 0,1,10 and 11, they have a precision greater than zero. Classes 0 & 10 have a precision of 1.00 which is suspicious and could be due to having greater representation in the dataset. Classes 1 & 11 have precision values of 0.60 and 0.75 respectively which is a relatively good percentage, and it lets us know that for MondayNO & WednesdayNO, they are correctly predicted 60% and 75% of the time from the model. "
   ]
  },
  {
   "cell_type": "markdown",
   "id": "ac7ad4c7",
   "metadata": {},
   "source": [
    "These same classes have relatively high recall scores, except for 10 which represents TuesdayYES. Of all the games on Tuesdays with promotions, how many did we actually label? We only actually labeled 33% of them, which is not great as it is not over 50%. The model's recall for this label is not very reliable, which gives suspicious as to the model's ability to define this class and therefore games on Tuesdays with promotions."
   ]
  },
  {
   "cell_type": "code",
   "execution_count": 1439,
   "id": "b2c508ef",
   "metadata": {},
   "outputs": [
    {
     "name": "stderr",
     "output_type": "stream",
     "text": [
      "C:\\Users\\phill\\Anaconda3\\lib\\site-packages\\sklearn\\model_selection\\_split.py:676: UserWarning: The least populated class in y has only 1 members, which is less than n_splits=5.\n",
      "  warnings.warn(\n",
      "C:\\Users\\phill\\Anaconda3\\lib\\site-packages\\sklearn\\model_selection\\_split.py:676: UserWarning: The least populated class in y has only 1 members, which is less than n_splits=5.\n",
      "  warnings.warn(\n",
      "C:\\Users\\phill\\Anaconda3\\lib\\site-packages\\sklearn\\model_selection\\_split.py:676: UserWarning: The least populated class in y has only 1 members, which is less than n_splits=5.\n",
      "  warnings.warn(\n"
     ]
    },
    {
     "name": "stdout",
     "output_type": "stream",
     "text": [
      "Mean Accuracy: 0.531 (0.102)\n"
     ]
    }
   ],
   "source": [
    "#using stratified k fold to handle imbalance in classes for our target variale\n",
    "\n",
    "# define the model evaluation procedure\n",
    "cv = RepeatedStratifiedKFold(n_splits=5, n_repeats=3, random_state=1)\n",
    "# evaluate the model and collect the scores\n",
    "n_scores = cross_val_score(model, selected_features, y, scoring='accuracy', cv=cv, n_jobs=-1)\n",
    "# report the model performance\n",
    "print('Mean Accuracy: %.3f (%.3f)' % (mean(n_scores), std(n_scores)))"
   ]
  },
  {
   "cell_type": "markdown",
   "id": "28861f47",
   "metadata": {},
   "source": [
    "From proper analysis of the Multinomial Logistic Regression model results, I do not think it will be very helpful for giving guidance on our problem statement of deciding which day to run promotions in order to increase attendance.\n",
    "\n",
    "It will allow for feature values to be defined in order to determine which day of the week a game is and whether promotion is offered on that day, but I don't think it will give clear information on which day of the week will increase attendance when a promotion is offered.\n",
    "\n",
    "Therefore, I decided to utilize a linear regression model instead with 'attend' as our target variable to look into the change in attendance based on other predictors."
   ]
  },
  {
   "cell_type": "markdown",
   "id": "57a38d35",
   "metadata": {},
   "source": [
    "### Linear Regression"
   ]
  },
  {
   "cell_type": "code",
   "execution_count": 1440,
   "id": "b1b80e7c",
   "metadata": {},
   "outputs": [],
   "source": [
    "import numpy as np\n",
    "from sklearn.linear_model import LinearRegression"
   ]
  },
  {
   "cell_type": "code",
   "execution_count": 1441,
   "id": "eaed287f",
   "metadata": {
    "scrolled": true
   },
   "outputs": [
    {
     "name": "stdout",
     "output_type": "stream",
     "text": [
      "Index(['month', 'day', 'attend', 'day_of_week', 'opponent', 'temp', 'skies',\n",
      "       'day_night', 'cap', 'shirt', 'fireworks', 'bobblehead', 'promo',\n",
      "       'day_promo', 'monthcat', 'day_of_weekcat', 'opponentcat', 'skiescat',\n",
      "       'day_nightcat', 'capcat', 'shirtcat', 'fireworkscat', 'bobbleheadcat',\n",
      "       'promocat', 'day_promocat'],\n",
      "      dtype='object')\n"
     ]
    }
   ],
   "source": [
    "#copy of dataset of linear regression modelf\n",
    "dodgers_pd_lr = dodgers_pd.copy()\n",
    "\n",
    "print(dodgers_pd_lr.columns)"
   ]
  },
  {
   "cell_type": "code",
   "execution_count": 1442,
   "id": "b5f71757",
   "metadata": {},
   "outputs": [
    {
     "data": {
      "text/plain": [
       "month             object\n",
       "day                int64\n",
       "attend             int64\n",
       "day_of_week       object\n",
       "opponent          object\n",
       "temp               int64\n",
       "skies             object\n",
       "day_night         object\n",
       "cap               object\n",
       "shirt             object\n",
       "fireworks         object\n",
       "bobblehead        object\n",
       "promo             object\n",
       "day_promo         object\n",
       "monthcat           int32\n",
       "day_of_weekcat     int32\n",
       "opponentcat        int32\n",
       "skiescat           int32\n",
       "day_nightcat       int32\n",
       "capcat             int32\n",
       "shirtcat           int32\n",
       "fireworkscat       int32\n",
       "bobbleheadcat      int32\n",
       "promocat           int32\n",
       "day_promocat       int32\n",
       "dtype: object"
      ]
     },
     "execution_count": 1442,
     "metadata": {},
     "output_type": "execute_result"
    }
   ],
   "source": [
    "#looking at data types of our columns --> all wll need to be numeric for our model\n",
    "dodgers_pd_lr.dtypes"
   ]
  },
  {
   "cell_type": "code",
   "execution_count": 1443,
   "id": "6d6f7068",
   "metadata": {},
   "outputs": [],
   "source": [
    "#removing data for day-games\n",
    "#subset dataframe to only have night games --> where day_nightcat = 1\n",
    "dodgers_pd_lr = dodgers_pd_lr[dodgers_pd_lr['day_nightcat']==1]"
   ]
  },
  {
   "cell_type": "code",
   "execution_count": 1444,
   "id": "57a9d566",
   "metadata": {},
   "outputs": [],
   "source": [
    "dodgers_pd_lr = dodgers_pd_lr.drop(['day_nightcat','day_night'],axis=1)"
   ]
  },
  {
   "cell_type": "code",
   "execution_count": 1445,
   "id": "2041c5c2",
   "metadata": {},
   "outputs": [],
   "source": [
    "#defined X = features and Y = target variable\n",
    "X = dodgers_pd_lr[[ 'day', 'day_of_week','month', 'opponent', 'temp','skies','cap','shirt','fireworks','bobblehead','promo','day_promo']]\n",
    "Y = dodgers_pd_lr[['attend']]"
   ]
  },
  {
   "cell_type": "code",
   "execution_count": 1446,
   "id": "093c0519",
   "metadata": {
    "scrolled": true
   },
   "outputs": [
    {
     "data": {
      "text/html": [
       "<div>\n",
       "<style scoped>\n",
       "    .dataframe tbody tr th:only-of-type {\n",
       "        vertical-align: middle;\n",
       "    }\n",
       "\n",
       "    .dataframe tbody tr th {\n",
       "        vertical-align: top;\n",
       "    }\n",
       "\n",
       "    .dataframe thead th {\n",
       "        text-align: right;\n",
       "    }\n",
       "</style>\n",
       "<table border=\"1\" class=\"dataframe\">\n",
       "  <thead>\n",
       "    <tr style=\"text-align: right;\">\n",
       "      <th></th>\n",
       "      <th>day</th>\n",
       "      <th>temp</th>\n",
       "      <th>day_of_week_Monday</th>\n",
       "      <th>day_of_week_Saturday</th>\n",
       "      <th>day_of_week_Sunday</th>\n",
       "      <th>day_of_week_Thursday</th>\n",
       "      <th>day_of_week_Tuesday</th>\n",
       "      <th>day_of_week_Wednesday</th>\n",
       "      <th>month_AUG</th>\n",
       "      <th>month_JUL</th>\n",
       "      <th>...</th>\n",
       "      <th>day_promo_SaturdayNO</th>\n",
       "      <th>day_promo_SaturdayYES</th>\n",
       "      <th>day_promo_SundayNO</th>\n",
       "      <th>day_promo_SundayYES</th>\n",
       "      <th>day_promo_ThursdayNO</th>\n",
       "      <th>day_promo_ThursdayYES</th>\n",
       "      <th>day_promo_TuesdayNO</th>\n",
       "      <th>day_promo_TuesdayYES</th>\n",
       "      <th>day_promo_WednesdayNO</th>\n",
       "      <th>day_promo_WednesdayYES</th>\n",
       "    </tr>\n",
       "  </thead>\n",
       "  <tbody>\n",
       "    <tr>\n",
       "      <th>1</th>\n",
       "      <td>11</td>\n",
       "      <td>58</td>\n",
       "      <td>0</td>\n",
       "      <td>0</td>\n",
       "      <td>0</td>\n",
       "      <td>0</td>\n",
       "      <td>0</td>\n",
       "      <td>1</td>\n",
       "      <td>0</td>\n",
       "      <td>0</td>\n",
       "      <td>...</td>\n",
       "      <td>0</td>\n",
       "      <td>0</td>\n",
       "      <td>0</td>\n",
       "      <td>0</td>\n",
       "      <td>0</td>\n",
       "      <td>0</td>\n",
       "      <td>0</td>\n",
       "      <td>0</td>\n",
       "      <td>1</td>\n",
       "      <td>0</td>\n",
       "    </tr>\n",
       "    <tr>\n",
       "      <th>2</th>\n",
       "      <td>12</td>\n",
       "      <td>57</td>\n",
       "      <td>0</td>\n",
       "      <td>0</td>\n",
       "      <td>0</td>\n",
       "      <td>1</td>\n",
       "      <td>0</td>\n",
       "      <td>0</td>\n",
       "      <td>0</td>\n",
       "      <td>0</td>\n",
       "      <td>...</td>\n",
       "      <td>0</td>\n",
       "      <td>0</td>\n",
       "      <td>0</td>\n",
       "      <td>0</td>\n",
       "      <td>1</td>\n",
       "      <td>0</td>\n",
       "      <td>0</td>\n",
       "      <td>0</td>\n",
       "      <td>0</td>\n",
       "      <td>0</td>\n",
       "    </tr>\n",
       "    <tr>\n",
       "      <th>3</th>\n",
       "      <td>13</td>\n",
       "      <td>54</td>\n",
       "      <td>0</td>\n",
       "      <td>0</td>\n",
       "      <td>0</td>\n",
       "      <td>0</td>\n",
       "      <td>0</td>\n",
       "      <td>0</td>\n",
       "      <td>0</td>\n",
       "      <td>0</td>\n",
       "      <td>...</td>\n",
       "      <td>0</td>\n",
       "      <td>0</td>\n",
       "      <td>0</td>\n",
       "      <td>0</td>\n",
       "      <td>0</td>\n",
       "      <td>0</td>\n",
       "      <td>0</td>\n",
       "      <td>0</td>\n",
       "      <td>0</td>\n",
       "      <td>0</td>\n",
       "    </tr>\n",
       "    <tr>\n",
       "      <th>4</th>\n",
       "      <td>14</td>\n",
       "      <td>57</td>\n",
       "      <td>0</td>\n",
       "      <td>1</td>\n",
       "      <td>0</td>\n",
       "      <td>0</td>\n",
       "      <td>0</td>\n",
       "      <td>0</td>\n",
       "      <td>0</td>\n",
       "      <td>0</td>\n",
       "      <td>...</td>\n",
       "      <td>1</td>\n",
       "      <td>0</td>\n",
       "      <td>0</td>\n",
       "      <td>0</td>\n",
       "      <td>0</td>\n",
       "      <td>0</td>\n",
       "      <td>0</td>\n",
       "      <td>0</td>\n",
       "      <td>0</td>\n",
       "      <td>0</td>\n",
       "    </tr>\n",
       "    <tr>\n",
       "      <th>6</th>\n",
       "      <td>23</td>\n",
       "      <td>60</td>\n",
       "      <td>1</td>\n",
       "      <td>0</td>\n",
       "      <td>0</td>\n",
       "      <td>0</td>\n",
       "      <td>0</td>\n",
       "      <td>0</td>\n",
       "      <td>0</td>\n",
       "      <td>0</td>\n",
       "      <td>...</td>\n",
       "      <td>0</td>\n",
       "      <td>0</td>\n",
       "      <td>0</td>\n",
       "      <td>0</td>\n",
       "      <td>0</td>\n",
       "      <td>0</td>\n",
       "      <td>0</td>\n",
       "      <td>0</td>\n",
       "      <td>0</td>\n",
       "      <td>0</td>\n",
       "    </tr>\n",
       "  </tbody>\n",
       "</table>\n",
       "<p>5 rows × 48 columns</p>\n",
       "</div>"
      ],
      "text/plain": [
       "   day  temp  day_of_week_Monday  day_of_week_Saturday  day_of_week_Sunday  \\\n",
       "1   11    58                   0                     0                   0   \n",
       "2   12    57                   0                     0                   0   \n",
       "3   13    54                   0                     0                   0   \n",
       "4   14    57                   0                     1                   0   \n",
       "6   23    60                   1                     0                   0   \n",
       "\n",
       "   day_of_week_Thursday  day_of_week_Tuesday  day_of_week_Wednesday  \\\n",
       "1                     0                    0                      1   \n",
       "2                     1                    0                      0   \n",
       "3                     0                    0                      0   \n",
       "4                     0                    0                      0   \n",
       "6                     0                    0                      0   \n",
       "\n",
       "   month_AUG  month_JUL  ...  day_promo_SaturdayNO  day_promo_SaturdayYES  \\\n",
       "1          0          0  ...                     0                      0   \n",
       "2          0          0  ...                     0                      0   \n",
       "3          0          0  ...                     0                      0   \n",
       "4          0          0  ...                     1                      0   \n",
       "6          0          0  ...                     0                      0   \n",
       "\n",
       "   day_promo_SundayNO  day_promo_SundayYES  day_promo_ThursdayNO  \\\n",
       "1                   0                    0                     0   \n",
       "2                   0                    0                     1   \n",
       "3                   0                    0                     0   \n",
       "4                   0                    0                     0   \n",
       "6                   0                    0                     0   \n",
       "\n",
       "   day_promo_ThursdayYES  day_promo_TuesdayNO  day_promo_TuesdayYES  \\\n",
       "1                      0                    0                     0   \n",
       "2                      0                    0                     0   \n",
       "3                      0                    0                     0   \n",
       "4                      0                    0                     0   \n",
       "6                      0                    0                     0   \n",
       "\n",
       "   day_promo_WednesdayNO  day_promo_WednesdayYES  \n",
       "1                      1                       0  \n",
       "2                      0                       0  \n",
       "3                      0                       0  \n",
       "4                      0                       0  \n",
       "6                      0                       0  \n",
       "\n",
       "[5 rows x 48 columns]"
      ]
     },
     "execution_count": 1446,
     "metadata": {},
     "output_type": "execute_result"
    }
   ],
   "source": [
    "#creating dummies for our categorical variables\n",
    "#this function will create k-1 dummy variables for representation\n",
    "X = pd.get_dummies(data=X, drop_first=True)\n",
    "X.head()"
   ]
  },
  {
   "cell_type": "code",
   "execution_count": 1447,
   "id": "50ed4cfc",
   "metadata": {},
   "outputs": [
    {
     "name": "stderr",
     "output_type": "stream",
     "text": [
      "C:\\Users\\phill\\Anaconda3\\lib\\site-packages\\statsmodels\\stats\\outliers_influence.py:193: RuntimeWarning: divide by zero encountered in double_scalars\n",
      "  vif = 1. / (1. - r_squared_i)\n"
     ]
    },
    {
     "name": "stdout",
     "output_type": "stream",
     "text": [
      "Iteration no  1\n",
      "[6.575135267426644, 12.971195573863799, inf, inf, inf, inf, inf, inf, 26.944617278797217, 18.71197390440583, inf, 18.635311301176845, 10.239888948839722, 22.1364400090354, inf, inf, inf, inf, inf, inf, inf, 5.092696939168191, inf, inf, inf, inf, inf, inf, inf, 2.5919457313108176, 5.403337057771748, inf, inf, inf, inf, inf, inf, inf, inf, inf, inf, inf, inf, inf, inf, inf, inf, inf]\n",
      "Max vif is for variable no :  2\n",
      "Iteration no  2\n",
      "[6.5751352674266395, 12.971195573863799, inf, inf, inf, inf, inf, 26.944617278797217, 18.71197390440583, inf, 18.635311301176806, 10.239888948839722, 22.1364400090354, inf, inf, inf, inf, inf, inf, inf, 5.092696939168188, inf, inf, inf, inf, inf, inf, inf, 2.5919457313108194, 5.403337057771748, inf, inf, inf, inf, inf, inf, inf, inf, inf, inf, inf, inf, inf, inf, inf, inf, inf]\n",
      "Max vif is for variable no :  2\n",
      "Iteration no  3\n",
      "[6.575135267426644, 12.97119557386378, inf, inf, inf, inf, 26.944617278797217, 18.71197390440583, inf, 18.635311301176845, 10.239888948839722, 22.1364400090354, inf, inf, inf, inf, inf, inf, inf, 5.092696939168188, inf, inf, inf, inf, inf, inf, inf, 2.5919457313108185, 5.403337057771748, inf, inf, inf, inf, inf, inf, inf, inf, inf, inf, inf, inf, inf, inf, inf, inf, inf]\n",
      "Max vif is for variable no :  2\n",
      "Iteration no  4\n",
      "[6.5751352674266395, 12.971195573863799, inf, inf, inf, 26.944617278797217, 18.71197390440583, inf, 18.635311301176845, 10.239888948839722, 22.1364400090354, inf, inf, inf, inf, inf, inf, inf, 5.092696939168188, inf, inf, inf, inf, inf, inf, inf, 2.5919457313108194, 5.403337057771748, inf, inf, inf, inf, inf, inf, inf, inf, inf, inf, inf, inf, inf, inf, inf, inf, inf]\n",
      "Max vif is for variable no :  2\n",
      "Iteration no  5\n",
      "[6.575135267426644, 12.971195573863799, inf, inf, 26.944617278797217, 18.71197390440583, inf, 18.635311301176845, 10.239888948839722, 22.1364400090354, inf, inf, inf, inf, inf, inf, inf, 5.092696939168191, inf, inf, inf, inf, inf, inf, inf, 2.5919457313108176, 5.403337057771751, inf, inf, inf, inf, inf, inf, inf, inf, inf, inf, inf, inf, inf, inf, inf, inf, inf]\n",
      "Max vif is for variable no :  2\n",
      "Iteration no  6\n",
      "[6.5751352674266395, 12.971195573863799, inf, 26.944617278797136, 18.71197390440583, inf, 18.635311301176845, 10.239888948839722, 22.1364400090354, inf, inf, inf, inf, inf, inf, inf, 5.092696939168188, inf, inf, inf, inf, inf, inf, inf, 2.5919457313108194, 5.403337057771748, inf, inf, inf, inf, inf, inf, inf, inf, inf, inf, inf, inf, inf, inf, inf, inf, inf]\n",
      "Max vif is for variable no :  2\n",
      "Iteration no  7\n",
      "[6.575135267426644, 12.971195573863799, 26.944617278797217, 18.71197390440583, inf, 18.635311301176845, 10.239888948839722, 22.1364400090354, inf, inf, inf, inf, inf, inf, inf, 5.092696939168191, inf, inf, inf, inf, inf, inf, inf, 2.5919457313108194, 5.403337057771751, inf, inf, inf, inf, inf, inf, inf, inf, inf, inf, inf, inf, inf, inf, inf, inf, 2.3309867204252477]\n",
      "Max vif is for variable no :  4\n",
      "Iteration no  8\n",
      "[6.5751352674266395, 12.97119557386378, 26.944617278797217, 18.71197390440583, 18.635311301176806, 10.239888948839722, 22.1364400090354, 7.317255467727752, 3.5769229582714024, 10.950456636179133, 12.741411383939504, 7.908055637151569, 17.1047079794888, 7.398370951147953, 5.092696939168185, 3.0634498739421177, 11.742924360150086, 6.409402058267507, 2.978091550798693, 10.972349570173302, 14.201424012424186, 13.598688131609036, 2.5919457313108194, 5.403337057771748, inf, inf, inf, inf, inf, 170.0057722753569, inf, 159.06271091020201, inf, 20.806761901045075, inf, 42.89114113820642, inf, 67.8154543026361, inf, 136.34360833076883, 2.330986720425248]\n",
      "Max vif is for variable no :  24\n",
      "Iteration no  9\n",
      "[6.5751352674266395, 12.971195573863799, 26.944617278797217, 18.71197390440583, 18.635311301176845, 10.239888948839722, 22.1364400090354, 7.317255467727752, 3.5769229582714024, 10.950456636179133, 12.741411383939504, 7.908055637151569, 17.1047079794888, 7.398370951147953, 5.092696939168185, 3.0634498739421177, 11.742924360150086, 6.409402058267512, 2.9780915507986947, 10.972349570173302, 14.201424012424186, 13.598688131609036, 2.5919457313108194, 5.403337057771748, 9.659415003799262, inf, 23.11304061414605, inf, 170.0057722753569, inf, 159.06271091020201, inf, 20.806761901045075, inf, 42.89114113820663, inf, 67.8154543026361, inf, 136.34360833076883, 2.3309867204252477]\n",
      "Max vif is for variable no :  25\n",
      "Iteration no  10\n",
      "[6.5751352674266395, 12.97119557386378, 26.944617278797136, 18.71197390440583, 18.635311301176845, 10.239888948839722, 22.1364400090354, 7.317255467727746, 3.5769229582714024, 10.950456636179133, 12.741411383939504, 7.908055637151562, 17.1047079794888, 7.398370951147953, 5.092696939168185, 3.0634498739421177, 11.742924360150086, 6.409402058267507, 2.9780915507986947, 10.972349570173302, 14.201424012424186, 13.598688131609057, 2.5919457313108185, 5.403337057771748, 9.659415003799262, 23.11304061414605, 423.7116574378275, 170.0057722753569, 6.729092566509132, 159.06271091020201, 6.424061591874251, 20.806761901045125, 7.767447747947191, 42.89114113820642, 6.709279105380703, 67.8154543026361, 20.27875211562753, 136.34360833076883, 2.330986720425248]\n",
      "Max vif is for variable no :  26\n",
      "Iteration no  11\n",
      "[20.98021738168207, 79.31604634272672, 18.087616649558754, 11.239562151655045, 21.977088945174653, 7.238058911359995, 10.48348005951284, 6.227196969384772, 3.492249208091021, 11.656419679386747, 13.021705067191885, 5.782132172238672, 17.692498116047226, 5.922522778365233, 4.996527452692075, 3.147341758206516, 8.569307706477325, 4.219132321138154, 2.4264087839459894, 7.648763249848056, 13.57725059541717, 13.204482720318378, 2.6560751553465765, 7.394033545459964, 9.943468459261707, 27.735453065676204, 4.2966374813742565, 6.832595223787802, 2.278769060819775, 6.57831942897441, 1.4000675321786338, 6.384584089781171, 1.945243881180243, 6.840296924181476, 3.000059982198436, 23.063028697316593, 3.805628868140229, 2.3665357216595226]\n",
      "Max vif is for variable no :  1\n",
      "Iteration no  12\n",
      "[17.028608387719252, 17.424487911192976, 11.106736783704601, 21.46328538181802, 6.434563124252048, 9.296300716371668, 6.00307868237647, 3.2985632728729852, 11.520305840573014, 10.892492383670815, 4.6112835627301685, 16.59724071893467, 5.515638931640375, 3.6677936519086054, 2.4596307560853843, 6.016644459563402, 3.9973348756009095, 2.0707864191308865, 6.624992561692604, 11.700491024978879, 12.100297405580749, 1.503204972504499, 7.3940322840999135, 9.892524626200592, 27.677924705811368, 3.0803255657194173, 5.745070276371375, 2.147804621557128, 6.557458185789346, 1.3842081860364914, 6.3129642500565435, 1.8053482731029447, 6.830846866555572, 2.3349828963916077, 22.248436610202738, 2.53311769901922, 2.2727769596835294]\n",
      "Max vif is for variable no :  24\n",
      "Iteration no  13\n",
      "[16.68086654586736, 17.35952304385483, 11.098543480074483, 21.413800893681437, 6.432300596341862, 9.2872167235505, 5.976559696400939, 3.298555742607756, 11.470921533825667, 10.879672486161963, 4.578212081146072, 16.56070626936201, 5.511795536810056, 3.6303804056851887, 2.4517971224329345, 5.937406343054836, 3.9612123366978427, 2.057871922759222, 5.02056168276391, 11.699811375238122, 12.087488124671767, 1.4896674637273983, 6.805264770977775, 4.449261957148181, 2.917399726935214, 3.163314225186616, 2.12888446466155, 2.0775196352686605, 1.383644528575301, 3.345480004365521, 1.8000097082466782, 1.7935678602640714, 2.312198209806021, 2.7922774106395556, 2.4902607361298523, 1.7187763755859529]\n",
      "Max vif is for variable no :  3\n",
      "Iteration no  14\n",
      "[15.54736647737555, 3.7033715824115876, 5.61703532091556, 2.1906085420286057, 2.3615706045437124, 2.003734955365583, 3.2527575253125405, 4.633024710752925, 3.241948940137971, 1.963430587038051, 5.072500428024219, 2.2826258813607296, 3.5743482177044568, 2.4262379937890195, 3.4163478512327443, 2.750216755137295, 2.0458593685695443, 3.5116705525059646, 2.7772053431807464, 3.8926648114341753, 1.4502216788683093, 6.774131135823908, 4.332435779434836, 2.8545681205937985, 3.1363722142629276, 2.0900308310863873, 2.0252611397640963, 1.3548737283667889, 2.9724563703644677, 1.7994006141642749, 1.7605392658509489, 2.2856062576535363, 2.7599116841296887, 2.3918430921055296, 1.7152513497115098]\n",
      "Max vif is for variable no :  0\n"
     ]
    },
    {
     "name": "stdout",
     "output_type": "stream",
     "text": [
      "Iteration no  15\n",
      "[3.492360980969639, 5.013767202887805, 1.847504762579911, 2.3608935039690047, 1.6043166023465132, 2.5593647334664356, 1.7397393515354824, 2.08738860379342, 1.9213454426103367, 3.647194117079607, 1.7453693726315727, 2.1510226074831604, 1.5033204164840526, 3.4143535901062014, 2.592593548697303, 2.011606064437333, 3.39687592147369, 1.9999201661995802, 2.3353637211544367, 1.1042496500636698, 5.820937182310944, 4.255948127653264, 2.744022911763135, 3.1279740638266316, 2.0849930012733986, 2.013281665936212, 1.3478981006322366, 2.1474414268264614, 1.7886790665650298, 1.7360602866217623, 2.252594434091885, 2.6809826368717564, 2.3575995742921383, 1.7122880805773657]\n",
      "Max vif is for variable no :  20\n",
      "Iteration no  16\n",
      "[3.4211152352138847, 4.8691192186212096, 1.7284223725586076, 2.2945531459743242, 1.0959306217371967, 1.688107287586561, 1.6871875792432631, 2.0022763767054697, 1.7450539368193705, 3.633193371980791, 1.7450539368193705, 2.145423947803769, 1.437166234024457, 2.1479335705958604, 2.5671174009652393, 1.55724891446541, 3.3947114112293164, 1.9999101470391747, 2.316035832021084, 1.0959306217371967, 3.0518357615130025, 2.742991117544201, 2.525917880756501, 1.9186124347439344, 1.7486649360978281, 1.3337127294509117, 2.1415016537783336, 1.7694942428160476, 1.7211305274767168, 2.250193778613309, 2.1203530054348887, 2.260056570032327, 1.6906406947837929]\n",
      "Max vif is for variable no :  1\n"
     ]
    },
    {
     "data": {
      "text/html": [
       "<div>\n",
       "<style scoped>\n",
       "    .dataframe tbody tr th:only-of-type {\n",
       "        vertical-align: middle;\n",
       "    }\n",
       "\n",
       "    .dataframe tbody tr th {\n",
       "        vertical-align: top;\n",
       "    }\n",
       "\n",
       "    .dataframe thead th {\n",
       "        text-align: right;\n",
       "    }\n",
       "</style>\n",
       "<table border=\"1\" class=\"dataframe\">\n",
       "  <thead>\n",
       "    <tr style=\"text-align: right;\">\n",
       "      <th></th>\n",
       "      <th>month_AUG</th>\n",
       "      <th>month_JUL</th>\n",
       "      <th>month_OCT</th>\n",
       "      <th>month_SEP</th>\n",
       "      <th>opponent_Astros</th>\n",
       "      <th>opponent_Braves</th>\n",
       "      <th>opponent_Brewers</th>\n",
       "      <th>opponent_Cardinals</th>\n",
       "      <th>opponent_Cubs</th>\n",
       "      <th>opponent_Giants</th>\n",
       "      <th>...</th>\n",
       "      <th>day_promo_SaturdayNO</th>\n",
       "      <th>day_promo_SaturdayYES</th>\n",
       "      <th>day_promo_SundayNO</th>\n",
       "      <th>day_promo_SundayYES</th>\n",
       "      <th>day_promo_ThursdayNO</th>\n",
       "      <th>day_promo_ThursdayYES</th>\n",
       "      <th>day_promo_TuesdayNO</th>\n",
       "      <th>day_promo_TuesdayYES</th>\n",
       "      <th>day_promo_WednesdayNO</th>\n",
       "      <th>day_promo_WednesdayYES</th>\n",
       "    </tr>\n",
       "  </thead>\n",
       "  <tbody>\n",
       "    <tr>\n",
       "      <th>1</th>\n",
       "      <td>0</td>\n",
       "      <td>0</td>\n",
       "      <td>0</td>\n",
       "      <td>0</td>\n",
       "      <td>0</td>\n",
       "      <td>0</td>\n",
       "      <td>0</td>\n",
       "      <td>0</td>\n",
       "      <td>0</td>\n",
       "      <td>0</td>\n",
       "      <td>...</td>\n",
       "      <td>0</td>\n",
       "      <td>0</td>\n",
       "      <td>0</td>\n",
       "      <td>0</td>\n",
       "      <td>0</td>\n",
       "      <td>0</td>\n",
       "      <td>0</td>\n",
       "      <td>0</td>\n",
       "      <td>1</td>\n",
       "      <td>0</td>\n",
       "    </tr>\n",
       "    <tr>\n",
       "      <th>2</th>\n",
       "      <td>0</td>\n",
       "      <td>0</td>\n",
       "      <td>0</td>\n",
       "      <td>0</td>\n",
       "      <td>0</td>\n",
       "      <td>0</td>\n",
       "      <td>0</td>\n",
       "      <td>0</td>\n",
       "      <td>0</td>\n",
       "      <td>0</td>\n",
       "      <td>...</td>\n",
       "      <td>0</td>\n",
       "      <td>0</td>\n",
       "      <td>0</td>\n",
       "      <td>0</td>\n",
       "      <td>1</td>\n",
       "      <td>0</td>\n",
       "      <td>0</td>\n",
       "      <td>0</td>\n",
       "      <td>0</td>\n",
       "      <td>0</td>\n",
       "    </tr>\n",
       "    <tr>\n",
       "      <th>3</th>\n",
       "      <td>0</td>\n",
       "      <td>0</td>\n",
       "      <td>0</td>\n",
       "      <td>0</td>\n",
       "      <td>0</td>\n",
       "      <td>0</td>\n",
       "      <td>0</td>\n",
       "      <td>0</td>\n",
       "      <td>0</td>\n",
       "      <td>0</td>\n",
       "      <td>...</td>\n",
       "      <td>0</td>\n",
       "      <td>0</td>\n",
       "      <td>0</td>\n",
       "      <td>0</td>\n",
       "      <td>0</td>\n",
       "      <td>0</td>\n",
       "      <td>0</td>\n",
       "      <td>0</td>\n",
       "      <td>0</td>\n",
       "      <td>0</td>\n",
       "    </tr>\n",
       "    <tr>\n",
       "      <th>4</th>\n",
       "      <td>0</td>\n",
       "      <td>0</td>\n",
       "      <td>0</td>\n",
       "      <td>0</td>\n",
       "      <td>0</td>\n",
       "      <td>0</td>\n",
       "      <td>0</td>\n",
       "      <td>0</td>\n",
       "      <td>0</td>\n",
       "      <td>0</td>\n",
       "      <td>...</td>\n",
       "      <td>1</td>\n",
       "      <td>0</td>\n",
       "      <td>0</td>\n",
       "      <td>0</td>\n",
       "      <td>0</td>\n",
       "      <td>0</td>\n",
       "      <td>0</td>\n",
       "      <td>0</td>\n",
       "      <td>0</td>\n",
       "      <td>0</td>\n",
       "    </tr>\n",
       "    <tr>\n",
       "      <th>6</th>\n",
       "      <td>0</td>\n",
       "      <td>0</td>\n",
       "      <td>0</td>\n",
       "      <td>0</td>\n",
       "      <td>0</td>\n",
       "      <td>1</td>\n",
       "      <td>0</td>\n",
       "      <td>0</td>\n",
       "      <td>0</td>\n",
       "      <td>0</td>\n",
       "      <td>...</td>\n",
       "      <td>0</td>\n",
       "      <td>0</td>\n",
       "      <td>0</td>\n",
       "      <td>0</td>\n",
       "      <td>0</td>\n",
       "      <td>0</td>\n",
       "      <td>0</td>\n",
       "      <td>0</td>\n",
       "      <td>0</td>\n",
       "      <td>0</td>\n",
       "    </tr>\n",
       "  </tbody>\n",
       "</table>\n",
       "<p>5 rows × 33 columns</p>\n",
       "</div>"
      ],
      "text/plain": [
       "   month_AUG  month_JUL  month_OCT  month_SEP  opponent_Astros  \\\n",
       "1          0          0          0          0                0   \n",
       "2          0          0          0          0                0   \n",
       "3          0          0          0          0                0   \n",
       "4          0          0          0          0                0   \n",
       "6          0          0          0          0                0   \n",
       "\n",
       "   opponent_Braves  opponent_Brewers  opponent_Cardinals  opponent_Cubs  \\\n",
       "1                0                 0                   0              0   \n",
       "2                0                 0                   0              0   \n",
       "3                0                 0                   0              0   \n",
       "4                0                 0                   0              0   \n",
       "6                1                 0                   0              0   \n",
       "\n",
       "   opponent_Giants  ...  day_promo_SaturdayNO  day_promo_SaturdayYES  \\\n",
       "1                0  ...                     0                      0   \n",
       "2                0  ...                     0                      0   \n",
       "3                0  ...                     0                      0   \n",
       "4                0  ...                     1                      0   \n",
       "6                0  ...                     0                      0   \n",
       "\n",
       "   day_promo_SundayNO  day_promo_SundayYES  day_promo_ThursdayNO  \\\n",
       "1                   0                    0                     0   \n",
       "2                   0                    0                     1   \n",
       "3                   0                    0                     0   \n",
       "4                   0                    0                     0   \n",
       "6                   0                    0                     0   \n",
       "\n",
       "   day_promo_ThursdayYES  day_promo_TuesdayNO  day_promo_TuesdayYES  \\\n",
       "1                      0                    0                     0   \n",
       "2                      0                    0                     0   \n",
       "3                      0                    0                     0   \n",
       "4                      0                    0                     0   \n",
       "6                      0                    0                     0   \n",
       "\n",
       "   day_promo_WednesdayNO  day_promo_WednesdayYES  \n",
       "1                      1                       0  \n",
       "2                      0                       0  \n",
       "3                      0                       0  \n",
       "4                      0                       0  \n",
       "6                      0                       0  \n",
       "\n",
       "[5 rows x 33 columns]"
      ]
     },
     "execution_count": 1447,
     "metadata": {},
     "output_type": "execute_result"
    }
   ],
   "source": [
    "#using VIF function to remove features with high collinearity\n",
    "selected_features2 = cal_vif(X)\n",
    "selected_features2.head()"
   ]
  },
  {
   "cell_type": "code",
   "execution_count": 1448,
   "id": "1ee9be4b",
   "metadata": {},
   "outputs": [
    {
     "name": "stdout",
     "output_type": "stream",
     "text": [
      "(39, 33)\n",
      "(27, 33)\n",
      "(39, 1)\n",
      "(27, 1)\n"
     ]
    }
   ],
   "source": [
    "#splitting data into training and test sets\n",
    "#60/40 proportion\n",
    "X_train2, X_test2, y_train2, y_test2 = train_test_split(selected_features2, Y, test_size=0.4, random_state=101)\n",
    "print(X_train2.shape)\n",
    "print(X_test2.shape)\n",
    "print(y_train2.shape)\n",
    "print(y_test2.shape)"
   ]
  },
  {
   "cell_type": "code",
   "execution_count": 1449,
   "id": "afe95ab7",
   "metadata": {},
   "outputs": [
    {
     "data": {
      "text/plain": [
       "LinearRegression()"
      ]
     },
     "execution_count": 1449,
     "metadata": {},
     "output_type": "execute_result"
    }
   ],
   "source": [
    "#fitting a Linear Regression model to our training set\n",
    "model2 = LinearRegression()\n",
    "model2.fit(X_train2,y_train2)"
   ]
  },
  {
   "cell_type": "code",
   "execution_count": 1450,
   "id": "eebf027b",
   "metadata": {},
   "outputs": [
    {
     "name": "stdout",
     "output_type": "stream",
     "text": [
      "[35755.30204866]\n"
     ]
    }
   ],
   "source": [
    "# print the intercept\n",
    "print(model2.intercept_)"
   ]
  },
  {
   "cell_type": "code",
   "execution_count": 1451,
   "id": "3777419d",
   "metadata": {},
   "outputs": [
    {
     "data": {
      "text/plain": [
       "array([[ 3.60971004e+03,  3.45306208e+03,  5.21650420e+01,\n",
       "         2.12307164e+03,  1.87883624e+02, -2.42515069e+02,\n",
       "        -1.00993651e+04,  2.95081198e+03,  4.17198791e+03,\n",
       "         1.15703654e+03, -3.86407461e+01,  1.40076980e+04,\n",
       "         9.05169795e+03,  6.21227690e+03, -3.03599991e+03,\n",
       "        -5.87936510e+03, -2.14410145e+04, -1.29586881e+03,\n",
       "        -2.29350722e+03,  6.58688362e+03,  1.13686838e-12,\n",
       "        -3.93436422e+03, -1.81898940e-12,  9.57628655e+02,\n",
       "         9.43500000e+03, -1.81898940e-12, -4.54747351e-13,\n",
       "         1.11706306e+03,  1.75494951e+04,  3.29879026e+03,\n",
       "         1.61166504e+04, -1.46936945e+02,  0.00000000e+00]])"
      ]
     },
     "execution_count": 1451,
     "metadata": {},
     "output_type": "execute_result"
    }
   ],
   "source": [
    "#print the regression coefficients for our equation\n",
    "model2.coef_"
   ]
  },
  {
   "cell_type": "code",
   "execution_count": 1452,
   "id": "b4fbddff",
   "metadata": {},
   "outputs": [
    {
     "data": {
      "text/plain": [
       "Index(['month_AUG', 'month_JUL', 'month_OCT', 'month_SEP', 'opponent_Astros',\n",
       "       'opponent_Braves', 'opponent_Brewers', 'opponent_Cardinals',\n",
       "       'opponent_Cubs', 'opponent_Giants', 'opponent_Marlins', 'opponent_Mets',\n",
       "       'opponent_Nationals', 'opponent_Padres', 'opponent_Phillies',\n",
       "       'opponent_Pirates', 'opponent_Reds', 'opponent_Rockies',\n",
       "       'opponent_Snakes', 'opponent_White Sox', 'shirt_YES',\n",
       "       'day_promo_MondayNO', 'day_promo_MondayYES', 'day_promo_SaturdayNO',\n",
       "       'day_promo_SaturdayYES', 'day_promo_SundayNO', 'day_promo_SundayYES',\n",
       "       'day_promo_ThursdayNO', 'day_promo_ThursdayYES', 'day_promo_TuesdayNO',\n",
       "       'day_promo_TuesdayYES', 'day_promo_WednesdayNO',\n",
       "       'day_promo_WednesdayYES'],\n",
       "      dtype='object')"
      ]
     },
     "execution_count": 1452,
     "metadata": {},
     "output_type": "execute_result"
    }
   ],
   "source": [
    "#column names to show the features that were kept for the linear regression model\n",
    "selected_features2.columns"
   ]
  },
  {
   "cell_type": "code",
   "execution_count": 1453,
   "id": "f503a214",
   "metadata": {},
   "outputs": [],
   "source": [
    "#make predictions from the test set and our model\n",
    "predictions = model2.predict(X_test2)"
   ]
  },
  {
   "cell_type": "code",
   "execution_count": 1454,
   "id": "80eb5cbb",
   "metadata": {
    "scrolled": true
   },
   "outputs": [
    {
     "name": "stderr",
     "output_type": "stream",
     "text": [
      "C:\\Users\\phill\\Anaconda3\\lib\\site-packages\\seaborn\\_decorators.py:36: FutureWarning: Pass the following variables as keyword args: x, y. From version 0.12, the only valid positional argument will be `data`, and passing other arguments without an explicit keyword will result in an error or misinterpretation.\n",
      "  warnings.warn(\n"
     ]
    },
    {
     "data": {
      "text/plain": [
       "<AxesSubplot:xlabel='attend'>"
      ]
     },
     "execution_count": 1454,
     "metadata": {},
     "output_type": "execute_result"
    },
    {
     "data": {
      "image/png": "[encoded data removed]",
      "text/plain": [
       "<Figure size 432x288 with 1 Axes>"
      ]
     },
     "metadata": {
      "needs_background": "light"
     },
     "output_type": "display_data"
    }
   ],
   "source": [
    "#visualize the plot of actual vs. predicted \n",
    "sns.regplot(y_test2,predictions)"
   ]
  },
  {
   "cell_type": "markdown",
   "id": "8bce631d",
   "metadata": {},
   "source": [
    "This plot visualizes the fit of our linear regression model, also with a 95% confidence interval band. There are many data points which do not fall along the regression model, which could show that there is another model which would better fit our data. However, it does look like there is a general linear trend. "
   ]
  },
  {
   "cell_type": "code",
   "execution_count": 1455,
   "id": "05fcdca7",
   "metadata": {},
   "outputs": [
    {
     "name": "stdout",
     "output_type": "stream",
     "text": [
      "                            OLS Regression Results                            \n",
      "==============================================================================\n",
      "Dep. Variable:                 attend   R-squared:                       0.862\n",
      "Model:                            OLS   Adj. R-squared:                  0.524\n",
      "Method:                 Least Squares   F-statistic:                     2.549\n",
      "Date:                Sat, 18 Dec 2021   Prob (F-statistic):             0.0526\n",
      "Time:                        19:23:01   Log-Likelihood:                -367.42\n",
      "No. Observations:                  39   AIC:                             790.8\n",
      "Df Residuals:                      11   BIC:                             837.4\n",
      "Df Model:                          27                                         \n",
      "Covariance Type:            nonrobust                                         \n",
      "==========================================================================================\n",
      "                             coef    std err          t      P>|t|      [0.025      0.975]\n",
      "------------------------------------------------------------------------------------------\n",
      "const                   3.365e+04   3086.770     10.902      0.000    2.69e+04    4.04e+04\n",
      "month_AUG               3609.7100   4632.813      0.779      0.452   -6587.043    1.38e+04\n",
      "month_JUL               3453.0621   1.08e+04      0.320      0.755   -2.03e+04    2.72e+04\n",
      "month_OCT                 52.1650   4521.874      0.012      0.991   -9900.413       1e+04\n",
      "month_SEP               2123.0716   5558.363      0.382      0.710   -1.01e+04    1.44e+04\n",
      "opponent_Astros         2291.1367   4727.089      0.485      0.637   -8113.117    1.27e+04\n",
      "opponent_Braves         1860.7380   6964.911      0.267      0.794   -1.35e+04    1.72e+04\n",
      "opponent_Brewers       -7996.1120   7851.580     -1.018      0.330   -2.53e+04    9285.099\n",
      "opponent_Cardinals      5054.0650   5780.424      0.874      0.401   -7668.562    1.78e+04\n",
      "opponent_Cubs           6275.2410   7172.613      0.875      0.400   -9511.574    2.21e+04\n",
      "opponent_Giants         3260.2896   4812.422      0.677      0.512   -7331.780    1.39e+04\n",
      "opponent_Marlins        2064.6123   7898.698      0.261      0.799   -1.53e+04    1.94e+04\n",
      "opponent_Mets           1.611e+04   6119.594      2.633      0.023    2641.815    2.96e+04\n",
      "opponent_Nationals      1.115e+04   6119.594      1.823      0.096   -2314.185    2.46e+04\n",
      "opponent_Padres         8315.5300   7960.805      1.045      0.319   -9206.084    2.58e+04\n",
      "opponent_Phillies       -932.7468   8403.034     -0.111      0.914   -1.94e+04    1.76e+04\n",
      "opponent_Pirates       -3776.1120   7851.580     -0.481      0.640   -2.11e+04    1.35e+04\n",
      "opponent_Reds          -1.934e+04   8294.399     -2.331      0.040   -3.76e+04   -1081.913\n",
      "opponent_Rockies         807.3842   2833.484      0.285      0.781   -5429.071    7043.840\n",
      "opponent_Snakes         -190.2542   4914.898     -0.039      0.970    -1.1e+04    1.06e+04\n",
      "opponent_White Sox      8690.1367   4727.089      1.838      0.093   -1714.117    1.91e+04\n",
      "shirt_YES              -2.622e-13   3.29e-12     -0.080      0.938   -7.51e-12    6.99e-12\n",
      "day_promo_MondayNO     -3934.3642   7192.249     -0.547      0.595   -1.98e+04    1.19e+04\n",
      "day_promo_MondayYES    -1.747e-12   1.28e-12     -1.362      0.201   -4.57e-12    1.08e-12\n",
      "day_promo_SaturdayNO     957.6287   3540.883      0.270      0.792   -6835.802    8751.060\n",
      "day_promo_SaturdayYES   9435.0000   7955.390      1.186      0.261   -8074.696    2.69e+04\n",
      "day_promo_SundayNO      6.122e-13   8.09e-13      0.757      0.465   -1.17e-12    2.39e-12\n",
      "day_promo_SundayYES    -2.044e-12   1.14e-12     -1.790      0.101   -4.56e-12    4.69e-13\n",
      "day_promo_ThursdayNO    1117.0631   1.04e+04      0.107      0.917   -2.19e+04    2.41e+04\n",
      "day_promo_ThursdayYES   1.755e+04   7579.555      2.315      0.041     867.008    3.42e+04\n",
      "day_promo_TuesdayNO     3298.7903   7438.975      0.443      0.666   -1.31e+04    1.97e+04\n",
      "day_promo_TuesdayYES    1.612e+04   7360.455      2.190      0.051     -83.603    3.23e+04\n",
      "day_promo_WednesdayNO   -146.9369   6770.787     -0.022      0.983    -1.5e+04    1.48e+04\n",
      "day_promo_WednesdayYES          0          0        nan        nan           0           0\n",
      "==============================================================================\n",
      "Omnibus:                       14.383   Durbin-Watson:                   2.334\n",
      "Prob(Omnibus):                  0.001   Jarque-Bera (JB):               29.925\n",
      "Skew:                           0.764   Prob(JB):                     3.18e-07\n",
      "Kurtosis:                       7.010   Cond. No.                     2.30e+16\n",
      "==============================================================================\n",
      "\n",
      "Notes:\n",
      "[1] Standard Errors assume that the covariance matrix of the errors is correctly specified.\n",
      "[2] The smallest eigenvalue is 9.78e-32. This might indicate that there are\n",
      "strong multicollinearity problems or that the design matrix is singular.\n"
     ]
    }
   ],
   "source": [
    "import statsmodels.api as sm\n",
    "\n",
    "#getting summary statistics for our linear regression model\n",
    "X_train_Sm= sm.add_constant(X_train2)\n",
    "X_train_Sm= sm.add_constant(X_train2)\n",
    "ls=sm.OLS(y_train2,X_train_Sm).fit()\n",
    "print(ls.summary())"
   ]
  },
  {
   "cell_type": "markdown",
   "id": "8c889a60",
   "metadata": {},
   "source": [
    "Friday 'day_promo' variables were removed from the features for the model. Therefore, how can we account for this day's effect on the attendance when there is or is not a promotion offered at the baseball game?"
   ]
  },
  {
   "cell_type": "code",
   "execution_count": 1456,
   "id": "e20eee03",
   "metadata": {},
   "outputs": [],
   "source": [
    "#reading OLS summary from HTML to a DataFrame\n",
    "summ_df = pd.read_html(ls.summary().tables[1].as_html(),header=0,index_col=0)[0]"
   ]
  },
  {
   "cell_type": "code",
   "execution_count": 1457,
   "id": "62bdd434",
   "metadata": {},
   "outputs": [
    {
     "data": {
      "text/html": [
       "<div>\n",
       "<style scoped>\n",
       "    .dataframe tbody tr th:only-of-type {\n",
       "        vertical-align: middle;\n",
       "    }\n",
       "\n",
       "    .dataframe tbody tr th {\n",
       "        vertical-align: top;\n",
       "    }\n",
       "\n",
       "    .dataframe thead th {\n",
       "        text-align: right;\n",
       "    }\n",
       "</style>\n",
       "<table border=\"1\" class=\"dataframe\">\n",
       "  <thead>\n",
       "    <tr style=\"text-align: right;\">\n",
       "      <th></th>\n",
       "      <th>coef</th>\n",
       "      <th>std err</th>\n",
       "      <th>t</th>\n",
       "      <th>P&gt;|t|</th>\n",
       "      <th>[0.025</th>\n",
       "      <th>0.975]</th>\n",
       "    </tr>\n",
       "  </thead>\n",
       "  <tbody>\n",
       "    <tr>\n",
       "      <th>const</th>\n",
       "      <td>3.365000e+04</td>\n",
       "      <td>3.086770e+03</td>\n",
       "      <td>10.902</td>\n",
       "      <td>0.000</td>\n",
       "      <td>2.690000e+04</td>\n",
       "      <td>4.040000e+04</td>\n",
       "    </tr>\n",
       "    <tr>\n",
       "      <th>month_AUG</th>\n",
       "      <td>3.609710e+03</td>\n",
       "      <td>4.632813e+03</td>\n",
       "      <td>0.779</td>\n",
       "      <td>0.452</td>\n",
       "      <td>-6.587043e+03</td>\n",
       "      <td>1.380000e+04</td>\n",
       "    </tr>\n",
       "    <tr>\n",
       "      <th>month_JUL</th>\n",
       "      <td>3.453062e+03</td>\n",
       "      <td>1.080000e+04</td>\n",
       "      <td>0.320</td>\n",
       "      <td>0.755</td>\n",
       "      <td>-2.030000e+04</td>\n",
       "      <td>2.720000e+04</td>\n",
       "    </tr>\n",
       "    <tr>\n",
       "      <th>month_OCT</th>\n",
       "      <td>5.216500e+01</td>\n",
       "      <td>4.521874e+03</td>\n",
       "      <td>0.012</td>\n",
       "      <td>0.991</td>\n",
       "      <td>-9.900413e+03</td>\n",
       "      <td>1.000000e+04</td>\n",
       "    </tr>\n",
       "    <tr>\n",
       "      <th>month_SEP</th>\n",
       "      <td>2.123072e+03</td>\n",
       "      <td>5.558363e+03</td>\n",
       "      <td>0.382</td>\n",
       "      <td>0.710</td>\n",
       "      <td>-1.010000e+04</td>\n",
       "      <td>1.440000e+04</td>\n",
       "    </tr>\n",
       "    <tr>\n",
       "      <th>opponent_Astros</th>\n",
       "      <td>2.291137e+03</td>\n",
       "      <td>4.727089e+03</td>\n",
       "      <td>0.485</td>\n",
       "      <td>0.637</td>\n",
       "      <td>-8.113117e+03</td>\n",
       "      <td>1.270000e+04</td>\n",
       "    </tr>\n",
       "    <tr>\n",
       "      <th>opponent_Braves</th>\n",
       "      <td>1.860738e+03</td>\n",
       "      <td>6.964911e+03</td>\n",
       "      <td>0.267</td>\n",
       "      <td>0.794</td>\n",
       "      <td>-1.350000e+04</td>\n",
       "      <td>1.720000e+04</td>\n",
       "    </tr>\n",
       "    <tr>\n",
       "      <th>opponent_Brewers</th>\n",
       "      <td>-7.996112e+03</td>\n",
       "      <td>7.851580e+03</td>\n",
       "      <td>-1.018</td>\n",
       "      <td>0.330</td>\n",
       "      <td>-2.530000e+04</td>\n",
       "      <td>9.285099e+03</td>\n",
       "    </tr>\n",
       "    <tr>\n",
       "      <th>opponent_Cardinals</th>\n",
       "      <td>5.054065e+03</td>\n",
       "      <td>5.780424e+03</td>\n",
       "      <td>0.874</td>\n",
       "      <td>0.401</td>\n",
       "      <td>-7.668562e+03</td>\n",
       "      <td>1.780000e+04</td>\n",
       "    </tr>\n",
       "    <tr>\n",
       "      <th>opponent_Cubs</th>\n",
       "      <td>6.275241e+03</td>\n",
       "      <td>7.172613e+03</td>\n",
       "      <td>0.875</td>\n",
       "      <td>0.400</td>\n",
       "      <td>-9.511574e+03</td>\n",
       "      <td>2.210000e+04</td>\n",
       "    </tr>\n",
       "    <tr>\n",
       "      <th>opponent_Giants</th>\n",
       "      <td>3.260290e+03</td>\n",
       "      <td>4.812422e+03</td>\n",
       "      <td>0.677</td>\n",
       "      <td>0.512</td>\n",
       "      <td>-7.331780e+03</td>\n",
       "      <td>1.390000e+04</td>\n",
       "    </tr>\n",
       "    <tr>\n",
       "      <th>opponent_Marlins</th>\n",
       "      <td>2.064612e+03</td>\n",
       "      <td>7.898698e+03</td>\n",
       "      <td>0.261</td>\n",
       "      <td>0.799</td>\n",
       "      <td>-1.530000e+04</td>\n",
       "      <td>1.940000e+04</td>\n",
       "    </tr>\n",
       "    <tr>\n",
       "      <th>opponent_Mets</th>\n",
       "      <td>1.611000e+04</td>\n",
       "      <td>6.119594e+03</td>\n",
       "      <td>2.633</td>\n",
       "      <td>0.023</td>\n",
       "      <td>2.641815e+03</td>\n",
       "      <td>2.960000e+04</td>\n",
       "    </tr>\n",
       "    <tr>\n",
       "      <th>opponent_Nationals</th>\n",
       "      <td>1.115000e+04</td>\n",
       "      <td>6.119594e+03</td>\n",
       "      <td>1.823</td>\n",
       "      <td>0.096</td>\n",
       "      <td>-2.314185e+03</td>\n",
       "      <td>2.460000e+04</td>\n",
       "    </tr>\n",
       "    <tr>\n",
       "      <th>opponent_Padres</th>\n",
       "      <td>8.315530e+03</td>\n",
       "      <td>7.960805e+03</td>\n",
       "      <td>1.045</td>\n",
       "      <td>0.319</td>\n",
       "      <td>-9.206084e+03</td>\n",
       "      <td>2.580000e+04</td>\n",
       "    </tr>\n",
       "    <tr>\n",
       "      <th>opponent_Phillies</th>\n",
       "      <td>-9.327468e+02</td>\n",
       "      <td>8.403034e+03</td>\n",
       "      <td>-0.111</td>\n",
       "      <td>0.914</td>\n",
       "      <td>-1.940000e+04</td>\n",
       "      <td>1.760000e+04</td>\n",
       "    </tr>\n",
       "    <tr>\n",
       "      <th>opponent_Pirates</th>\n",
       "      <td>-3.776112e+03</td>\n",
       "      <td>7.851580e+03</td>\n",
       "      <td>-0.481</td>\n",
       "      <td>0.640</td>\n",
       "      <td>-2.110000e+04</td>\n",
       "      <td>1.350000e+04</td>\n",
       "    </tr>\n",
       "    <tr>\n",
       "      <th>opponent_Reds</th>\n",
       "      <td>-1.934000e+04</td>\n",
       "      <td>8.294399e+03</td>\n",
       "      <td>-2.331</td>\n",
       "      <td>0.040</td>\n",
       "      <td>-3.760000e+04</td>\n",
       "      <td>-1.081913e+03</td>\n",
       "    </tr>\n",
       "    <tr>\n",
       "      <th>opponent_Rockies</th>\n",
       "      <td>8.073842e+02</td>\n",
       "      <td>2.833484e+03</td>\n",
       "      <td>0.285</td>\n",
       "      <td>0.781</td>\n",
       "      <td>-5.429071e+03</td>\n",
       "      <td>7.043840e+03</td>\n",
       "    </tr>\n",
       "    <tr>\n",
       "      <th>opponent_Snakes</th>\n",
       "      <td>-1.902542e+02</td>\n",
       "      <td>4.914898e+03</td>\n",
       "      <td>-0.039</td>\n",
       "      <td>0.970</td>\n",
       "      <td>-1.100000e+04</td>\n",
       "      <td>1.060000e+04</td>\n",
       "    </tr>\n",
       "    <tr>\n",
       "      <th>opponent_White Sox</th>\n",
       "      <td>8.690137e+03</td>\n",
       "      <td>4.727089e+03</td>\n",
       "      <td>1.838</td>\n",
       "      <td>0.093</td>\n",
       "      <td>-1.714117e+03</td>\n",
       "      <td>1.910000e+04</td>\n",
       "    </tr>\n",
       "    <tr>\n",
       "      <th>shirt_YES</th>\n",
       "      <td>-2.622000e-13</td>\n",
       "      <td>3.290000e-12</td>\n",
       "      <td>-0.080</td>\n",
       "      <td>0.938</td>\n",
       "      <td>-7.510000e-12</td>\n",
       "      <td>6.990000e-12</td>\n",
       "    </tr>\n",
       "    <tr>\n",
       "      <th>day_promo_MondayNO</th>\n",
       "      <td>-3.934364e+03</td>\n",
       "      <td>7.192249e+03</td>\n",
       "      <td>-0.547</td>\n",
       "      <td>0.595</td>\n",
       "      <td>-1.980000e+04</td>\n",
       "      <td>1.190000e+04</td>\n",
       "    </tr>\n",
       "    <tr>\n",
       "      <th>day_promo_MondayYES</th>\n",
       "      <td>-1.747000e-12</td>\n",
       "      <td>1.280000e-12</td>\n",
       "      <td>-1.362</td>\n",
       "      <td>0.201</td>\n",
       "      <td>-4.570000e-12</td>\n",
       "      <td>1.080000e-12</td>\n",
       "    </tr>\n",
       "    <tr>\n",
       "      <th>day_promo_SaturdayNO</th>\n",
       "      <td>9.576287e+02</td>\n",
       "      <td>3.540883e+03</td>\n",
       "      <td>0.270</td>\n",
       "      <td>0.792</td>\n",
       "      <td>-6.835802e+03</td>\n",
       "      <td>8.751060e+03</td>\n",
       "    </tr>\n",
       "    <tr>\n",
       "      <th>day_promo_SaturdayYES</th>\n",
       "      <td>9.435000e+03</td>\n",
       "      <td>7.955390e+03</td>\n",
       "      <td>1.186</td>\n",
       "      <td>0.261</td>\n",
       "      <td>-8.074696e+03</td>\n",
       "      <td>2.690000e+04</td>\n",
       "    </tr>\n",
       "    <tr>\n",
       "      <th>day_promo_SundayNO</th>\n",
       "      <td>6.122000e-13</td>\n",
       "      <td>8.090000e-13</td>\n",
       "      <td>0.757</td>\n",
       "      <td>0.465</td>\n",
       "      <td>-1.170000e-12</td>\n",
       "      <td>2.390000e-12</td>\n",
       "    </tr>\n",
       "    <tr>\n",
       "      <th>day_promo_SundayYES</th>\n",
       "      <td>-2.044000e-12</td>\n",
       "      <td>1.140000e-12</td>\n",
       "      <td>-1.790</td>\n",
       "      <td>0.101</td>\n",
       "      <td>-4.560000e-12</td>\n",
       "      <td>4.690000e-13</td>\n",
       "    </tr>\n",
       "    <tr>\n",
       "      <th>day_promo_ThursdayNO</th>\n",
       "      <td>1.117063e+03</td>\n",
       "      <td>1.040000e+04</td>\n",
       "      <td>0.107</td>\n",
       "      <td>0.917</td>\n",
       "      <td>-2.190000e+04</td>\n",
       "      <td>2.410000e+04</td>\n",
       "    </tr>\n",
       "    <tr>\n",
       "      <th>day_promo_ThursdayYES</th>\n",
       "      <td>1.755000e+04</td>\n",
       "      <td>7.579555e+03</td>\n",
       "      <td>2.315</td>\n",
       "      <td>0.041</td>\n",
       "      <td>8.670080e+02</td>\n",
       "      <td>3.420000e+04</td>\n",
       "    </tr>\n",
       "    <tr>\n",
       "      <th>day_promo_TuesdayNO</th>\n",
       "      <td>3.298790e+03</td>\n",
       "      <td>7.438975e+03</td>\n",
       "      <td>0.443</td>\n",
       "      <td>0.666</td>\n",
       "      <td>-1.310000e+04</td>\n",
       "      <td>1.970000e+04</td>\n",
       "    </tr>\n",
       "    <tr>\n",
       "      <th>day_promo_TuesdayYES</th>\n",
       "      <td>1.612000e+04</td>\n",
       "      <td>7.360455e+03</td>\n",
       "      <td>2.190</td>\n",
       "      <td>0.051</td>\n",
       "      <td>-8.360300e+01</td>\n",
       "      <td>3.230000e+04</td>\n",
       "    </tr>\n",
       "    <tr>\n",
       "      <th>day_promo_WednesdayNO</th>\n",
       "      <td>-1.469369e+02</td>\n",
       "      <td>6.770787e+03</td>\n",
       "      <td>-0.022</td>\n",
       "      <td>0.983</td>\n",
       "      <td>-1.500000e+04</td>\n",
       "      <td>1.480000e+04</td>\n",
       "    </tr>\n",
       "    <tr>\n",
       "      <th>day_promo_WednesdayYES</th>\n",
       "      <td>0.000000e+00</td>\n",
       "      <td>0.000000e+00</td>\n",
       "      <td>NaN</td>\n",
       "      <td>NaN</td>\n",
       "      <td>0.000000e+00</td>\n",
       "      <td>0.000000e+00</td>\n",
       "    </tr>\n",
       "  </tbody>\n",
       "</table>\n",
       "</div>"
      ],
      "text/plain": [
       "                                coef       std err       t  P>|t|  \\\n",
       "const                   3.365000e+04  3.086770e+03  10.902  0.000   \n",
       "month_AUG               3.609710e+03  4.632813e+03   0.779  0.452   \n",
       "month_JUL               3.453062e+03  1.080000e+04   0.320  0.755   \n",
       "month_OCT               5.216500e+01  4.521874e+03   0.012  0.991   \n",
       "month_SEP               2.123072e+03  5.558363e+03   0.382  0.710   \n",
       "opponent_Astros         2.291137e+03  4.727089e+03   0.485  0.637   \n",
       "opponent_Braves         1.860738e+03  6.964911e+03   0.267  0.794   \n",
       "opponent_Brewers       -7.996112e+03  7.851580e+03  -1.018  0.330   \n",
       "opponent_Cardinals      5.054065e+03  5.780424e+03   0.874  0.401   \n",
       "opponent_Cubs           6.275241e+03  7.172613e+03   0.875  0.400   \n",
       "opponent_Giants         3.260290e+03  4.812422e+03   0.677  0.512   \n",
       "opponent_Marlins        2.064612e+03  7.898698e+03   0.261  0.799   \n",
       "opponent_Mets           1.611000e+04  6.119594e+03   2.633  0.023   \n",
       "opponent_Nationals      1.115000e+04  6.119594e+03   1.823  0.096   \n",
       "opponent_Padres         8.315530e+03  7.960805e+03   1.045  0.319   \n",
       "opponent_Phillies      -9.327468e+02  8.403034e+03  -0.111  0.914   \n",
       "opponent_Pirates       -3.776112e+03  7.851580e+03  -0.481  0.640   \n",
       "opponent_Reds          -1.934000e+04  8.294399e+03  -2.331  0.040   \n",
       "opponent_Rockies        8.073842e+02  2.833484e+03   0.285  0.781   \n",
       "opponent_Snakes        -1.902542e+02  4.914898e+03  -0.039  0.970   \n",
       "opponent_White Sox      8.690137e+03  4.727089e+03   1.838  0.093   \n",
       "shirt_YES              -2.622000e-13  3.290000e-12  -0.080  0.938   \n",
       "day_promo_MondayNO     -3.934364e+03  7.192249e+03  -0.547  0.595   \n",
       "day_promo_MondayYES    -1.747000e-12  1.280000e-12  -1.362  0.201   \n",
       "day_promo_SaturdayNO    9.576287e+02  3.540883e+03   0.270  0.792   \n",
       "day_promo_SaturdayYES   9.435000e+03  7.955390e+03   1.186  0.261   \n",
       "day_promo_SundayNO      6.122000e-13  8.090000e-13   0.757  0.465   \n",
       "day_promo_SundayYES    -2.044000e-12  1.140000e-12  -1.790  0.101   \n",
       "day_promo_ThursdayNO    1.117063e+03  1.040000e+04   0.107  0.917   \n",
       "day_promo_ThursdayYES   1.755000e+04  7.579555e+03   2.315  0.041   \n",
       "day_promo_TuesdayNO     3.298790e+03  7.438975e+03   0.443  0.666   \n",
       "day_promo_TuesdayYES    1.612000e+04  7.360455e+03   2.190  0.051   \n",
       "day_promo_WednesdayNO  -1.469369e+02  6.770787e+03  -0.022  0.983   \n",
       "day_promo_WednesdayYES  0.000000e+00  0.000000e+00     NaN    NaN   \n",
       "\n",
       "                              [0.025        0.975]  \n",
       "const                   2.690000e+04  4.040000e+04  \n",
       "month_AUG              -6.587043e+03  1.380000e+04  \n",
       "month_JUL              -2.030000e+04  2.720000e+04  \n",
       "month_OCT              -9.900413e+03  1.000000e+04  \n",
       "month_SEP              -1.010000e+04  1.440000e+04  \n",
       "opponent_Astros        -8.113117e+03  1.270000e+04  \n",
       "opponent_Braves        -1.350000e+04  1.720000e+04  \n",
       "opponent_Brewers       -2.530000e+04  9.285099e+03  \n",
       "opponent_Cardinals     -7.668562e+03  1.780000e+04  \n",
       "opponent_Cubs          -9.511574e+03  2.210000e+04  \n",
       "opponent_Giants        -7.331780e+03  1.390000e+04  \n",
       "opponent_Marlins       -1.530000e+04  1.940000e+04  \n",
       "opponent_Mets           2.641815e+03  2.960000e+04  \n",
       "opponent_Nationals     -2.314185e+03  2.460000e+04  \n",
       "opponent_Padres        -9.206084e+03  2.580000e+04  \n",
       "opponent_Phillies      -1.940000e+04  1.760000e+04  \n",
       "opponent_Pirates       -2.110000e+04  1.350000e+04  \n",
       "opponent_Reds          -3.760000e+04 -1.081913e+03  \n",
       "opponent_Rockies       -5.429071e+03  7.043840e+03  \n",
       "opponent_Snakes        -1.100000e+04  1.060000e+04  \n",
       "opponent_White Sox     -1.714117e+03  1.910000e+04  \n",
       "shirt_YES              -7.510000e-12  6.990000e-12  \n",
       "day_promo_MondayNO     -1.980000e+04  1.190000e+04  \n",
       "day_promo_MondayYES    -4.570000e-12  1.080000e-12  \n",
       "day_promo_SaturdayNO   -6.835802e+03  8.751060e+03  \n",
       "day_promo_SaturdayYES  -8.074696e+03  2.690000e+04  \n",
       "day_promo_SundayNO     -1.170000e-12  2.390000e-12  \n",
       "day_promo_SundayYES    -4.560000e-12  4.690000e-13  \n",
       "day_promo_ThursdayNO   -2.190000e+04  2.410000e+04  \n",
       "day_promo_ThursdayYES   8.670080e+02  3.420000e+04  \n",
       "day_promo_TuesdayNO    -1.310000e+04  1.970000e+04  \n",
       "day_promo_TuesdayYES   -8.360300e+01  3.230000e+04  \n",
       "day_promo_WednesdayNO  -1.500000e+04  1.480000e+04  \n",
       "day_promo_WednesdayYES  0.000000e+00  0.000000e+00  "
      ]
     },
     "execution_count": 1457,
     "metadata": {},
     "output_type": "execute_result"
    }
   ],
   "source": [
    "summ_df"
   ]
  },
  {
   "cell_type": "code",
   "execution_count": 1458,
   "id": "e9344130",
   "metadata": {},
   "outputs": [
    {
     "name": "stdout",
     "output_type": "stream",
     "text": [
      "Monday: 3934.364199999998\n"
     ]
    }
   ],
   "source": [
    "#finding difference between coefficients for each day of the week, isolating promotion effect'\n",
    "\n",
    "#MONDAY\n",
    "mon_no = summ_df['coef'].values[22] #MondayNO\n",
    "mon_yes = summ_df['coef'].values[23]\n",
    "print(\"Monday: \" + str(mon_yes-mon_no))"
   ]
  },
  {
   "cell_type": "code",
   "execution_count": 1459,
   "id": "7361e8fd",
   "metadata": {},
   "outputs": [
    {
     "name": "stdout",
     "output_type": "stream",
     "text": [
      "Saturday: 8477.3713\n"
     ]
    }
   ],
   "source": [
    "#SATURDAY\n",
    "sat_no = summ_df['coef'].values[24] #SaturdayNO\n",
    "sat_yes = summ_df['coef'].values[25]\n",
    "print(\"Saturday: \" + str(sat_yes-sat_no))"
   ]
  },
  {
   "cell_type": "code",
   "execution_count": 1460,
   "id": "1414f74e",
   "metadata": {},
   "outputs": [
    {
     "name": "stdout",
     "output_type": "stream",
     "text": [
      "Sunday: -2.6562e-12\n"
     ]
    }
   ],
   "source": [
    "#SUNDAY\n",
    "sun_no = summ_df['coef'].values[26] #SundayNO\n",
    "sun_yes = summ_df['coef'].values[27]\n",
    "print(\"Sunday: \" + str(sun_yes-sun_no))"
   ]
  },
  {
   "cell_type": "code",
   "execution_count": 1461,
   "id": "9feb5902",
   "metadata": {},
   "outputs": [
    {
     "name": "stdout",
     "output_type": "stream",
     "text": [
      "Thursday: 16432.9369\n"
     ]
    }
   ],
   "source": [
    "#THURSDAY\n",
    "thurs_no = summ_df['coef'].values[28] #ThursdayNO\n",
    "thurs_yes = summ_df['coef'].values[29]\n",
    "print(\"Thursday: \" + str(thurs_yes-thurs_no))"
   ]
  },
  {
   "cell_type": "code",
   "execution_count": 1462,
   "id": "172e8610",
   "metadata": {},
   "outputs": [
    {
     "name": "stdout",
     "output_type": "stream",
     "text": [
      "Tuesday: 12821.2097\n"
     ]
    }
   ],
   "source": [
    "#TUESDAY\n",
    "tues_no = summ_df['coef'].values[30] #TuesdayNO\n",
    "tues_yes = summ_df['coef'].values[31]\n",
    "print(\"Tuesday: \" + str(tues_yes-tues_no))"
   ]
  },
  {
   "cell_type": "code",
   "execution_count": 1463,
   "id": "7b5cd0b0",
   "metadata": {},
   "outputs": [
    {
     "name": "stdout",
     "output_type": "stream",
     "text": [
      "Wednesday: 146.9369\n"
     ]
    }
   ],
   "source": [
    "#WEDNESDAY\n",
    "wed_no = summ_df['coef'].values[32] #WednesdayNO\n",
    "wed_yes = summ_df['coef'].values[33]\n",
    "print(\"Wednesday: \" + str(wed_yes-wed_no))"
   ]
  },
  {
   "cell_type": "markdown",
   "id": "94fab370",
   "metadata": {},
   "source": [
    "Although there are other features in the linear regression model, my focus is on the interaction parameters between day of the week and promotion offering (YES or NO). As the target variable is 'attend' or attendance, the parameter coefficients will allow us to determine the relationship between independent and dependent variables when holding the other parameters constant.\n",
    "\n",
    "In terms of statistical significance at 0.1 (90%), the following two interaction parameters are significant: ThursdayYES & TuesdayYES at 0.041 and 0.051 respectively. If we are looking with a significance level of 95% or 0.05, the parameter that is statistically significant is ThursdayYES. With these significances, it indicates strong evidence against the null hypothesis. Therefore, we can reject the null hypothesis, and accept the alternative hypothesis that the parameters have a signifant relationship with our attendance target variable. \n",
    "\n",
    "Therefore, with TuesdayYES & ThursdayYES, if promotions are given on these days, the changes in attendance are both positive at 16,120 people & 17,550 people respectively. Both are relatively good increases in attendance, and would bring in a good population of people for the Dodgers!\n",
    "\n",
    "However, in order to recommend one specific day to offer promotions at Dodgers games, I wanted to isolate the change that the promotion has on the attendance counts, given the day of the week. Therefore, I found the difference between each pair of interaction terms' coefficients such as ... MondayYES & MondayNO. \n",
    "\n",
    "*One note to account for is that I am not sure how to account for Fridays. In our dataset, for any Friday games, at least one promotion was offered at them. Therefore, when creating the dummy variables for the linear regression model, it removed the FridayYES variable since it did not have a counterpart. I was going to evaluate Friday as being the change in attendance when all other variables are set to zero, which would be equal to the y-intercept of 33,650. However, given the other features in the model, I am not sure if that is accurate to say. "
   ]
  },
  {
   "cell_type": "markdown",
   "id": "5846614a",
   "metadata": {},
   "source": [
    "#### The day of the week which gave the greatest coefficient difference was Thursdays with a difference of 16,432.94 people. Therefore, I would recommend Thursdays as the best days to offer promotions at Dodgers games in order to increase attendance!"
   ]
  }
 ],
 "metadata": {
  "kernelspec": {
   "display_name": "Python 3",
   "language": "python",
   "name": "python3"
  },
  "language_info": {
   "codemirror_mode": {
    "name": "ipython",
    "version": 3
   },
   "file_extension": ".py",
   "mimetype": "text/x-python",
   "name": "python",
   "nbconvert_exporter": "python",
   "pygments_lexer": "ipython3",
   "version": "3.8.8"
  }
 },
 "nbformat": 4,
 "nbformat_minor": 5
}
