{
 "cells": [
  {
   "cell_type": "markdown",
   "id": "c2bc8ee9",
   "metadata": {},
   "source": [
    "### Calculate the probability of a model ensemble that uses simple majority voting making an incorrect prediction in the following scenarios. (Hint: Understanding how to use the binomial distribution will be useful in answering this question.)"
   ]
  },
  {
   "cell_type": "code",
   "execution_count": 219,
   "id": "15b72ee4",
   "metadata": {},
   "outputs": [],
   "source": [
    "import numpy as np\n",
    "from scipy.stats import binom\n",
    "from scipy.special import comb as choose # for nCr combination calculations"
   ]
  },
  {
   "cell_type": "markdown",
   "id": "72413b4f",
   "metadata": {},
   "source": [
    "A binomial distribution is known for finding the probability of a situation that has only two outcomes and is usually repeated multiple times.\n",
    "\n",
    "In the case of this problem, the two possible outcomes are a correct or an incorrect prediction from the model ensemble, which is why it is a great use case for this type of distribution!\n",
    "\n",
    "Binomial distributions must also meet the following criteria:\n",
    "1. The number of observations or trials is fixed. In this case, we know the number of independent models in our model ensembles and they are not changing throughout the problem, so this criteria is met!\n",
    "\n",
    "2. Each observation or trial is independent. As mentioned in the problem statements, the model ensembles contain independent models; therefore, this criteria is good!\n",
    "\n",
    "3. The probability of success is exactly the same from one trial to another. For our problems, the error rate was given which we can take as our (1-p) for the calculations. Also, this rate is not changing, so this criteria is also met.\n",
    "\n",
    "Therefore, since all three criteria are satisfied for the calculation of the probability that a model ensemble makes an incorrect prediction, we are good to use the binomial distribution to find this proability!"
   ]
  },
  {
   "cell_type": "markdown",
   "id": "f205854a",
   "metadata": {},
   "source": [
    "For the below function, it takes the total number of independent models and the \"succes\" probability (probability of success \"p\") as input parameters. Since the error rate is given to us for the model ensembles, we will take this as our probability of success since we are focusing the problem on incorrect predictions, and this probability represents the models making prediction errors. \n",
    "\n",
    "Then, in order to find the value of \"k\" for the binomial distribution, the function will divide the total number of independent models by two and round up to the nearest whole number in order to mimic majority voting of the models in the ensemble for predictions.\n",
    "\n",
    "Once these parameters are found, the function will use the scipy function binom.pmf with the needed inputs to calculate the probability of the model ensemble making an incorrect prediction.\n",
    "\n",
    "This probability will then be returned by the function as output."
   ]
  },
  {
   "cell_type": "code",
   "execution_count": 220,
   "id": "f096f2ec",
   "metadata": {},
   "outputs": [],
   "source": [
    "def binom_incorrect_prob(num_models,success_prob):\n",
    "\n",
    "    # calculate number of models to get over 50% of correct predictions by dividing num_models/2, then rounding up\n",
    "    #calculation for finding value of \"k\"\n",
    "    majority = np.ceil((num_models/2))\n",
    "    print(\"Number of models needed to account for over 50% of predictions: \",majority)\n",
    "    \n",
    "    #calculation of prediction probability using binom.pmf function from scipy\n",
    "    #k = majority\n",
    "    #n = num_models\n",
    "    #p = correct_probability\n",
    "    total_prob_incorrect = binom.pmf(k=majority,n=num_models,p=success_prob)\n",
    "    \n",
    "    return total_prob_incorrect"
   ]
  },
  {
   "cell_type": "markdown",
   "id": "abdf68a1",
   "metadata": {},
   "source": [
    "### 1. The ensemble contains 11 independent models, all of which have an error rate of 0.2. "
   ]
  },
  {
   "cell_type": "code",
   "execution_count": 221,
   "id": "22362859",
   "metadata": {},
   "outputs": [],
   "source": [
    "error_prob1 = 0.2"
   ]
  },
  {
   "cell_type": "code",
   "execution_count": 222,
   "id": "6dfdf279",
   "metadata": {},
   "outputs": [],
   "source": [
    "num_models1 = 11"
   ]
  },
  {
   "cell_type": "code",
   "execution_count": 223,
   "id": "6499b726",
   "metadata": {},
   "outputs": [
    {
     "name": "stdout",
     "output_type": "stream",
     "text": [
      "Number of models needed to account for over 50% of predictions:  6.0\n"
     ]
    }
   ],
   "source": [
    "prob_incorrect1 = binom_incorrect_prob(num_models1,error_prob1)"
   ]
  },
  {
   "cell_type": "code",
   "execution_count": 224,
   "id": "c3338540",
   "metadata": {},
   "outputs": [
    {
     "name": "stdout",
     "output_type": "stream",
     "text": [
      "Probability of this model ensemble making an incorrect prediction:  0.009688842240000004\n"
     ]
    }
   ],
   "source": [
    "print(\"Probability of this model ensemble making an incorrect prediction: \", prob_incorrect1)"
   ]
  },
  {
   "cell_type": "code",
   "execution_count": 225,
   "id": "62fc1705",
   "metadata": {},
   "outputs": [
    {
     "name": "stdout",
     "output_type": "stream",
     "text": [
      "Percentage of the time that this model ensemble makes an incorrect prediction:  0.9688842240000004 %\n"
     ]
    }
   ],
   "source": [
    "print(\"Percentage of the time that this model ensemble makes an incorrect prediction: \", prob_incorrect1*100, \"%\")"
   ]
  },
  {
   "cell_type": "markdown",
   "id": "a0b1e611",
   "metadata": {},
   "source": [
    "This probability of the model ensemble making an incorrect prediction makes sense, especially given that the error rate is only 0.2! I would expect that most of the time the models predict correctly."
   ]
  },
  {
   "cell_type": "markdown",
   "id": "d59d5f90",
   "metadata": {},
   "source": [
    "### 2. The ensemble contains 11 independent models, all of which have an error rate of 0.49."
   ]
  },
  {
   "cell_type": "code",
   "execution_count": 226,
   "id": "ab13d234",
   "metadata": {},
   "outputs": [],
   "source": [
    "error_prob2 = 0.49"
   ]
  },
  {
   "cell_type": "code",
   "execution_count": 227,
   "id": "9976c193",
   "metadata": {},
   "outputs": [],
   "source": [
    "num_models2 = 11"
   ]
  },
  {
   "cell_type": "code",
   "execution_count": 228,
   "id": "104dde8b",
   "metadata": {},
   "outputs": [
    {
     "name": "stdout",
     "output_type": "stream",
     "text": [
      "Number of models needed to account for over 50% of predictions:  6.0\n"
     ]
    }
   ],
   "source": [
    "prob_incorrect2 = binom_incorrect_prob(num_models2,error_prob2)"
   ]
  },
  {
   "cell_type": "code",
   "execution_count": 229,
   "id": "0b837447",
   "metadata": {},
   "outputs": [
    {
     "name": "stdout",
     "output_type": "stream",
     "text": [
      "Probability of this model ensemble making an incorrect prediction:  0.22063242388979068\n"
     ]
    }
   ],
   "source": [
    "print(\"Probability of this model ensemble making an incorrect prediction: \", prob_incorrect2)"
   ]
  },
  {
   "cell_type": "code",
   "execution_count": 230,
   "id": "6379f305",
   "metadata": {},
   "outputs": [
    {
     "name": "stdout",
     "output_type": "stream",
     "text": [
      "Percentage of the time that this model ensemble makes an incorrect prediction:  22.063242388979067 %\n"
     ]
    }
   ],
   "source": [
    "print(\"Percentage of the time that this model ensemble makes an incorrect prediction: \", prob_incorrect2*100, \"%\")"
   ]
  },
  {
   "cell_type": "markdown",
   "id": "341e2d44",
   "metadata": {},
   "source": [
    "Holding the number of independent models constant at 11, but with an increased error rate of 0.49, it make sense that there would be an increase in incorrect probability given the higher probability \"p\" of making an incorrect prediction. "
   ]
  },
  {
   "cell_type": "markdown",
   "id": "602b05f8",
   "metadata": {},
   "source": [
    "### 3.The ensemble contains 21 independent models, all of which have an error rate of 0.49."
   ]
  },
  {
   "cell_type": "code",
   "execution_count": 231,
   "id": "51e327b7",
   "metadata": {},
   "outputs": [],
   "source": [
    "error_prob3 = 0.49"
   ]
  },
  {
   "cell_type": "code",
   "execution_count": 232,
   "id": "52178bea",
   "metadata": {},
   "outputs": [],
   "source": [
    "num_models3 = 21"
   ]
  },
  {
   "cell_type": "code",
   "execution_count": 233,
   "id": "3b060131",
   "metadata": {},
   "outputs": [
    {
     "name": "stdout",
     "output_type": "stream",
     "text": [
      "Number of models needed to account for over 50% of predictions:  11.0\n"
     ]
    }
   ],
   "source": [
    "prob_incorrect3 = binom_incorrect_prob(num_models3,error_prob3)"
   ]
  },
  {
   "cell_type": "code",
   "execution_count": 234,
   "id": "eb35fb55",
   "metadata": {},
   "outputs": [
    {
     "name": "stdout",
     "output_type": "stream",
     "text": [
      "Probability of this model ensemble making an incorrect prediction:  0.1641662213283881\n"
     ]
    }
   ],
   "source": [
    "print(\"Probability of this model ensemble making an incorrect prediction: \", prob_incorrect3)"
   ]
  },
  {
   "cell_type": "code",
   "execution_count": 235,
   "id": "f1fad9f1",
   "metadata": {},
   "outputs": [
    {
     "name": "stdout",
     "output_type": "stream",
     "text": [
      "Percentage of the time that this model ensemble makes an incorrect prediction:  16.41662213283881 %\n"
     ]
    }
   ],
   "source": [
    "print(\"Percentage of the time that this model ensemble makes an incorrect prediction: \", prob_incorrect3*100, \"%\")"
   ]
  },
  {
   "cell_type": "markdown",
   "id": "b6a00276",
   "metadata": {},
   "source": [
    "Error rate stays the same but number of independent models increases .... more possibilities for predictions in the majority voting which leads to a lower probability of making an incorrect prediction, compared to the one above. "
   ]
  },
  {
   "cell_type": "code",
   "execution_count": null,
   "id": "67d60858",
   "metadata": {},
   "outputs": [],
   "source": []
  }
 ],
 "metadata": {
  "kernelspec": {
   "display_name": "Python 3 (ipykernel)",
   "language": "python",
   "name": "python3"
  },
  "language_info": {
   "codemirror_mode": {
    "name": "ipython",
    "version": 3
   },
   "file_extension": ".py",
   "mimetype": "text/x-python",
   "name": "python",
   "nbconvert_exporter": "python",
   "pygments_lexer": "ipython3",
   "version": "3.8.8"
  }
 },
 "nbformat": 4,
 "nbformat_minor": 5
}
